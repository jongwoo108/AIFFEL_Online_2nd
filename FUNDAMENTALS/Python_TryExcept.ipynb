{
  "nbformat": 4,
  "nbformat_minor": 0,
  "metadata": {
    "colab": {
      "provenance": []
    },
    "kernelspec": {
      "name": "python3",
      "display_name": "Python 3"
    },
    "language_info": {
      "name": "python"
    }
  },
  "cells": [
    {
      "cell_type": "code",
      "execution_count": 1,
      "metadata": {
        "colab": {
          "base_uri": "https://localhost:8080/"
        },
        "id": "OM-djym6GbwV",
        "outputId": "8fe1a734-d60a-4eea-dc36-7b76a9ff9bcb"
      },
      "outputs": [
        {
          "output_type": "stream",
          "name": "stdout",
          "text": [
            "에러가 발생했습니다.\n"
          ]
        }
      ],
      "source": [
        "a = 10\n",
        "b = 0\n",
        "try:\n",
        "    print(a/b)\n",
        "except:\n",
        "    print('에러가 발생했습니다.')"
      ]
    },
    {
      "cell_type": "code",
      "source": [
        "a = 10\n",
        "b = 1\n",
        "\n",
        "try:\n",
        "    print(a/b)\n",
        "except:\n",
        "    print('에러가 발생했습니다.')"
      ],
      "metadata": {
        "colab": {
          "base_uri": "https://localhost:8080/"
        },
        "id": "haFYipFwGzpO",
        "outputId": "60eb47c3-cfb0-4e5d-987d-a7f2396006cb"
      },
      "execution_count": 2,
      "outputs": [
        {
          "output_type": "stream",
          "name": "stdout",
          "text": [
            "10.0\n"
          ]
        }
      ]
    },
    {
      "cell_type": "code",
      "source": [
        "a = 10\n",
        "b = 0\n",
        "try:\n",
        "    print(a/b)\n",
        "\n",
        "except:\n",
        "    print('에러가 발생했습니다.')\n",
        "\n",
        "    b = b+1\n",
        "    print(\"값 수정 : \", a/b)"
      ],
      "metadata": {
        "colab": {
          "base_uri": "https://localhost:8080/"
        },
        "id": "cG8Qqz8gG--P",
        "outputId": "c76784ef-4c58-43e2-87ed-46f94ef08657"
      },
      "execution_count": 3,
      "outputs": [
        {
          "output_type": "stream",
          "name": "stdout",
          "text": [
            "에러가 발생했습니다.\n",
            "값 수정 :  10.0\n"
          ]
        }
      ]
    },
    {
      "cell_type": "code",
      "source": [],
      "metadata": {
        "id": "koor08rlHQbY"
      },
      "execution_count": null,
      "outputs": []
    }
  ]
}