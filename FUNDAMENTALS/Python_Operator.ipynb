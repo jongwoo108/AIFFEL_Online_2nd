{
  "nbformat": 4,
  "nbformat_minor": 0,
  "metadata": {
    "colab": {
      "provenance": []
    },
    "kernelspec": {
      "name": "python3",
      "display_name": "Python 3"
    },
    "language_info": {
      "name": "python"
    }
  },
  "cells": [
    {
      "cell_type": "markdown",
      "source": [
        "연산자"
      ],
      "metadata": {
        "id": "l95s4G3ypjHU"
      }
    },
    {
      "cell_type": "markdown",
      "source": [
        "* = 는 대입연산자 ==는 비교연산자\n",
        "* ==는 좌변, 우변이 같으면 True, 다르면 False를 리턴"
      ],
      "metadata": {
        "id": "d_dSikgyqBkF"
      }
    },
    {
      "cell_type": "code",
      "source": [
        "8 == 9"
      ],
      "metadata": {
        "colab": {
          "base_uri": "https://localhost:8080/"
        },
        "id": "9ksMDt5wqLAh",
        "outputId": "19b40599-f256-4193-84fc-bfe93173c352"
      },
      "execution_count": null,
      "outputs": [
        {
          "output_type": "execute_result",
          "data": {
            "text/plain": [
              "False"
            ]
          },
          "metadata": {},
          "execution_count": 1
        }
      ]
    },
    {
      "cell_type": "code",
      "source": [
        "8 != 9"
      ],
      "metadata": {
        "colab": {
          "base_uri": "https://localhost:8080/"
        },
        "id": "Q-pwkih8qMwR",
        "outputId": "9c9cdab0-8403-4c46-fefc-765e67d72b0e"
      },
      "execution_count": null,
      "outputs": [
        {
          "output_type": "execute_result",
          "data": {
            "text/plain": [
              "True"
            ]
          },
          "metadata": {},
          "execution_count": 2
        }
      ]
    },
    {
      "cell_type": "code",
      "source": [
        "8 =! 9"
      ],
      "metadata": {
        "colab": {
          "base_uri": "https://localhost:8080/",
          "height": 144
        },
        "id": "uJbc2_-4qQlC",
        "outputId": "d7b8edc7-d9bf-4ed4-cea0-3d02526b4d01"
      },
      "execution_count": null,
      "outputs": [
        {
          "output_type": "error",
          "ename": "SyntaxError",
          "evalue": "ignored",
          "traceback": [
            "\u001b[0;36m  File \u001b[0;32m\"<ipython-input-3-ecd742c3a844>\"\u001b[0;36m, line \u001b[0;32m1\u001b[0m\n\u001b[0;31m    8 =get_ipython().getoutput(' 9')\u001b[0m\n\u001b[0m    ^\u001b[0m\n\u001b[0;31mSyntaxError\u001b[0m\u001b[0;31m:\u001b[0m cannot assign to literal here. Maybe you meant '==' instead of '='?\n"
          ]
        }
      ]
    },
    {
      "cell_type": "markdown",
      "source": [
        "논리연산자"
      ],
      "metadata": {
        "id": "4nEjvy0gqSay"
      }
    },
    {
      "cell_type": "markdown",
      "source": [
        "* and 두 조건이 모두 참일 때 True를 리턴\n",
        "* or 두 조건 중 하나라도 참일 때 True를 리턴\n",
        "* not 조건을 반대로 뒤집음"
      ],
      "metadata": {
        "id": "q8_DGce5qWXr"
      }
    },
    {
      "cell_type": "code",
      "source": [
        "#True and True 일 때\n",
        "3 >= 1 and 3 >= 2"
      ],
      "metadata": {
        "colab": {
          "base_uri": "https://localhost:8080/"
        },
        "id": "_FNgePo4qsJA",
        "outputId": "d395d457-2b3f-48c6-c6fd-7ba0d6717bc9"
      },
      "execution_count": 2,
      "outputs": [
        {
          "output_type": "execute_result",
          "data": {
            "text/plain": [
              "True"
            ]
          },
          "metadata": {},
          "execution_count": 2
        }
      ]
    },
    {
      "cell_type": "code",
      "source": [
        "#False and True 일 때\n",
        "3 >= 1 and 3 >= 4"
      ],
      "metadata": {
        "id": "VELtMalzqwu_",
        "colab": {
          "base_uri": "https://localhost:8080/"
        },
        "outputId": "a4ef7fb3-aeef-43cd-9c76-4543a6197db3"
      },
      "execution_count": 3,
      "outputs": [
        {
          "output_type": "execute_result",
          "data": {
            "text/plain": [
              "False"
            ]
          },
          "metadata": {},
          "execution_count": 3
        }
      ]
    },
    {
      "cell_type": "code",
      "source": [
        "#False or True 일 때\n",
        "3 >= 1 or 3 >= 4"
      ],
      "metadata": {
        "colab": {
          "base_uri": "https://localhost:8080/"
        },
        "id": "6epvEkkGGpj1",
        "outputId": "d7ff8689-fc8d-41a3-beac-0d2b7c8977e7"
      },
      "execution_count": 4,
      "outputs": [
        {
          "output_type": "execute_result",
          "data": {
            "text/plain": [
              "True"
            ]
          },
          "metadata": {},
          "execution_count": 4
        }
      ]
    },
    {
      "cell_type": "code",
      "source": [
        "# not True -> False\n",
        "not 3 > 1"
      ],
      "metadata": {
        "colab": {
          "base_uri": "https://localhost:8080/"
        },
        "id": "HdCy2j7GHi7c",
        "outputId": "f455869e-5a78-46b9-926d-715aca467ff3"
      },
      "execution_count": 5,
      "outputs": [
        {
          "output_type": "execute_result",
          "data": {
            "text/plain": [
              "False"
            ]
          },
          "metadata": {},
          "execution_count": 5
        }
      ]
    },
    {
      "cell_type": "code",
      "source": [
        "# not False -> True\n",
        "not 3 > 5"
      ],
      "metadata": {
        "colab": {
          "base_uri": "https://localhost:8080/"
        },
        "id": "iP4XEVBdHnea",
        "outputId": "8c9efe06-a26c-41bd-c263-bd429ed3b65c"
      },
      "execution_count": 6,
      "outputs": [
        {
          "output_type": "execute_result",
          "data": {
            "text/plain": [
              "True"
            ]
          },
          "metadata": {},
          "execution_count": 6
        }
      ]
    },
    {
      "cell_type": "markdown",
      "source": [
        "기타 연산자"
      ],
      "metadata": {
        "id": "baSDnJqZHqen"
      }
    },
    {
      "cell_type": "markdown",
      "source": [
        "리스트 확인하기"
      ],
      "metadata": {
        "id": "hdX-0gcwHu2_"
      }
    },
    {
      "cell_type": "code",
      "source": [
        "1 in [1, 3, 5, 7, 9]"
      ],
      "metadata": {
        "colab": {
          "base_uri": "https://localhost:8080/"
        },
        "id": "-yuSncUCHx9F",
        "outputId": "0f1fac75-bafe-46fd-f819-b32265a594ec"
      },
      "execution_count": 7,
      "outputs": [
        {
          "output_type": "execute_result",
          "data": {
            "text/plain": [
              "True"
            ]
          },
          "metadata": {},
          "execution_count": 7
        }
      ]
    },
    {
      "cell_type": "code",
      "source": [
        "1 not in [1, 3, 5, 7, 9]"
      ],
      "metadata": {
        "colab": {
          "base_uri": "https://localhost:8080/"
        },
        "id": "CAZDJjqbH0YA",
        "outputId": "f87985f6-75ae-4e33-f201-5a6f8dc5025d"
      },
      "execution_count": 8,
      "outputs": [
        {
          "output_type": "execute_result",
          "data": {
            "text/plain": [
              "False"
            ]
          },
          "metadata": {},
          "execution_count": 8
        }
      ]
    },
    {
      "cell_type": "code",
      "source": [
        "# 튜플 확인해보기\n",
        "'a' not in ('a', 'i', 'i', 'f', 'e', 'l')"
      ],
      "metadata": {
        "colab": {
          "base_uri": "https://localhost:8080/"
        },
        "id": "MALC5VXLH2jn",
        "outputId": "102c087d-82a2-4a08-cba8-1e9d738a265c"
      },
      "execution_count": 9,
      "outputs": [
        {
          "output_type": "execute_result",
          "data": {
            "text/plain": [
              "False"
            ]
          },
          "metadata": {},
          "execution_count": 9
        }
      ]
    },
    {
      "cell_type": "code",
      "source": [
        "# 문자열 확인해보기\n",
        "'y' in 'python'"
      ],
      "metadata": {
        "colab": {
          "base_uri": "https://localhost:8080/"
        },
        "id": "BNGFlyF4H-2F",
        "outputId": "3e077cf2-9791-4d02-f2d4-d6ff84659a03"
      },
      "execution_count": 10,
      "outputs": [
        {
          "output_type": "execute_result",
          "data": {
            "text/plain": [
              "True"
            ]
          },
          "metadata": {},
          "execution_count": 10
        }
      ]
    },
    {
      "cell_type": "markdown",
      "source": [
        "if 조건문"
      ],
      "metadata": {
        "id": "kl9S9aF6IBim"
      }
    },
    {
      "cell_type": "code",
      "source": [
        "# 0이 아닌 숫자는 True\n",
        "if 1:\n",
        "    print('조건이 참이니까 출력')"
      ],
      "metadata": {
        "colab": {
          "base_uri": "https://localhost:8080/"
        },
        "id": "O3Ac14-qIiRl",
        "outputId": "0a37839b-2af0-4b4e-90f9-31bb0ff89bda"
      },
      "execution_count": 13,
      "outputs": [
        {
          "output_type": "stream",
          "name": "stdout",
          "text": [
            "조건이 참이니까 출력\n"
          ]
        }
      ]
    },
    {
      "cell_type": "code",
      "source": [
        "# 0은 False\n",
        "if 0:\n",
        "    print('과연 이건 출력이 될 것인가')\n"
      ],
      "metadata": {
        "id": "L34dnTW1ImQg"
      },
      "execution_count": 14,
      "outputs": []
    },
    {
      "cell_type": "code",
      "source": [
        "num = 10\n",
        "if num > 5:\n",
        "    print('num는')\n",
        "    print('5보다')\n",
        "    print('큽니다.')"
      ],
      "metadata": {
        "colab": {
          "base_uri": "https://localhost:8080/"
        },
        "id": "OORBNn0cJ5V0",
        "outputId": "0b6d2877-3869-4164-86f7-2da1fa11511f"
      },
      "execution_count": 15,
      "outputs": [
        {
          "output_type": "stream",
          "name": "stdout",
          "text": [
            "num는\n",
            "5보다\n",
            "큽니다.\n"
          ]
        }
      ]
    },
    {
      "cell_type": "code",
      "source": [
        "# if 문 예시\n",
        "a = 7\n",
        "if a == 7:\n",
        "    print('Lucky!')"
      ],
      "metadata": {
        "colab": {
          "base_uri": "https://localhost:8080/"
        },
        "id": "mYYdI4QMb912",
        "outputId": "15d44313-7520-4d8b-817f-e6185667a86e"
      },
      "execution_count": 18,
      "outputs": [
        {
          "output_type": "stream",
          "name": "stdout",
          "text": [
            "Lucky!\n"
          ]
        }
      ]
    },
    {
      "cell_type": "code",
      "source": [
        "a = 7\n",
        "if a == 7:\n",
        "    print(\"Lucky!\")"
      ],
      "metadata": {
        "colab": {
          "base_uri": "https://localhost:8080/"
        },
        "id": "wYtJph5CcAo-",
        "outputId": "2e1ce795-7687-4431-a08d-2754fe2987c8"
      },
      "execution_count": 19,
      "outputs": [
        {
          "output_type": "stream",
          "name": "stdout",
          "text": [
            "Lucky!\n"
          ]
        }
      ]
    },
    {
      "cell_type": "code",
      "source": [
        "score = 50\n",
        "if score >= 65:\n",
        "    print('합격')\n",
        "else:\n",
        "    print('불합격')"
      ],
      "metadata": {
        "colab": {
          "base_uri": "https://localhost:8080/"
        },
        "id": "Fs57_ZxrcNyq",
        "outputId": "bf90d9ff-bd01-48de-8844-23e8a20e9b5b"
      },
      "execution_count": 21,
      "outputs": [
        {
          "output_type": "stream",
          "name": "stdout",
          "text": [
            "불합격\n"
          ]
        }
      ]
    },
    {
      "cell_type": "code",
      "source": [
        "money = int(input('현재 돈이 얼마인지?'))\n",
        "if money >= 16000:\n",
        "    print('택시도 타고, 커피도 사먹는다.')\n",
        "elif money >= 12000:\n",
        "    print('커피는 포기하고 택시를 탄다.')\n",
        "elif money >= 5300:\n",
        "    print('아메리카노 사고 버스에 탄다.')\n",
        "else:\n",
        "    print('목이 마른건 참고 버스를 탄다.')"
      ],
      "metadata": {
        "colab": {
          "base_uri": "https://localhost:8080/"
        },
        "id": "duOZs3sAcXH4",
        "outputId": "f97b7abf-94ea-4e18-c986-6d9ff4dcede1"
      },
      "execution_count": 22,
      "outputs": [
        {
          "output_type": "stream",
          "name": "stdout",
          "text": [
            "현재 돈이 얼마인지?20000\n",
            "택시도 타고, 커피도 사먹는다.\n"
          ]
        }
      ]
    },
    {
      "cell_type": "code",
      "source": [
        "x = 4\n",
        "if x % 2 == 0:\n",
        "    print('짝수입니다.')"
      ],
      "metadata": {
        "colab": {
          "base_uri": "https://localhost:8080/"
        },
        "id": "212eVmAjcstx",
        "outputId": "a5cea740-02a8-4b74-b236-fcf972392b03"
      },
      "execution_count": 23,
      "outputs": [
        {
          "output_type": "stream",
          "name": "stdout",
          "text": [
            "짝수입니다.\n"
          ]
        }
      ]
    },
    {
      "cell_type": "code",
      "source": [
        "6 % 4"
      ],
      "metadata": {
        "colab": {
          "base_uri": "https://localhost:8080/"
        },
        "id": "IYT3rIeQc2X-",
        "outputId": "68459c04-cc35-427b-d964-5803f095a512"
      },
      "execution_count": 24,
      "outputs": [
        {
          "output_type": "execute_result",
          "data": {
            "text/plain": [
              "2"
            ]
          },
          "metadata": {},
          "execution_count": 24
        }
      ]
    },
    {
      "cell_type": "code",
      "source": [
        "x = 4\n",
        "if x % 2 == 0: # x가 짝수인지 확인하는 조건\n",
        "    print('짝수입니다')"
      ],
      "metadata": {
        "colab": {
          "base_uri": "https://localhost:8080/"
        },
        "id": "VrwlTg1Cc4eo",
        "outputId": "d8150600-c47e-4a97-bc08-0e0e865b6b4b"
      },
      "execution_count": 25,
      "outputs": [
        {
          "output_type": "stream",
          "name": "stdout",
          "text": [
            "짝수입니다\n"
          ]
        }
      ]
    },
    {
      "cell_type": "code",
      "source": [
        "x = 5\n",
        "if x % 2 == 0:\n",
        "    print('짝수입니다.')\n",
        "else:\n",
        "    print('홀수입니다.')"
      ],
      "metadata": {
        "colab": {
          "base_uri": "https://localhost:8080/"
        },
        "id": "20KRb-jDc_Ul",
        "outputId": "51826611-01b4-4d88-c3a2-8c88b9e4990f"
      },
      "execution_count": 26,
      "outputs": [
        {
          "output_type": "stream",
          "name": "stdout",
          "text": [
            "홀수입니다.\n"
          ]
        }
      ]
    },
    {
      "cell_type": "code",
      "source": [
        "x = 5\n",
        "if x % 2 == 0: #x가 짝수인지 확인하는 조건\n",
        "    print('짝수입니다')\n",
        "else: #짝수가 아닌 수를 확인하는 조건\n",
        "    print('홀수입니다.')"
      ],
      "metadata": {
        "colab": {
          "base_uri": "https://localhost:8080/"
        },
        "id": "wbUJQlYvdFdp",
        "outputId": "162bab4c-032b-4ad9-8c40-d07975bf91ec"
      },
      "execution_count": 27,
      "outputs": [
        {
          "output_type": "stream",
          "name": "stdout",
          "text": [
            "홀수입니다.\n"
          ]
        }
      ]
    },
    {
      "cell_type": "code",
      "source": [
        "x = 120\n",
        "if x % 10 == 0:\n",
        "    print('10의 배수입니다.')\n",
        "elif x % 2 == 0 or x % 5 == 0:\n",
        "    print('2 또는 5의 배수입니다')\n",
        "else :\n",
        "    print('2 와 5의 배수가 아닙니다.')"
      ],
      "metadata": {
        "colab": {
          "base_uri": "https://localhost:8080/"
        },
        "id": "z3fQqDbVdP6O",
        "outputId": "eb70c854-bb77-4d14-94da-ad501deb500c"
      },
      "execution_count": 28,
      "outputs": [
        {
          "output_type": "stream",
          "name": "stdout",
          "text": [
            "10의 배수입니다.\n"
          ]
        }
      ]
    },
    {
      "cell_type": "code",
      "source": [
        "x = 7\n",
        "if x % 10 == 0:\n",
        "    print('10의 배수입니다')\n",
        "elif x % 2 == 0 or x % 5 == 0:\n",
        "    print('2 또는 5의 배수입니다.')\n",
        "else:\n",
        "    print('2와 5의 배수가 아닙니다.')"
      ],
      "metadata": {
        "colab": {
          "base_uri": "https://localhost:8080/"
        },
        "id": "qCTiXf0Bgz7_",
        "outputId": "45af6cde-c9e3-44ff-db81-e1035438afd4"
      },
      "execution_count": 29,
      "outputs": [
        {
          "output_type": "stream",
          "name": "stdout",
          "text": [
            "2와 5의 배수가 아닙니다.\n"
          ]
        }
      ]
    },
    {
      "cell_type": "code",
      "source": [],
      "metadata": {
        "id": "LK1jQxqRhALU"
      },
      "execution_count": null,
      "outputs": []
    }
  ]
}