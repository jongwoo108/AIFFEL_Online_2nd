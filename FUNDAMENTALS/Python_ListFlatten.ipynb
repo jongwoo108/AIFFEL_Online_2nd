{
  "nbformat": 4,
  "nbformat_minor": 0,
  "metadata": {
    "colab": {
      "provenance": []
    },
    "kernelspec": {
      "name": "python3",
      "display_name": "Python 3"
    },
    "language_info": {
      "name": "python"
    }
  },
  "cells": [
    {
      "cell_type": "code",
      "execution_count": null,
      "metadata": {
        "id": "F6FYrjFBIwvU"
      },
      "outputs": [],
      "source": [
        "overlap = [[1, 2], 3, [[4, 5, 6], 7], 8, 9]"
      ]
    },
    {
      "cell_type": "code",
      "source": [
        "for element in overlap:\n",
        "    print(element)"
      ],
      "metadata": {
        "colab": {
          "base_uri": "https://localhost:8080/"
        },
        "id": "xufXsNANI9Gh",
        "outputId": "1416e66d-af3a-4447-985b-d7d0cf4fc219"
      },
      "execution_count": null,
      "outputs": [
        {
          "output_type": "stream",
          "name": "stdout",
          "text": [
            "[1, 2]\n",
            "3\n",
            "[[4, 5, 6], 7]\n",
            "8\n",
            "9\n"
          ]
        }
      ]
    },
    {
      "cell_type": "code",
      "source": [
        "a = [[1, 2], 3, [[4, 5, 6], 7], 8, 9]\n",
        "\n",
        "def flatten(data):\n",
        "    return output"
      ],
      "metadata": {
        "id": "bn9E25exJCim"
      },
      "execution_count": null,
      "outputs": []
    },
    {
      "cell_type": "code",
      "source": [
        "type(a[0])"
      ],
      "metadata": {
        "colab": {
          "base_uri": "https://localhost:8080/"
        },
        "id": "Nx2y1VcqJKSq",
        "outputId": "94a1ba73-a6d5-4b3d-8f59-1945a9cb5926"
      },
      "execution_count": null,
      "outputs": [
        {
          "output_type": "execute_result",
          "data": {
            "text/plain": [
              "list"
            ]
          },
          "metadata": {},
          "execution_count": 4
        }
      ]
    },
    {
      "cell_type": "code",
      "source": [
        "def flatten(data):\n",
        "    output = []             #빈 리스트 만들기\n",
        "    for item in data:       #반복문\n",
        "        if type(item) == list:\n",
        "            output += flatten(item)\n",
        "        else:               #리스트가 아닐 때\n",
        "            output.append(item)\n",
        "    return output"
      ],
      "metadata": {
        "id": "N6JFTM1_JMsX"
      },
      "execution_count": 4,
      "outputs": []
    },
    {
      "cell_type": "code",
      "source": [
        "a = [[1, 2], 3, [[4, 5, 6], 7], 8, 9]"
      ],
      "metadata": {
        "id": "k6foiT9QaTSD"
      },
      "execution_count": 5,
      "outputs": []
    },
    {
      "cell_type": "code",
      "source": [
        "flatten(a)"
      ],
      "metadata": {
        "colab": {
          "base_uri": "https://localhost:8080/"
        },
        "id": "tCkDXn4raYv_",
        "outputId": "efffce58-ce03-41d6-9a3d-f4582b48323a"
      },
      "execution_count": 6,
      "outputs": [
        {
          "output_type": "execute_result",
          "data": {
            "text/plain": [
              "[1, 2, 3, 4, 5, 6, 7, 8, 9]"
            ]
          },
          "metadata": {},
          "execution_count": 6
        }
      ]
    }
  ]
}