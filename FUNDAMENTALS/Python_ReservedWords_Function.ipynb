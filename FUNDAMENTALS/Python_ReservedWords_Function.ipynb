{
  "nbformat": 4,
  "nbformat_minor": 0,
  "metadata": {
    "colab": {
      "provenance": []
    },
    "kernelspec": {
      "name": "python3",
      "display_name": "Python 3"
    },
    "language_info": {
      "name": "python"
    }
  },
  "cells": [
    {
      "cell_type": "code",
      "execution_count": 2,
      "metadata": {
        "colab": {
          "base_uri": "https://localhost:8080/"
        },
        "id": "8axvcHhVJHuv",
        "outputId": "6727e55c-7b2b-4814-ad09-2919a3955f1f"
      },
      "outputs": [
        {
          "output_type": "stream",
          "name": "stdout",
          "text": [
            "Python 3.10.12\n"
          ]
        }
      ],
      "source": [
        "#파이썬 버전확인\n",
        "!python --version"
      ]
    },
    {
      "cell_type": "code",
      "source": [
        "# 파이썬 예약어 리스트 출력하기\n",
        "import keyword\n",
        "keyword.kwlist"
      ],
      "metadata": {
        "colab": {
          "base_uri": "https://localhost:8080/"
        },
        "id": "MgTU4lP1M3AO",
        "outputId": "82133a5d-57cd-4172-a1b4-583fa59cdcda"
      },
      "execution_count": 3,
      "outputs": [
        {
          "output_type": "execute_result",
          "data": {
            "text/plain": [
              "['False',\n",
              " 'None',\n",
              " 'True',\n",
              " 'and',\n",
              " 'as',\n",
              " 'assert',\n",
              " 'async',\n",
              " 'await',\n",
              " 'break',\n",
              " 'class',\n",
              " 'continue',\n",
              " 'def',\n",
              " 'del',\n",
              " 'elif',\n",
              " 'else',\n",
              " 'except',\n",
              " 'finally',\n",
              " 'for',\n",
              " 'from',\n",
              " 'global',\n",
              " 'if',\n",
              " 'import',\n",
              " 'in',\n",
              " 'is',\n",
              " 'lambda',\n",
              " 'nonlocal',\n",
              " 'not',\n",
              " 'or',\n",
              " 'pass',\n",
              " 'raise',\n",
              " 'return',\n",
              " 'try',\n",
              " 'while',\n",
              " 'with',\n",
              " 'yield']"
            ]
          },
          "metadata": {},
          "execution_count": 3
        }
      ]
    },
    {
      "cell_type": "code",
      "source": [
        "# 예약어 리스트의 개수\n",
        "len(keyword.kwlist)"
      ],
      "metadata": {
        "colab": {
          "base_uri": "https://localhost:8080/"
        },
        "id": "gikyzRQ9NEc_",
        "outputId": "dda6527d-314b-4771-b036-6af4215268ad"
      },
      "execution_count": 4,
      "outputs": [
        {
          "output_type": "execute_result",
          "data": {
            "text/plain": [
              "35"
            ]
          },
          "metadata": {},
          "execution_count": 4
        }
      ]
    },
    {
      "cell_type": "code",
      "source": [
        "# None 데이터 타입 찍어보기\n",
        "type(None)"
      ],
      "metadata": {
        "colab": {
          "base_uri": "https://localhost:8080/"
        },
        "id": "cXTcWrdcPcWd",
        "outputId": "00c4d17f-8211-4878-d4b8-cc4febadedff"
      },
      "execution_count": 5,
      "outputs": [
        {
          "output_type": "execute_result",
          "data": {
            "text/plain": [
              "NoneType"
            ]
          },
          "metadata": {},
          "execution_count": 5
        }
      ]
    },
    {
      "cell_type": "code",
      "source": [
        "def add(a, b):      #함수 이름은 add이고 입력 두개(a, b)값을 받으면\n",
        "    return a + b    #리턴값은 입력 두개(a, b)를 더한 값이다.\n"
      ],
      "metadata": {
        "id": "9Ft4QC-nPoWi"
      },
      "execution_count": 6,
      "outputs": []
    },
    {
      "cell_type": "code",
      "source": [
        "add(1, 2)"
      ],
      "metadata": {
        "colab": {
          "base_uri": "https://localhost:8080/"
        },
        "id": "pLziIOpgQLmy",
        "outputId": "344c598b-625f-4781-a492-f8da60e6f03c"
      },
      "execution_count": 7,
      "outputs": [
        {
          "output_type": "execute_result",
          "data": {
            "text/plain": [
              "3"
            ]
          },
          "metadata": {},
          "execution_count": 7
        }
      ]
    },
    {
      "cell_type": "markdown",
      "source": [
        "### 입력값, 결과값이 있는함수\n",
        "입력값, 결과값이 있는 함수는 가장 일반적인 함수"
      ],
      "metadata": {
        "id": "Q33t6askQuhY"
      }
    },
    {
      "cell_type": "code",
      "source": [
        "# 입력값, 결과값이 있는 함수\n",
        "\n",
        "def divide(a, b):\n",
        "    return a/b\n",
        "\n",
        "divide(10, 3)"
      ],
      "metadata": {
        "colab": {
          "base_uri": "https://localhost:8080/"
        },
        "id": "E5d1a_CeQkd9",
        "outputId": "1f14fc47-db7f-4950-b463-798b26bdf0ee"
      },
      "execution_count": 8,
      "outputs": [
        {
          "output_type": "execute_result",
          "data": {
            "text/plain": [
              "3.3333333333333335"
            ]
          },
          "metadata": {},
          "execution_count": 8
        }
      ]
    },
    {
      "cell_type": "markdown",
      "source": [
        "### 입력값이 없는 함수\n",
        "입력값이 없는 함수도 있다.\\\n",
        "함수를 만들 때 매개변수를 넣지 않고 괄호를 비워둔다"
      ],
      "metadata": {
        "id": "By0X0Hj5QsN2"
      }
    },
    {
      "cell_type": "code",
      "source": [
        "def hello():\n",
        "    return 'hi!'"
      ],
      "metadata": {
        "id": "uU-dto6vRD9K"
      },
      "execution_count": 10,
      "outputs": []
    },
    {
      "cell_type": "code",
      "source": [
        "hello()"
      ],
      "metadata": {
        "colab": {
          "base_uri": "https://localhost:8080/",
          "height": 35
        },
        "id": "F2D9YOz5RJap",
        "outputId": "440fc407-cd03-4f3e-9838-e5f08da633b8"
      },
      "execution_count": 11,
      "outputs": [
        {
          "output_type": "execute_result",
          "data": {
            "text/plain": [
              "'hi!'"
            ],
            "application/vnd.google.colaboratory.intrinsic+json": {
              "type": "string"
            }
          },
          "metadata": {},
          "execution_count": 11
        }
      ]
    },
    {
      "cell_type": "markdown",
      "source": [
        "### 결과값이 없는 함수"
      ],
      "metadata": {
        "id": "R78zeHlNRLkw"
      }
    },
    {
      "cell_type": "code",
      "source": [
        "def repeat(a, b):\n",
        "    print(a*b)\n"
      ],
      "metadata": {
        "id": "r73QLgnXRV3h"
      },
      "execution_count": 12,
      "outputs": []
    },
    {
      "cell_type": "code",
      "source": [
        "repeat('aiffel', 3)"
      ],
      "metadata": {
        "colab": {
          "base_uri": "https://localhost:8080/"
        },
        "id": "aWRJ39xERdCJ",
        "outputId": "c3f00b42-c132-43bf-c9f8-e1771524e1ec"
      },
      "execution_count": 13,
      "outputs": [
        {
          "output_type": "stream",
          "name": "stdout",
          "text": [
            "aiffelaiffelaiffel\n"
          ]
        }
      ]
    },
    {
      "cell_type": "markdown",
      "source": [
        "결과값 = 리턴값"
      ],
      "metadata": {
        "id": "iLUzjOZ6ReWh"
      }
    },
    {
      "cell_type": "code",
      "source": [
        "check = repeat('aiffel', 3)"
      ],
      "metadata": {
        "colab": {
          "base_uri": "https://localhost:8080/"
        },
        "id": "5PIFSDHTRpVD",
        "outputId": "1fbf4017-7cec-482d-ea68-c0b02af1bfaa"
      },
      "execution_count": 14,
      "outputs": [
        {
          "output_type": "stream",
          "name": "stdout",
          "text": [
            "aiffelaiffelaiffel\n"
          ]
        }
      ]
    },
    {
      "cell_type": "code",
      "source": [
        "print(check)"
      ],
      "metadata": {
        "colab": {
          "base_uri": "https://localhost:8080/"
        },
        "id": "dtCzhaHaRuZ_",
        "outputId": "588312f4-a92f-47d1-c588-5122fc9655ed"
      },
      "execution_count": 15,
      "outputs": [
        {
          "output_type": "stream",
          "name": "stdout",
          "text": [
            "None\n"
          ]
        }
      ]
    },
    {
      "cell_type": "markdown",
      "source": [
        "repeat 함수가 호출되어 출력값이 나왔지만 해당 함수를 할당한 check 변수를 출력하면 None이 나오는 것을 확인할 수 있다.\\\n",
        "None은 값이 없음을 뜻한다."
      ],
      "metadata": {
        "id": "_eX8IbO0RvEl"
      }
    },
    {
      "cell_type": "markdown",
      "source": [
        "### 입력값도 결과값도 없는 함수"
      ],
      "metadata": {
        "id": "ylRznyEdR7Ai"
      }
    },
    {
      "cell_type": "code",
      "source": [
        "def repeat():                   # repeat이라는 함수는\n",
        "    print('Hello! Python')      # 'Hello! Python!' 출력한다.\n",
        ""
      ],
      "metadata": {
        "id": "Z__uMo1qSBAq"
      },
      "execution_count": 16,
      "outputs": []
    },
    {
      "cell_type": "code",
      "source": [
        "repeat()"
      ],
      "metadata": {
        "colab": {
          "base_uri": "https://localhost:8080/"
        },
        "id": "9-2i7mV4SLhJ",
        "outputId": "f48e0042-0c9a-4b04-9439-6fe12ab32f2e"
      },
      "execution_count": 17,
      "outputs": [
        {
          "output_type": "stream",
          "name": "stdout",
          "text": [
            "Hello! Python\n"
          ]
        }
      ]
    },
    {
      "cell_type": "code",
      "source": [
        "a = repeat()"
      ],
      "metadata": {
        "colab": {
          "base_uri": "https://localhost:8080/"
        },
        "id": "4ogOzo6SSMPi",
        "outputId": "09aa92ae-e209-43ec-ee53-ea8976d544c7"
      },
      "execution_count": 18,
      "outputs": [
        {
          "output_type": "stream",
          "name": "stdout",
          "text": [
            "Hello! Python\n"
          ]
        }
      ]
    },
    {
      "cell_type": "code",
      "source": [
        "print(a)"
      ],
      "metadata": {
        "colab": {
          "base_uri": "https://localhost:8080/"
        },
        "id": "BEpTnbZrSN4I",
        "outputId": "8efe60d4-ebec-4869-a340-60c43c7111f7"
      },
      "execution_count": 19,
      "outputs": [
        {
          "output_type": "stream",
          "name": "stdout",
          "text": [
            "None\n"
          ]
        }
      ]
    },
    {
      "cell_type": "code",
      "source": [],
      "metadata": {
        "id": "rVskkXhlSOWG"
      },
      "execution_count": null,
      "outputs": []
    }
  ]
}