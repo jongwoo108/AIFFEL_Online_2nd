{
  "nbformat": 4,
  "nbformat_minor": 0,
  "metadata": {
    "colab": {
      "provenance": []
    },
    "kernelspec": {
      "name": "python3",
      "display_name": "Python 3"
    },
    "language_info": {
      "name": "python"
    }
  },
  "cells": [
    {
      "cell_type": "markdown",
      "source": [
        "딕셔너리 자료형"
      ],
      "metadata": {
        "id": "bZS39ZDE-OJH"
      }
    },
    {
      "cell_type": "markdown",
      "source": [
        "* 딕셔너리 자료형 이해 및 활용\n",
        "* 집합 자료형 이해 특징 설명\n",
        "* 불 자료형 연산\n",
        "* 변수 활용"
      ],
      "metadata": {
        "id": "a7K7pR5p-SSQ"
      }
    },
    {
      "cell_type": "markdown",
      "source": [
        "* 딕셔너리는 키와 값의 쌍을 저장하는 대용량 자료구조\n",
        "* 리스트나 튜플처럼 순차적으로(=인덱스로) 요소를 꺼낼 수 없고 Key를 통해 Value를 얻는다.\n",
        "* 순차적으로 꺼내지 못하니 요소들의 순서는 의미가 없다.\n",
        "* 중괄호{} 안에 Key:Value 형태를 넣고 콤마,로 구분. 딕셔너리명 = {Key1:Value1, Key2:Value2, Key3:Value3, ...}\n",
        "* 키(Key)는 중복되면 안 되고, 값(Value)은 중복되어도 상관 없다."
      ],
      "metadata": {
        "id": "zfNRPFqT-aJw"
      }
    },
    {
      "cell_type": "code",
      "source": [
        "# 중괄호{} 안에 Key:Value 형태를 넣고 콤마,로 구분\n",
        "# 순서가 달라져도 동일한 딕셔너리다.\n",
        "dic = {'apple': '사과', 'orange':'오렌지', 'melon':'멜론', 'num':8}\n",
        "dic"
      ],
      "metadata": {
        "colab": {
          "base_uri": "https://localhost:8080/"
        },
        "id": "17NTb6Dd-6UQ",
        "outputId": "f77f7412-fb70-4c58-883a-2f5f129ef79e"
      },
      "execution_count": 1,
      "outputs": [
        {
          "output_type": "execute_result",
          "data": {
            "text/plain": [
              "{'apple': '사과', 'orange': '오렌지', 'melon': '멜론', 'num': 8}"
            ]
          },
          "metadata": {},
          "execution_count": 1
        }
      ]
    },
    {
      "cell_type": "code",
      "source": [
        "# 키(Key)는 중복되면 안되고, 값(Value)은 중복되어도 상관 없다.\n",
        "# 중복되는 키가 있을 때 확인해보기\n",
        "dic = {'apple': '사과', 'orange':'오렌지', 'melon':'멜론', 'num':8, 'apple':'꿀사과', 'num_2':8}\n",
        "dic"
      ],
      "metadata": {
        "colab": {
          "base_uri": "https://localhost:8080/"
        },
        "id": "064T0RlU_eIB",
        "outputId": "5501f59a-8804-4ede-e62d-f0779e6578cc"
      },
      "execution_count": 3,
      "outputs": [
        {
          "output_type": "execute_result",
          "data": {
            "text/plain": [
              "{'apple': '꿀사과', 'orange': '오렌지', 'melon': '멜론', 'num': 8, 'num_2': 8}"
            ]
          },
          "metadata": {},
          "execution_count": 3
        }
      ]
    },
    {
      "cell_type": "markdown",
      "source": [
        "딕셔너리 쌍 추가, 삭제, 수정"
      ],
      "metadata": {
        "id": "OVMamwdZ_wGK"
      }
    },
    {
      "cell_type": "code",
      "source": [
        "# 새로운 키에 값을 할당하면 딕셔너리 쌍이 추가된다.\n",
        "a = {1:10, 2:20}\n",
        "a[3] = 30\n",
        "a"
      ],
      "metadata": {
        "colab": {
          "base_uri": "https://localhost:8080/"
        },
        "id": "JMBzQ70Z_1Qr",
        "outputId": "ccf7d935-fb5e-41e1-9ce8-6af3b303ed22"
      },
      "execution_count": 5,
      "outputs": [
        {
          "output_type": "execute_result",
          "data": {
            "text/plain": [
              "{1: 10, 2: 20, 3: 30}"
            ]
          },
          "metadata": {},
          "execution_count": 5
        }
      ]
    },
    {
      "cell_type": "code",
      "source": [
        "# value에 리스트도 할당할 수 있다.\n",
        "a['list'] = [10, 20, 30]\n",
        "a"
      ],
      "metadata": {
        "colab": {
          "base_uri": "https://localhost:8080/"
        },
        "id": "2os3nqG8_3zw",
        "outputId": "cc9b1852-d717-4904-bca3-39597bf6705b"
      },
      "execution_count": 6,
      "outputs": [
        {
          "output_type": "execute_result",
          "data": {
            "text/plain": [
              "{1: 10, 2: 20, 3: 30, 'list': [10, 20, 30]}"
            ]
          },
          "metadata": {},
          "execution_count": 6
        }
      ]
    },
    {
      "cell_type": "code",
      "source": [
        "# 예약어 del을 활용해서 요소를 삭제할 수 있다.\n",
        "del a[1]\n",
        "a"
      ],
      "metadata": {
        "colab": {
          "base_uri": "https://localhost:8080/"
        },
        "id": "Euuslp60ABFi",
        "outputId": "2e679a66-57fe-48bb-e0ec-e6bc5c14f1de"
      },
      "execution_count": 7,
      "outputs": [
        {
          "output_type": "execute_result",
          "data": {
            "text/plain": [
              "{2: 20, 3: 30, 'list': [10, 20, 30]}"
            ]
          },
          "metadata": {},
          "execution_count": 7
        }
      ]
    },
    {
      "cell_type": "code",
      "source": [
        "# 변경하고 싶은 key에 새로운 값을 할당하면 된다.\n",
        "a = {2:20, 3:30, 'list':[10, 20, 30]}\n",
        "a['list'] = [100, 200, 300]\n",
        "a"
      ],
      "metadata": {
        "colab": {
          "base_uri": "https://localhost:8080/"
        },
        "id": "Uv1ArIUhAFUx",
        "outputId": "5211060f-6236-4792-ac8b-1ddb6ee45ecd"
      },
      "execution_count": 8,
      "outputs": [
        {
          "output_type": "execute_result",
          "data": {
            "text/plain": [
              "{2: 20, 3: 30, 'list': [100, 200, 300]}"
            ]
          },
          "metadata": {},
          "execution_count": 8
        }
      ]
    },
    {
      "cell_type": "markdown",
      "source": [
        "딕셔너리를 사용하는 방법"
      ],
      "metadata": {
        "id": "cb8hRBRAAPk_"
      }
    },
    {
      "cell_type": "markdown",
      "source": [
        "딕셔너리에서 key를 사용해서 value를 얻을 수 있다."
      ],
      "metadata": {
        "id": "LMsiGVY_AYsg"
      }
    },
    {
      "cell_type": "code",
      "source": [
        "dog = {'name':'규봉이', 'breed':'진돗개', 'color':'brown'}\n",
        "dog['name']"
      ],
      "metadata": {
        "colab": {
          "base_uri": "https://localhost:8080/",
          "height": 35
        },
        "id": "GQ6o7KFkAdBZ",
        "outputId": "85c7f985-947d-423d-f2cf-26530ff33b52"
      },
      "execution_count": 9,
      "outputs": [
        {
          "output_type": "execute_result",
          "data": {
            "text/plain": [
              "'규봉이'"
            ],
            "application/vnd.google.colaboratory.intrinsic+json": {
              "type": "string"
            }
          },
          "metadata": {},
          "execution_count": 9
        }
      ]
    },
    {
      "cell_type": "code",
      "source": [
        "dog['breed']"
      ],
      "metadata": {
        "colab": {
          "base_uri": "https://localhost:8080/",
          "height": 35
        },
        "id": "cksPx2rqAj90",
        "outputId": "037ea3ab-55d7-4c7d-c2a8-6cc5a87f5727"
      },
      "execution_count": 10,
      "outputs": [
        {
          "output_type": "execute_result",
          "data": {
            "text/plain": [
              "'진돗개'"
            ],
            "application/vnd.google.colaboratory.intrinsic+json": {
              "type": "string"
            }
          },
          "metadata": {},
          "execution_count": 10
        }
      ]
    },
    {
      "cell_type": "code",
      "source": [
        "dog['color']"
      ],
      "metadata": {
        "colab": {
          "base_uri": "https://localhost:8080/",
          "height": 35
        },
        "id": "dDWvzSf6Al-q",
        "outputId": "faf75dfd-fc69-40d4-c398-cd8daf9de2c2"
      },
      "execution_count": 11,
      "outputs": [
        {
          "output_type": "execute_result",
          "data": {
            "text/plain": [
              "'brown'"
            ],
            "application/vnd.google.colaboratory.intrinsic+json": {
              "type": "string"
            }
          },
          "metadata": {},
          "execution_count": 11
        }
      ]
    },
    {
      "cell_type": "code",
      "source": [
        "# 리스트, 튜플처럼 인덱싱 방법을 적용할 수 없.\n",
        "dog[1]"
      ],
      "metadata": {
        "colab": {
          "base_uri": "https://localhost:8080/",
          "height": 216
        },
        "id": "wnE8uHraAnbY",
        "outputId": "162cd0c2-9b4f-47e1-f9f9-b58b4b804ada"
      },
      "execution_count": 12,
      "outputs": [
        {
          "output_type": "error",
          "ename": "KeyError",
          "evalue": "ignored",
          "traceback": [
            "\u001b[0;31m---------------------------------------------------------------------------\u001b[0m",
            "\u001b[0;31mKeyError\u001b[0m                                  Traceback (most recent call last)",
            "\u001b[0;32m<ipython-input-12-bd69e7d9dc81>\u001b[0m in \u001b[0;36m<cell line: 3>\u001b[0;34m()\u001b[0m\n\u001b[1;32m      1\u001b[0m \u001b[0;31m# 리스트, 튜플처럼 인덱싱 방법을 적용.\u001b[0m\u001b[0;34m\u001b[0m\u001b[0;34m\u001b[0m\u001b[0m\n\u001b[1;32m      2\u001b[0m \u001b[0;31m# 주석을 풀어서 확인해보기\u001b[0m\u001b[0;34m\u001b[0m\u001b[0;34m\u001b[0m\u001b[0m\n\u001b[0;32m----> 3\u001b[0;31m \u001b[0mdog\u001b[0m\u001b[0;34m[\u001b[0m\u001b[0;36m1\u001b[0m\u001b[0;34m]\u001b[0m\u001b[0;34m\u001b[0m\u001b[0;34m\u001b[0m\u001b[0m\n\u001b[0m",
            "\u001b[0;31mKeyError\u001b[0m: 1"
          ]
        }
      ]
    },
    {
      "cell_type": "markdown",
      "source": [
        "* key() : Key 리스트 만들기\n",
        "* values() : Value 리스트 만들기\n",
        "* items() : Key:Value 쌍 얻기\n",
        "* clear() : Key:Value 상 모두 지우기\n",
        "* get() : Key로 Value얻기\n",
        "* in : 해당 Key가 딕셔너리 안에 있는지 조사하기"
      ],
      "metadata": {
        "id": "Zk19WN2rAsyS"
      }
    },
    {
      "cell_type": "code",
      "source": [
        "# keys()\n",
        "dog = {\"name\":\"규봉이\", 'breed':'진돗개', 'color':'brown'}\n",
        "dog.keys()"
      ],
      "metadata": {
        "colab": {
          "base_uri": "https://localhost:8080/"
        },
        "id": "javV25LxC6Bg",
        "outputId": "83be8304-5bf9-4b22-982b-0485c7e1fd30"
      },
      "execution_count": 13,
      "outputs": [
        {
          "output_type": "execute_result",
          "data": {
            "text/plain": [
              "dict_keys(['name', 'breed', 'color'])"
            ]
          },
          "metadata": {},
          "execution_count": 13
        }
      ]
    },
    {
      "cell_type": "code",
      "source": [
        "# values()\n",
        "dog = {'name': '규봉이', 'breed':'진돗개', 'color':'brown'}\n",
        "dog.values()"
      ],
      "metadata": {
        "colab": {
          "base_uri": "https://localhost:8080/"
        },
        "id": "AzBzQKv7DJa_",
        "outputId": "c6d8d427-b620-4759-9f8c-ccccbdb12fd1"
      },
      "execution_count": 14,
      "outputs": [
        {
          "output_type": "execute_result",
          "data": {
            "text/plain": [
              "dict_values(['규봉이', '진돗개', 'brown'])"
            ]
          },
          "metadata": {},
          "execution_count": 14
        }
      ]
    },
    {
      "cell_type": "code",
      "source": [
        "# items()\n",
        "dog = {'name':'규봉이', 'breed':'진돗개', 'color':'brown'}\n",
        "dog.items()"
      ],
      "metadata": {
        "colab": {
          "base_uri": "https://localhost:8080/"
        },
        "id": "0z5GnoZYDRoh",
        "outputId": "6e6c9de1-2d9f-42d2-a5e0-d5cbbfe40156"
      },
      "execution_count": 15,
      "outputs": [
        {
          "output_type": "execute_result",
          "data": {
            "text/plain": [
              "dict_items([('name', '규봉이'), ('breed', '진돗개'), ('color', 'brown')])"
            ]
          },
          "metadata": {},
          "execution_count": 15
        }
      ]
    },
    {
      "cell_type": "code",
      "source": [
        "# clear()\n",
        "dog = {'name' : '규봉이', 'breed':'진돗개', 'color':'brwon'}\n",
        "dog.clear()\n",
        "dog"
      ],
      "metadata": {
        "colab": {
          "base_uri": "https://localhost:8080/"
        },
        "id": "RuFre_odDmlo",
        "outputId": "5d657156-6fab-4744-ba58-92de398b2902"
      },
      "execution_count": 16,
      "outputs": [
        {
          "output_type": "execute_result",
          "data": {
            "text/plain": [
              "{}"
            ]
          },
          "metadata": {},
          "execution_count": 16
        }
      ]
    },
    {
      "cell_type": "code",
      "source": [
        "#get()\n",
        "dog = {'name' : '규봉이', 'breed':'진돗개', 'color':'brown'}\n",
        "dog.get('name')"
      ],
      "metadata": {
        "colab": {
          "base_uri": "https://localhost:8080/",
          "height": 35
        },
        "id": "U1N_G8X5Dtdh",
        "outputId": "1d0e634c-a3f4-4d5d-8e1a-76493873dc61"
      },
      "execution_count": 18,
      "outputs": [
        {
          "output_type": "execute_result",
          "data": {
            "text/plain": [
              "'규봉이'"
            ],
            "application/vnd.google.colaboratory.intrinsic+json": {
              "type": "string"
            }
          },
          "metadata": {},
          "execution_count": 18
        }
      ]
    },
    {
      "cell_type": "code",
      "source": [
        "# in 은 Key만 확인 가능하다.\n",
        "dog = {'name' : '규봉이', 'breed':'진돗개', 'color':'brown'}\n",
        "'name' in dog"
      ],
      "metadata": {
        "colab": {
          "base_uri": "https://localhost:8080/"
        },
        "id": "AJb60UhmD4Ia",
        "outputId": "f63bc7f8-1fcb-4736-bcab-177a6080b95d"
      },
      "execution_count": 19,
      "outputs": [
        {
          "output_type": "execute_result",
          "data": {
            "text/plain": [
              "True"
            ]
          },
          "metadata": {},
          "execution_count": 19
        }
      ]
    },
    {
      "cell_type": "code",
      "source": [
        "#value 도 넣어보기\n",
        "'규봉이' in dog"
      ],
      "metadata": {
        "colab": {
          "base_uri": "https://localhost:8080/"
        },
        "id": "KZsXICrfEEWo",
        "outputId": "71ad306f-9caa-4a2b-c46d-e6e534bbc4c7"
      },
      "execution_count": 20,
      "outputs": [
        {
          "output_type": "execute_result",
          "data": {
            "text/plain": [
              "False"
            ]
          },
          "metadata": {},
          "execution_count": 20
        }
      ]
    },
    {
      "cell_type": "markdown",
      "source": [
        "집합(set) 자료형"
      ],
      "metadata": {
        "id": "9Py_zPsdEHIN"
      }
    },
    {
      "cell_type": "markdown",
      "source": [
        "* 수학시간에 배운 집합과 같은 집합\n",
        "* 어떤 값들의 모임일 뿐 순서는 없다(=순서가 달라져도 동일한 집합이다.)\n",
        "* 중괄호{} 안에 value를 넣고, 콤마, 로 구분. 집합명 = (value1, value2, value3,...}\n",
        "* set() 괄호 안에 리스트나 문자열을 입력해서 만들 수도 있다.\n",
        "* 집합은 값을 포함하고 있느냐 아니냐만 중요해서, 중복은 허락하지 않으며 순서도 별 의미없다."
      ],
      "metadata": {
        "id": "L3nfb8gWEMNU"
      }
    },
    {
      "cell_type": "code",
      "source": [
        "# 중괄호{} 안에 value를 넣고 콤마, 로 구분\n",
        "# 중복은 허락되지 않는다.\n",
        "asia = {'korea', 'china', 'japan', 'korea'}\n",
        "asia"
      ],
      "metadata": {
        "colab": {
          "base_uri": "https://localhost:8080/"
        },
        "id": "FYeDvBS1EimC",
        "outputId": "600db9ff-1136-4a8b-df73-f6833ebc65d9"
      },
      "execution_count": 21,
      "outputs": [
        {
          "output_type": "execute_result",
          "data": {
            "text/plain": [
              "{'china', 'japan', 'korea'}"
            ]
          },
          "metadata": {},
          "execution_count": 21
        }
      ]
    },
    {
      "cell_type": "code",
      "source": [
        "# set() 활용\n",
        "# 빈 집합 만들기\n",
        "a = set()\n",
        "a"
      ],
      "metadata": {
        "colab": {
          "base_uri": "https://localhost:8080/"
        },
        "id": "N7xXAgluErmU",
        "outputId": "18d44dba-a322-47d9-c4f2-d8601a0dbda7"
      },
      "execution_count": 22,
      "outputs": [
        {
          "output_type": "execute_result",
          "data": {
            "text/plain": [
              "set()"
            ]
          },
          "metadata": {},
          "execution_count": 22
        }
      ]
    },
    {
      "cell_type": "code",
      "source": [
        "# 빈 딕셔너리와 혼동을 주의\n",
        "a = {}\n",
        "type(a)"
      ],
      "metadata": {
        "colab": {
          "base_uri": "https://localhost:8080/"
        },
        "id": "SZFKl7o7G7oY",
        "outputId": "f173ae2f-9768-4081-cf61-7110994e4980"
      },
      "execution_count": 23,
      "outputs": [
        {
          "output_type": "execute_result",
          "data": {
            "text/plain": [
              "dict"
            ]
          },
          "metadata": {},
          "execution_count": 23
        }
      ]
    },
    {
      "cell_type": "code",
      "source": [
        "# set() 활용\n",
        "# 문자열 넣어보기\n",
        "a = set('hello')\n",
        "a"
      ],
      "metadata": {
        "colab": {
          "base_uri": "https://localhost:8080/"
        },
        "id": "vKSASm8mG_iG",
        "outputId": "32e631e0-aed5-439b-e1f8-b6396e2d4451"
      },
      "execution_count": 24,
      "outputs": [
        {
          "output_type": "execute_result",
          "data": {
            "text/plain": [
              "{'e', 'h', 'l', 'o'}"
            ]
          },
          "metadata": {},
          "execution_count": 24
        }
      ]
    },
    {
      "cell_type": "code",
      "source": [
        "# set() 활용\n",
        "# 리스트 넣어보기\n",
        "a = set([1, 2, 3])\n",
        "a"
      ],
      "metadata": {
        "colab": {
          "base_uri": "https://localhost:8080/"
        },
        "id": "L2xe3YSfHDr2",
        "outputId": "6773eb94-cc4a-4fa3-d696-2abcbc3f2207"
      },
      "execution_count": 25,
      "outputs": [
        {
          "output_type": "execute_result",
          "data": {
            "text/plain": [
              "{1, 2, 3}"
            ]
          },
          "metadata": {},
          "execution_count": 25
        }
      ]
    },
    {
      "cell_type": "code",
      "source": [
        "# set() 활용\n",
        "# 튜플 넣어보기\n",
        "a = set((11, 13, 15))\n",
        "a"
      ],
      "metadata": {
        "colab": {
          "base_uri": "https://localhost:8080/"
        },
        "id": "DeitG3nJHIW8",
        "outputId": "c1b37ce3-5599-4bc2-adec-2ee9b873e771"
      },
      "execution_count": 26,
      "outputs": [
        {
          "output_type": "execute_result",
          "data": {
            "text/plain": [
              "{11, 13, 15}"
            ]
          },
          "metadata": {},
          "execution_count": 26
        }
      ]
    },
    {
      "cell_type": "code",
      "source": [
        "# set() 활용\n",
        "# 딕셔너리 넣어보기\n",
        "a = set({'name':'규봉이', 'breed':'진돗개', 'color':'brown'})\n",
        "a"
      ],
      "metadata": {
        "colab": {
          "base_uri": "https://localhost:8080/"
        },
        "id": "G-mBIkpAHNAd",
        "outputId": "2ea9ac1e-936c-44e4-a3e2-537bbf35af13"
      },
      "execution_count": 27,
      "outputs": [
        {
          "output_type": "execute_result",
          "data": {
            "text/plain": [
              "{'breed', 'color', 'name'}"
            ]
          },
          "metadata": {},
          "execution_count": 27
        }
      ]
    },
    {
      "cell_type": "code",
      "source": [
        "a = {2, 4, 6, 8, 10, 12}\n",
        "b = {3, 6, 9, 12, 15}"
      ],
      "metadata": {
        "id": "rK7rKLkIHWhz"
      },
      "execution_count": 28,
      "outputs": []
    },
    {
      "cell_type": "code",
      "source": [
        "a|b"
      ],
      "metadata": {
        "colab": {
          "base_uri": "https://localhost:8080/"
        },
        "id": "lkiLGccaHerq",
        "outputId": "03cf6177-1812-4b9c-e9d3-fe692ee94cb8"
      },
      "execution_count": 29,
      "outputs": [
        {
          "output_type": "execute_result",
          "data": {
            "text/plain": [
              "{2, 3, 4, 6, 8, 9, 10, 12, 15}"
            ]
          },
          "metadata": {},
          "execution_count": 29
        }
      ]
    },
    {
      "cell_type": "code",
      "source": [
        "a.union(b)\n"
      ],
      "metadata": {
        "colab": {
          "base_uri": "https://localhost:8080/"
        },
        "id": "4zzI4SXnI1xl",
        "outputId": "8b5ec7c9-671d-4d1f-f71b-73544c3b8acd"
      },
      "execution_count": 30,
      "outputs": [
        {
          "output_type": "execute_result",
          "data": {
            "text/plain": [
              "{2, 3, 4, 6, 8, 9, 10, 12, 15}"
            ]
          },
          "metadata": {},
          "execution_count": 30
        }
      ]
    },
    {
      "cell_type": "code",
      "source": [
        "a & b"
      ],
      "metadata": {
        "colab": {
          "base_uri": "https://localhost:8080/"
        },
        "id": "6WcDfNjVI3Zs",
        "outputId": "1bfd2bee-da28-4ac8-e0e5-25840fd6dabe"
      },
      "execution_count": 31,
      "outputs": [
        {
          "output_type": "execute_result",
          "data": {
            "text/plain": [
              "{6, 12}"
            ]
          },
          "metadata": {},
          "execution_count": 31
        }
      ]
    },
    {
      "cell_type": "code",
      "source": [
        "a.intersection(b)"
      ],
      "metadata": {
        "colab": {
          "base_uri": "https://localhost:8080/"
        },
        "id": "35dr52B-I4Db",
        "outputId": "dce7ca1e-7b7b-435f-bbf4-75e3f6e7808a"
      },
      "execution_count": 34,
      "outputs": [
        {
          "output_type": "execute_result",
          "data": {
            "text/plain": [
              "{6, 12}"
            ]
          },
          "metadata": {},
          "execution_count": 34
        }
      ]
    },
    {
      "cell_type": "code",
      "source": [
        "a-b"
      ],
      "metadata": {
        "colab": {
          "base_uri": "https://localhost:8080/"
        },
        "id": "uM0qZjCOI7eR",
        "outputId": "697d1100-e2fb-4cf6-c231-6f4852cf85ea"
      },
      "execution_count": 33,
      "outputs": [
        {
          "output_type": "execute_result",
          "data": {
            "text/plain": [
              "{2, 4, 8, 10}"
            ]
          },
          "metadata": {},
          "execution_count": 33
        }
      ]
    },
    {
      "cell_type": "code",
      "source": [
        "a.difference(b)"
      ],
      "metadata": {
        "colab": {
          "base_uri": "https://localhost:8080/"
        },
        "id": "exbRmmmwI7-U",
        "outputId": "b56a8d76-d9c9-41f4-a515-acd3ea30c434"
      },
      "execution_count": 35,
      "outputs": [
        {
          "output_type": "execute_result",
          "data": {
            "text/plain": [
              "{2, 4, 8, 10}"
            ]
          },
          "metadata": {},
          "execution_count": 35
        }
      ]
    },
    {
      "cell_type": "code",
      "source": [
        "a^b"
      ],
      "metadata": {
        "colab": {
          "base_uri": "https://localhost:8080/"
        },
        "id": "T4QKa377I_6w",
        "outputId": "ccb1870e-99a6-4ed2-cc94-ae6e5293a104"
      },
      "execution_count": 36,
      "outputs": [
        {
          "output_type": "execute_result",
          "data": {
            "text/plain": [
              "{2, 3, 4, 8, 9, 10, 15}"
            ]
          },
          "metadata": {},
          "execution_count": 36
        }
      ]
    },
    {
      "cell_type": "code",
      "source": [
        "a.symmetric_difference(b)"
      ],
      "metadata": {
        "colab": {
          "base_uri": "https://localhost:8080/"
        },
        "id": "ReLwLPWpJA01",
        "outputId": "18c6fdee-fd98-4e00-b450-094be93e4053"
      },
      "execution_count": 37,
      "outputs": [
        {
          "output_type": "execute_result",
          "data": {
            "text/plain": [
              "{2, 3, 4, 8, 9, 10, 15}"
            ]
          },
          "metadata": {},
          "execution_count": 37
        }
      ]
    },
    {
      "cell_type": "markdown",
      "source": [
        "집합 관련 함수"
      ],
      "metadata": {
        "id": "iBRBSF-LJCYj"
      }
    },
    {
      "cell_type": "markdown",
      "source": [
        "* add() : 원소 한 개 추가하기\n",
        "* update() : 원소 여러 개 추가하기\n",
        "* remove() : 특정 값 한 개 제거하기"
      ],
      "metadata": {
        "id": "Un2MhY9hJGu8"
      }
    },
    {
      "cell_type": "code",
      "source": [
        "# add()\n",
        "a = {1, 2, 3}\n",
        "a.add('넷')\n",
        "a"
      ],
      "metadata": {
        "colab": {
          "base_uri": "https://localhost:8080/"
        },
        "id": "Da138NjlJO0n",
        "outputId": "a6a8b1f2-fab9-4d33-ce00-9aaf0e50918f"
      },
      "execution_count": 39,
      "outputs": [
        {
          "output_type": "execute_result",
          "data": {
            "text/plain": [
              "{1, 2, 3, '넷'}"
            ]
          },
          "metadata": {},
          "execution_count": 39
        }
      ]
    },
    {
      "cell_type": "code",
      "source": [
        "# update()\n",
        "a = set([6, 5, 4])\n",
        "a.update({1, 3, 2})\n",
        "a"
      ],
      "metadata": {
        "colab": {
          "base_uri": "https://localhost:8080/"
        },
        "id": "0RalQjYPJRvP",
        "outputId": "c0dbcdf3-7680-4c3b-bcdb-9979f7488855"
      },
      "execution_count": 41,
      "outputs": [
        {
          "output_type": "execute_result",
          "data": {
            "text/plain": [
              "{1, 2, 3, 4, 5, 6}"
            ]
          },
          "metadata": {},
          "execution_count": 41
        }
      ]
    },
    {
      "cell_type": "code",
      "source": [
        "# remove()\n",
        "a = {1, 2, 3, 4, 5, 6}\n",
        "a.remove(2)\n",
        "a"
      ],
      "metadata": {
        "colab": {
          "base_uri": "https://localhost:8080/"
        },
        "id": "XoCuAGIRK1GZ",
        "outputId": "cf5e0d94-7fe9-410d-ca7b-2ff248f51d58"
      },
      "execution_count": 44,
      "outputs": [
        {
          "output_type": "execute_result",
          "data": {
            "text/plain": [
              "{1, 3, 4, 5, 6}"
            ]
          },
          "metadata": {},
          "execution_count": 44
        }
      ]
    },
    {
      "cell_type": "markdown",
      "source": [
        "# 불(bool) 자료형"
      ],
      "metadata": {
        "id": "TVeLrgLoK40r"
      }
    },
    {
      "cell_type": "markdown",
      "source": [
        "* 불 자료형은 참(True)와 거짓(False) 두가지 상태를 표현하는 타입\n",
        "* True, False의 첫 자가 대문자임을 유의\n",
        "* true, false 소문자로 적으면 불 자료형이 아니다.\n",
        "* 조건문의 반환 값으로도 사용\n"
      ],
      "metadata": {
        "id": "LJhKthISLHpy"
      }
    },
    {
      "cell_type": "code",
      "source": [
        "# type 확인\n",
        "a = True\n",
        "type(a)"
      ],
      "metadata": {
        "colab": {
          "base_uri": "https://localhost:8080/"
        },
        "id": "ExbQYXMKLWDT",
        "outputId": "e2699d02-58a8-4620-a86e-8ab7941c20dd"
      },
      "execution_count": 45,
      "outputs": [
        {
          "output_type": "execute_result",
          "data": {
            "text/plain": [
              "bool"
            ]
          },
          "metadata": {},
          "execution_count": 45
        }
      ]
    },
    {
      "cell_type": "code",
      "source": [
        "# 소문자로 적은 true 확인해보기\n",
        "b = true\n",
        "type(b)"
      ],
      "metadata": {
        "colab": {
          "base_uri": "https://localhost:8080/",
          "height": 216
        },
        "id": "qeaXOEjwLZpJ",
        "outputId": "3988f45a-460e-4921-f484-ae98fe971691"
      },
      "execution_count": 46,
      "outputs": [
        {
          "output_type": "error",
          "ename": "NameError",
          "evalue": "ignored",
          "traceback": [
            "\u001b[0;31m---------------------------------------------------------------------------\u001b[0m",
            "\u001b[0;31mNameError\u001b[0m                                 Traceback (most recent call last)",
            "\u001b[0;32m<ipython-input-46-3cbd2217e6b5>\u001b[0m in \u001b[0;36m<cell line: 2>\u001b[0;34m()\u001b[0m\n\u001b[1;32m      1\u001b[0m \u001b[0;31m# 소문자로 적은 true 확인해보기\u001b[0m\u001b[0;34m\u001b[0m\u001b[0;34m\u001b[0m\u001b[0m\n\u001b[0;32m----> 2\u001b[0;31m \u001b[0mb\u001b[0m \u001b[0;34m=\u001b[0m \u001b[0mtrue\u001b[0m\u001b[0;34m\u001b[0m\u001b[0;34m\u001b[0m\u001b[0m\n\u001b[0m\u001b[1;32m      3\u001b[0m \u001b[0mtype\u001b[0m\u001b[0;34m(\u001b[0m\u001b[0mb\u001b[0m\u001b[0;34m)\u001b[0m\u001b[0;34m\u001b[0m\u001b[0;34m\u001b[0m\u001b[0m\n",
            "\u001b[0;31mNameError\u001b[0m: name 'true' is not defined"
          ]
        }
      ]
    },
    {
      "cell_type": "code",
      "source": [
        "# 5가 4보다 큰지 물어보는 조건문\n",
        "5 > 4"
      ],
      "metadata": {
        "colab": {
          "base_uri": "https://localhost:8080/"
        },
        "id": "klbDS-QnLeSy",
        "outputId": "1ff9e0cc-e99e-4ceb-9b09-7a8940da0f03"
      },
      "execution_count": 47,
      "outputs": [
        {
          "output_type": "execute_result",
          "data": {
            "text/plain": [
              "True"
            ]
          },
          "metadata": {},
          "execution_count": 47
        }
      ]
    },
    {
      "cell_type": "code",
      "source": [
        "# 자료형 불 타입 확인해보기\n",
        "bool(0.0)"
      ],
      "metadata": {
        "colab": {
          "base_uri": "https://localhost:8080/"
        },
        "id": "5Kytw0QdLjFr",
        "outputId": "fe39a2e7-908d-4467-fe2c-39ae3e8e533b"
      },
      "execution_count": 48,
      "outputs": [
        {
          "output_type": "execute_result",
          "data": {
            "text/plain": [
              "False"
            ]
          },
          "metadata": {},
          "execution_count": 48
        }
      ]
    },
    {
      "cell_type": "code",
      "source": [
        "# 스스로 확인해보고 싶은 자료형 불 타입 확인해보기\n",
        "bool()"
      ],
      "metadata": {
        "colab": {
          "base_uri": "https://localhost:8080/"
        },
        "id": "MWmb8a09LoBD",
        "outputId": "bd735da9-3430-4694-ffe3-90309210bed4"
      },
      "execution_count": 49,
      "outputs": [
        {
          "output_type": "execute_result",
          "data": {
            "text/plain": [
              "False"
            ]
          },
          "metadata": {},
          "execution_count": 49
        }
      ]
    },
    {
      "cell_type": "code",
      "source": [
        "# 변수명 = 변수에 저장할 값\n",
        "aiffel = 'modu'"
      ],
      "metadata": {
        "id": "0Z7X_0pmLqqp"
      },
      "execution_count": 50,
      "outputs": []
    },
    {
      "cell_type": "code",
      "source": [
        "# 영문자(대, 소문자 구분), 숫자, 언더바(_)만 사용 가능\n",
        "List_01 = [1, 3, 5]\n",
        "list_01 = [2, 4, 6]\n",
        "\n",
        "List_01"
      ],
      "metadata": {
        "colab": {
          "base_uri": "https://localhost:8080/"
        },
        "id": "ighOcnRLLvyd",
        "outputId": "fcd17ceb-b305-4a5e-861f-d155cf26f89e"
      },
      "execution_count": 51,
      "outputs": [
        {
          "output_type": "execute_result",
          "data": {
            "text/plain": [
              "[1, 3, 5]"
            ]
          },
          "metadata": {},
          "execution_count": 51
        }
      ]
    },
    {
      "cell_type": "code",
      "source": [
        "list_01"
      ],
      "metadata": {
        "colab": {
          "base_uri": "https://localhost:8080/"
        },
        "id": "bwArk20uL6Jx",
        "outputId": "80c2703f-c43a-4d10-86dd-f9a3da103239"
      },
      "execution_count": 52,
      "outputs": [
        {
          "output_type": "execute_result",
          "data": {
            "text/plain": [
              "[2, 4, 6]"
            ]
          },
          "metadata": {},
          "execution_count": 52
        }
      ]
    },
    {
      "cell_type": "code",
      "source": [
        "# 첫 자리에는 숫자를 사용할 수 없다.\n",
        "00dic = {1:11, 2:22}\n",
        "00dic"
      ],
      "metadata": {
        "colab": {
          "base_uri": "https://localhost:8080/",
          "height": 145
        },
        "id": "DA5ZUeckL7hR",
        "outputId": "c5fa5fee-9969-46ac-a15e-caad0c2d188a"
      },
      "execution_count": 53,
      "outputs": [
        {
          "output_type": "error",
          "ename": "SyntaxError",
          "evalue": "ignored",
          "traceback": [
            "\u001b[0;36m  File \u001b[0;32m\"<ipython-input-53-777b55c9c87d>\"\u001b[0;36m, line \u001b[0;32m2\u001b[0m\n\u001b[0;31m    00dic = {1:11, 2:22}\u001b[0m\n\u001b[0m     ^\u001b[0m\n\u001b[0;31mSyntaxError\u001b[0m\u001b[0;31m:\u001b[0m invalid decimal literal\n"
          ]
        }
      ]
    },
    {
      "cell_type": "code",
      "source": [
        "True = set('aiffel')\n",
        "True"
      ],
      "metadata": {
        "colab": {
          "base_uri": "https://localhost:8080/",
          "height": 145
        },
        "id": "0mVO3hNlMA7d",
        "outputId": "e6fc00d9-3528-4ab5-c119-d9a7e39d4f36"
      },
      "execution_count": 54,
      "outputs": [
        {
          "output_type": "error",
          "ename": "SyntaxError",
          "evalue": "ignored",
          "traceback": [
            "\u001b[0;36m  File \u001b[0;32m\"<ipython-input-54-00290e0d6fad>\"\u001b[0;36m, line \u001b[0;32m1\u001b[0m\n\u001b[0;31m    True = set('aiffel')\u001b[0m\n\u001b[0m    ^\u001b[0m\n\u001b[0;31mSyntaxError\u001b[0m\u001b[0;31m:\u001b[0m cannot assign to True\n"
          ]
        }
      ]
    },
    {
      "cell_type": "code",
      "source": [
        "# 괄호가 없다면 튜플\n",
        "# 튜플로 변수에 값을 할당할 수 있다.\n",
        "a, b, c = 11, 22, 33\n",
        "b"
      ],
      "metadata": {
        "colab": {
          "base_uri": "https://localhost:8080/"
        },
        "id": "sDaMxq1rNb6g",
        "outputId": "abe6c932-085d-40c1-d7e1-72142d5672eb"
      },
      "execution_count": 55,
      "outputs": [
        {
          "output_type": "execute_result",
          "data": {
            "text/plain": [
              "22"
            ]
          },
          "metadata": {},
          "execution_count": 55
        }
      ]
    },
    {
      "cell_type": "code",
      "source": [
        "# 리스트로도 가능\n",
        "[d, e] = ['Hello', 'world']\n",
        "d"
      ],
      "metadata": {
        "colab": {
          "base_uri": "https://localhost:8080/",
          "height": 35
        },
        "id": "cMeL-jOzNfkX",
        "outputId": "45561076-e6e1-47e7-9bac-677ba3931b00"
      },
      "execution_count": 56,
      "outputs": [
        {
          "output_type": "execute_result",
          "data": {
            "text/plain": [
              "'Hello'"
            ],
            "application/vnd.google.colaboratory.intrinsic+json": {
              "type": "string"
            }
          },
          "metadata": {},
          "execution_count": 56
        }
      ]
    },
    {
      "cell_type": "code",
      "source": [
        "# 여러 개의 변수에 같은 값을 할당할 수 있다.\n",
        "f = g = True"
      ],
      "metadata": {
        "id": "kp6UR10ZNogy"
      },
      "execution_count": 61,
      "outputs": []
    },
    {
      "cell_type": "code",
      "source": [
        "f"
      ],
      "metadata": {
        "colab": {
          "base_uri": "https://localhost:8080/"
        },
        "id": "RWnLGJ9yN-rY",
        "outputId": "1f84cea0-ca7c-44a7-842f-52caf5588ca6"
      },
      "execution_count": 62,
      "outputs": [
        {
          "output_type": "execute_result",
          "data": {
            "text/plain": [
              "True"
            ]
          },
          "metadata": {},
          "execution_count": 62
        }
      ]
    },
    {
      "cell_type": "code",
      "source": [
        "# 위의 방법을 사용해서 두 변수의 값을 간단히 바꿀 수 있다.\n",
        "a = \"Hello, python world\"\n",
        "b = 10\n",
        "a, b = b, a"
      ],
      "metadata": {
        "id": "SFCpmAIsN_Wo"
      },
      "execution_count": 63,
      "outputs": []
    },
    {
      "cell_type": "code",
      "source": [
        "a,b"
      ],
      "metadata": {
        "colab": {
          "base_uri": "https://localhost:8080/"
        },
        "id": "63XL7We_OLtc",
        "outputId": "294b2eef-1651-4dee-fa48-779b31d595c5"
      },
      "execution_count": 64,
      "outputs": [
        {
          "output_type": "execute_result",
          "data": {
            "text/plain": [
              "(10, 'Hello, python world')"
            ]
          },
          "metadata": {},
          "execution_count": 64
        }
      ]
    },
    {
      "cell_type": "code",
      "source": [],
      "metadata": {
        "id": "fAOlXEtrOMSn"
      },
      "execution_count": null,
      "outputs": []
    }
  ]
}