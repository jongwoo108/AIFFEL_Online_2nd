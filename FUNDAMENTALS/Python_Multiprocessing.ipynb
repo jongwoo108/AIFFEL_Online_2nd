{
  "nbformat": 4,
  "nbformat_minor": 0,
  "metadata": {
    "colab": {
      "provenance": []
    },
    "kernelspec": {
      "name": "python3",
      "display_name": "Python 3"
    },
    "language_info": {
      "name": "python"
    }
  },
  "cells": [
    {
      "cell_type": "code",
      "execution_count": 6,
      "metadata": {
        "colab": {
          "base_uri": "https://localhost:8080/"
        },
        "id": "OBY1pprGHuA1",
        "outputId": "34ca70e2-73db-4d93-adf7-f842830852b8"
      },
      "outputs": [
        {
          "output_type": "stream",
          "name": "stdout",
          "text": [
            "time : 0.00011086463928222656\n"
          ]
        }
      ],
      "source": [
        "import time\n",
        "start = time.time()\n",
        "\n",
        "a = 1\n",
        "for i in range(100):\n",
        "    a += 1\n",
        "\n",
        "print(\"time :\", time.time() - start)"
      ]
    },
    {
      "cell_type": "code",
      "source": [
        "import time\n",
        "\n",
        "num_list = ['p1', 'p2', 'p3', 'p4']\n",
        "start = time.time()\n",
        "\n",
        "def count(name):\n",
        "    time.sleep(5)\n",
        "    print(\"finish:\"+name+\"\\n\")\n",
        "\n",
        "for num in num_list:\n",
        "    count(num)\n",
        "\n",
        "print(\"time :\", time.time() - start)"
      ],
      "metadata": {
        "colab": {
          "base_uri": "https://localhost:8080/"
        },
        "id": "Xo46nubaH_4b",
        "outputId": "4724eacd-be6f-4d87-93e6-8064f6c749d2"
      },
      "execution_count": 7,
      "outputs": [
        {
          "output_type": "stream",
          "name": "stdout",
          "text": [
            "finish:p1\n",
            "\n",
            "finish:p2\n",
            "\n",
            "finish:p3\n",
            "\n",
            "finish:p4\n",
            "\n",
            "time : 20.020549535751343\n"
          ]
        }
      ]
    },
    {
      "cell_type": "code",
      "source": [
        "import multiprocessing\n",
        "import time\n",
        "\n",
        "num_list = ['p1', 'p2', 'p3', 'p4']\n",
        "start = time.time()\n",
        "\n",
        "def count(name):\n",
        "    time.sleep(5)\n",
        "    print(\"finish:\" + name + \"\\n\")\n",
        "\n",
        "if __name__ == '__main__':\n",
        "    pool = multiprocessing.Pool(processes = 2)\n",
        "    pool.map(count, num_list)\n",
        "    pool.close()\n",
        "    pool.join()\n",
        "\n",
        "print(\"time :\", time.time() - start)"
      ],
      "metadata": {
        "colab": {
          "base_uri": "https://localhost:8080/"
        },
        "id": "Za_bendbIySu",
        "outputId": "9ef9256b-9802-4dc1-d4bf-15ec4a7e2f18"
      },
      "execution_count": 8,
      "outputs": [
        {
          "output_type": "stream",
          "name": "stdout",
          "text": [
            "finish:p1\n",
            "\n",
            "finish:p2\n",
            "\n",
            "finish:p3\n",
            "\n",
            "finish:p4\n",
            "\n",
            "time : 10.058480501174927\n"
          ]
        }
      ]
    },
    {
      "cell_type": "code",
      "source": [
        "import multiprocessing\n",
        "\n",
        "def count(name):\n",
        "    time.sleep(5)\n",
        "    print(\"finish:\" + name + \"\\n\")"
      ],
      "metadata": {
        "id": "XeaQGKXVJT81"
      },
      "execution_count": 9,
      "outputs": []
    },
    {
      "cell_type": "code",
      "source": [
        "num_list = ['p1', 'p2', 'p3', 'p4']\n",
        "\n",
        "if __name__ == '__main__':\n",
        "    pool = multiprocessing.Pool(processes = 2)\n",
        "    pool.map(count, num_list)\n",
        "    pool.close()\n",
        "    pool.join()"
      ],
      "metadata": {
        "colab": {
          "base_uri": "https://localhost:8080/"
        },
        "id": "edG843aVRvvA",
        "outputId": "16da4725-e120-47ae-d654-85f26984327b"
      },
      "execution_count": 11,
      "outputs": [
        {
          "output_type": "stream",
          "name": "stdout",
          "text": [
            "finish:p1\n",
            "\n",
            "finish:p2\n",
            "\n",
            "finish:p3\n",
            "\n",
            "finish:p4\n",
            "\n"
          ]
        }
      ]
    },
    {
      "cell_type": "code",
      "source": [
        "def function_f(input_x):\n",
        "    output_x = input_x * input_x\n",
        "    return output_x"
      ],
      "metadata": {
        "id": "uN_ZV9nxScRz"
      },
      "execution_count": 12,
      "outputs": []
    },
    {
      "cell_type": "code",
      "source": [
        "list_data = [10, 20, 30, 40]\n",
        "list_data2 = [20, 30, 40, 50]\n",
        "\n",
        "length = len(list_data)\n",
        "max_result = list_data[0]\n",
        "for i in range(length):\n",
        "    if max_result < list_data[i]:\n",
        "        max_result = list_data[i]\n",
        "\n",
        "print(\"최댓값은 \", max_result)\n",
        "\n",
        "length = len(list_data2)\n",
        "max_result = list_data2[0]\n",
        "for i in range(length):\n",
        "    if max_result < list_data2[i]:\n",
        "        max_result = list_data2[i]\n",
        "\n",
        "print(\"최댓값은 \", max_result)"
      ],
      "metadata": {
        "colab": {
          "base_uri": "https://localhost:8080/"
        },
        "id": "X4ZFff1XTZBM",
        "outputId": "e80a68a8-c4c8-4d84-8986-72c1ae9febb1"
      },
      "execution_count": 2,
      "outputs": [
        {
          "output_type": "stream",
          "name": "stdout",
          "text": [
            "최댓값은  40\n",
            "최댓값은  50\n"
          ]
        }
      ]
    },
    {
      "cell_type": "code",
      "source": [
        "list_data = [10, 20, 30, 40]\n",
        "list_data2 = [20, 30, 40, 50]\n",
        "\n",
        "def max_function(x):\n",
        "    length = len(x)\n",
        "    max_result = x[0]\n",
        "    for i in range(length):\n",
        "        if max_result < x[i]:\n",
        "            max_result = x[i]\n",
        "    return max_result\n",
        "\n",
        "print(\"최댓값은 \", max_function(list_data))\n",
        "print(\"최댓값은 \", max_function(list_data2))"
      ],
      "metadata": {
        "colab": {
          "base_uri": "https://localhost:8080/"
        },
        "id": "ouOP85mrRnkI",
        "outputId": "b3c8f1fa-108a-4354-888e-94e92ff94d76"
      },
      "execution_count": 3,
      "outputs": [
        {
          "output_type": "stream",
          "name": "stdout",
          "text": [
            "최댓값은  40\n",
            "최댓값은  50\n"
          ]
        }
      ]
    },
    {
      "cell_type": "code",
      "source": [],
      "metadata": {
        "id": "1m70HcybSXK-"
      },
      "execution_count": null,
      "outputs": []
    }
  ]
}