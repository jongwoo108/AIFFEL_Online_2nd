{
  "nbformat": 4,
  "nbformat_minor": 0,
  "metadata": {
    "colab": {
      "provenance": []
    },
    "kernelspec": {
      "name": "python3",
      "display_name": "Python 3"
    },
    "language_info": {
      "name": "python"
    }
  },
  "cells": [
    {
      "cell_type": "code",
      "execution_count": 25,
      "metadata": {
        "colab": {
          "base_uri": "https://localhost:8080/"
        },
        "id": "x70DhZ5tig2R",
        "outputId": "42972a2d-658a-4901-be37-1ae7a26e79b2"
      },
      "outputs": [
        {
          "output_type": "stream",
          "name": "stdout",
          "text": [
            "\n"
          ]
        }
      ],
      "source": [
        "print()"
      ]
    },
    {
      "cell_type": "code",
      "source": [
        "print(1)"
      ],
      "metadata": {
        "colab": {
          "base_uri": "https://localhost:8080/"
        },
        "id": "yTDentpIiiH5",
        "outputId": "e2043e2b-fed1-4824-b078-4f5ddd692907"
      },
      "execution_count": 26,
      "outputs": [
        {
          "output_type": "stream",
          "name": "stdout",
          "text": [
            "1\n"
          ]
        }
      ]
    },
    {
      "cell_type": "code",
      "source": [
        "print(1+1)"
      ],
      "metadata": {
        "colab": {
          "base_uri": "https://localhost:8080/"
        },
        "id": "1FNOKB8giiix",
        "outputId": "902663e4-b873-4ce4-fa11-2b944e3cc8c2"
      },
      "execution_count": 27,
      "outputs": [
        {
          "output_type": "stream",
          "name": "stdout",
          "text": [
            "2\n"
          ]
        }
      ]
    },
    {
      "cell_type": "code",
      "source": [
        "print('Hello')"
      ],
      "metadata": {
        "colab": {
          "base_uri": "https://localhost:8080/"
        },
        "id": "xyFvV5o7il8x",
        "outputId": "aff743ee-ea2a-4cdf-972d-7f61a13aebfe"
      },
      "execution_count": 28,
      "outputs": [
        {
          "output_type": "stream",
          "name": "stdout",
          "text": [
            "Hello\n"
          ]
        }
      ]
    },
    {
      "cell_type": "code",
      "source": [
        "type('Hello')"
      ],
      "metadata": {
        "colab": {
          "base_uri": "https://localhost:8080/"
        },
        "id": "S7SjSKlBipjj",
        "outputId": "cea392c9-6887-416f-b282-1b160ac876ba"
      },
      "execution_count": 29,
      "outputs": [
        {
          "output_type": "execute_result",
          "data": {
            "text/plain": [
              "str"
            ]
          },
          "metadata": {},
          "execution_count": 29
        }
      ]
    },
    {
      "cell_type": "code",
      "source": [
        "print('Hello ' + 'world!')"
      ],
      "metadata": {
        "colab": {
          "base_uri": "https://localhost:8080/"
        },
        "id": "CYNzdRUoiqrp",
        "outputId": "6435de87-9176-41dd-cdcf-56efa3c93ade"
      },
      "execution_count": 30,
      "outputs": [
        {
          "output_type": "stream",
          "name": "stdout",
          "text": [
            "Hello world!\n"
          ]
        }
      ]
    },
    {
      "cell_type": "code",
      "source": [
        "greeting = '안녕하세요?'"
      ],
      "metadata": {
        "id": "8R2f9OYQiuUs"
      },
      "execution_count": 31,
      "outputs": []
    },
    {
      "cell_type": "code",
      "source": [
        "print(greeting)"
      ],
      "metadata": {
        "colab": {
          "base_uri": "https://localhost:8080/"
        },
        "id": "PPpRzyZli2HE",
        "outputId": "ca5f139e-c3d9-45ab-dd9a-bfd17d991fee"
      },
      "execution_count": 32,
      "outputs": [
        {
          "output_type": "stream",
          "name": "stdout",
          "text": [
            "안녕하세요?\n"
          ]
        }
      ]
    },
    {
      "cell_type": "code",
      "source": [
        "print(something)"
      ],
      "metadata": {
        "colab": {
          "base_uri": "https://localhost:8080/",
          "height": 180
        },
        "id": "_MwzLNYzi3UF",
        "outputId": "6959f3f2-f62e-450d-c957-3369f8385575"
      },
      "execution_count": 33,
      "outputs": [
        {
          "output_type": "error",
          "ename": "NameError",
          "evalue": "ignored",
          "traceback": [
            "\u001b[0;31m---------------------------------------------------------------------------\u001b[0m",
            "\u001b[0;31mNameError\u001b[0m                                 Traceback (most recent call last)",
            "\u001b[0;32m<ipython-input-33-aba354489d61>\u001b[0m in \u001b[0;36m<cell line: 1>\u001b[0;34m()\u001b[0m\n\u001b[0;32m----> 1\u001b[0;31m \u001b[0mprint\u001b[0m\u001b[0;34m(\u001b[0m\u001b[0msomething\u001b[0m\u001b[0;34m)\u001b[0m\u001b[0;34m\u001b[0m\u001b[0;34m\u001b[0m\u001b[0m\n\u001b[0m",
            "\u001b[0;31mNameError\u001b[0m: name 'something' is not defined"
          ]
        }
      ]
    },
    {
      "cell_type": "code",
      "source": [
        "greeting = '안녕하세요?'\n",
        "greeting = '안녕!'\n",
        "print(greeting)"
      ],
      "metadata": {
        "id": "i8jPYB_Yi5RM"
      },
      "execution_count": null,
      "outputs": []
    },
    {
      "cell_type": "code",
      "source": [
        "greeting = '안녕하세요?'\n",
        "print(greeting)\n",
        "greeting = '안녕!'"
      ],
      "metadata": {
        "colab": {
          "base_uri": "https://localhost:8080/"
        },
        "id": "WVobsayEi_5i",
        "outputId": "76930908-c3eb-4299-e109-f5836cc421ae"
      },
      "execution_count": 34,
      "outputs": [
        {
          "output_type": "stream",
          "name": "stdout",
          "text": [
            "안녕하세요?\n"
          ]
        }
      ]
    },
    {
      "cell_type": "code",
      "source": [
        "def say_hi():\n",
        "    print('안녕!')"
      ],
      "metadata": {
        "id": "GePYkInajFXk"
      },
      "execution_count": 35,
      "outputs": []
    },
    {
      "cell_type": "code",
      "source": [
        "say_hi()"
      ],
      "metadata": {
        "colab": {
          "base_uri": "https://localhost:8080/"
        },
        "id": "naAKdZQbjJUu",
        "outputId": "c365221e-7e71-4d6d-e901-8f4094a42b11"
      },
      "execution_count": 36,
      "outputs": [
        {
          "output_type": "stream",
          "name": "stdout",
          "text": [
            "안녕!\n"
          ]
        }
      ]
    },
    {
      "cell_type": "code",
      "source": [
        "def say_hi_nice():\n",
        "    print('안녕!')\n",
        "    print('반가워.')"
      ],
      "metadata": {
        "id": "DKWc_3lajK9l"
      },
      "execution_count": 37,
      "outputs": []
    },
    {
      "cell_type": "code",
      "source": [
        "say_hi_nice()"
      ],
      "metadata": {
        "colab": {
          "base_uri": "https://localhost:8080/"
        },
        "id": "2PR9nConjR1r",
        "outputId": "423404d0-3d8b-40fb-a711-57884dcf2bc7"
      },
      "execution_count": 38,
      "outputs": [
        {
          "output_type": "stream",
          "name": "stdout",
          "text": [
            "안녕!\n",
            "반가워.\n"
          ]
        }
      ]
    },
    {
      "cell_type": "code",
      "source": [
        "def say_goodbye():\n",
        "    goodbye = '잘 가!'\n",
        "\n",
        "print(goodbye)"
      ],
      "metadata": {
        "colab": {
          "base_uri": "https://localhost:8080/",
          "height": 215
        },
        "id": "TRtkjUL1jTYK",
        "outputId": "8cdb3048-df54-4f7e-a0d4-8013544fb420"
      },
      "execution_count": 39,
      "outputs": [
        {
          "output_type": "error",
          "ename": "NameError",
          "evalue": "ignored",
          "traceback": [
            "\u001b[0;31m---------------------------------------------------------------------------\u001b[0m",
            "\u001b[0;31mNameError\u001b[0m                                 Traceback (most recent call last)",
            "\u001b[0;32m<ipython-input-39-2af8bd7d5a66>\u001b[0m in \u001b[0;36m<cell line: 4>\u001b[0;34m()\u001b[0m\n\u001b[1;32m      2\u001b[0m     \u001b[0mgoodbye\u001b[0m \u001b[0;34m=\u001b[0m \u001b[0;34m'잘 가!'\u001b[0m\u001b[0;34m\u001b[0m\u001b[0;34m\u001b[0m\u001b[0m\n\u001b[1;32m      3\u001b[0m \u001b[0;34m\u001b[0m\u001b[0m\n\u001b[0;32m----> 4\u001b[0;31m \u001b[0mprint\u001b[0m\u001b[0;34m(\u001b[0m\u001b[0mgoodbye\u001b[0m\u001b[0;34m)\u001b[0m\u001b[0;34m\u001b[0m\u001b[0;34m\u001b[0m\u001b[0m\n\u001b[0m",
            "\u001b[0;31mNameError\u001b[0m: name 'goodbye' is not defined"
          ]
        }
      ]
    },
    {
      "cell_type": "code",
      "source": [
        "name = '하루'\n",
        "\n",
        "def say_name():\n",
        "    print(name)"
      ],
      "metadata": {
        "id": "bnKVjSaajaId"
      },
      "execution_count": null,
      "outputs": []
    },
    {
      "cell_type": "code",
      "source": [
        "say_name()\n",
        "\n",
        "name = '종우'"
      ],
      "metadata": {
        "colab": {
          "base_uri": "https://localhost:8080/"
        },
        "id": "KAqgDc698gk6",
        "outputId": "04b6f16d-79ae-4680-fcad-e7b4c55d36dd"
      },
      "execution_count": 40,
      "outputs": [
        {
          "output_type": "stream",
          "name": "stdout",
          "text": [
            "하루\n"
          ]
        }
      ]
    },
    {
      "cell_type": "code",
      "source": [
        "say_name()"
      ],
      "metadata": {
        "colab": {
          "base_uri": "https://localhost:8080/"
        },
        "id": "j3WUN0gN8kCD",
        "outputId": "f393b4e8-0ce1-4009-f7dd-315e762effbc"
      },
      "execution_count": 41,
      "outputs": [
        {
          "output_type": "stream",
          "name": "stdout",
          "text": [
            "종우\n"
          ]
        }
      ]
    },
    {
      "cell_type": "code",
      "source": [
        "name = '하루'\n",
        "#- name은 문자열 '하루'를 가리키는 변수입니다.\n",
        "\n",
        "def change_name():\n",
        "    name = '종우'\n",
        "    #- 여기서 name은 해당 함수 내에서만 문자열 '시우'를 가리킵니다.\n",
        "\n",
        "change_name()\n",
        "#- 함수를 호출해도 아무 일도 일어나지 않습니다.\n",
        "\n",
        "print(name)\n",
        "#- 첫 줄, 즉 함수 바깥에서 정의된 문자열 '하루'가 출력된다."
      ],
      "metadata": {
        "colab": {
          "base_uri": "https://localhost:8080/"
        },
        "id": "Iv7PqdrZ8mNg",
        "outputId": "8b0d1a36-d600-45f3-e354-4751f9fff210"
      },
      "execution_count": 42,
      "outputs": [
        {
          "output_type": "stream",
          "name": "stdout",
          "text": [
            "하루\n"
          ]
        }
      ]
    },
    {
      "cell_type": "code",
      "source": [
        "def say_hi_somebody(name):\n",
        "    print(name + ', 안녕!')\n",
        "\n",
        "#- 함수를 정의합니다.\n",
        "#- 이 함수는 문자열인 한 개의 입력값을 받아, '[name], 안녕!'을 출력한다."
      ],
      "metadata": {
        "id": "AMLarIjn137v"
      },
      "execution_count": 47,
      "outputs": []
    },
    {
      "cell_type": "code",
      "source": [
        "say_hi_somebody('준이')\n",
        "#- 위에서 정의한 함수를 호출.\n",
        "#- \"준이, 안녕!\"이라고 부르기 위해 입력값으로 '준이'를 줌."
      ],
      "metadata": {
        "colab": {
          "base_uri": "https://localhost:8080/"
        },
        "id": "brnaLx4y2ClN",
        "outputId": "ddf633d1-2714-420b-e36e-2b1fd3ecf1ed"
      },
      "execution_count": 48,
      "outputs": [
        {
          "output_type": "stream",
          "name": "stdout",
          "text": [
            "준이, 안녕!\n"
          ]
        }
      ]
    },
    {
      "cell_type": "code",
      "source": [
        "say_hi_somebody()"
      ],
      "metadata": {
        "colab": {
          "base_uri": "https://localhost:8080/",
          "height": 180
        },
        "id": "2-2sZd3b20dG",
        "outputId": "9e4a73b2-a9d2-4045-c8a5-d026eb31d1b0"
      },
      "execution_count": 49,
      "outputs": [
        {
          "output_type": "error",
          "ename": "TypeError",
          "evalue": "ignored",
          "traceback": [
            "\u001b[0;31m---------------------------------------------------------------------------\u001b[0m",
            "\u001b[0;31mTypeError\u001b[0m                                 Traceback (most recent call last)",
            "\u001b[0;32m<ipython-input-49-72761c90f15b>\u001b[0m in \u001b[0;36m<cell line: 1>\u001b[0;34m()\u001b[0m\n\u001b[0;32m----> 1\u001b[0;31m \u001b[0msay_hi_somebody\u001b[0m\u001b[0;34m(\u001b[0m\u001b[0;34m)\u001b[0m\u001b[0;34m\u001b[0m\u001b[0;34m\u001b[0m\u001b[0m\n\u001b[0m",
            "\u001b[0;31mTypeError\u001b[0m: say_hi_somebody() missing 1 required positional argument: 'name'"
          ]
        }
      ]
    },
    {
      "cell_type": "code",
      "source": [
        "say_hi_nice('준이')"
      ],
      "metadata": {
        "colab": {
          "base_uri": "https://localhost:8080/",
          "height": 180
        },
        "id": "vladvmQj3E_w",
        "outputId": "29f9a6a0-b89b-4648-b6e8-7ef18b73a3dd"
      },
      "execution_count": 50,
      "outputs": [
        {
          "output_type": "error",
          "ename": "TypeError",
          "evalue": "ignored",
          "traceback": [
            "\u001b[0;31m---------------------------------------------------------------------------\u001b[0m",
            "\u001b[0;31mTypeError\u001b[0m                                 Traceback (most recent call last)",
            "\u001b[0;32m<ipython-input-50-313d1560aa0a>\u001b[0m in \u001b[0;36m<cell line: 1>\u001b[0;34m()\u001b[0m\n\u001b[0;32m----> 1\u001b[0;31m \u001b[0msay_hi_nice\u001b[0m\u001b[0;34m(\u001b[0m\u001b[0;34m'준이'\u001b[0m\u001b[0;34m)\u001b[0m\u001b[0;34m\u001b[0m\u001b[0;34m\u001b[0m\u001b[0m\n\u001b[0m",
            "\u001b[0;31mTypeError\u001b[0m: say_hi_nice() takes 0 positional arguments but 1 was given"
          ]
        }
      ]
    },
    {
      "cell_type": "code",
      "source": [
        "say_hi_nice('준이')"
      ],
      "metadata": {
        "colab": {
          "base_uri": "https://localhost:8080/",
          "height": 180
        },
        "id": "3N6Pp-MU3I-C",
        "outputId": "7af216b2-a05c-486a-91be-098ac5ed2afe"
      },
      "execution_count": 52,
      "outputs": [
        {
          "output_type": "error",
          "ename": "TypeError",
          "evalue": "ignored",
          "traceback": [
            "\u001b[0;31m---------------------------------------------------------------------------\u001b[0m",
            "\u001b[0;31mTypeError\u001b[0m                                 Traceback (most recent call last)",
            "\u001b[0;32m<ipython-input-52-313d1560aa0a>\u001b[0m in \u001b[0;36m<cell line: 1>\u001b[0;34m()\u001b[0m\n\u001b[0;32m----> 1\u001b[0;31m \u001b[0msay_hi_nice\u001b[0m\u001b[0;34m(\u001b[0m\u001b[0;34m'준이'\u001b[0m\u001b[0;34m)\u001b[0m\u001b[0;34m\u001b[0m\u001b[0;34m\u001b[0m\u001b[0m\n\u001b[0m",
            "\u001b[0;31mTypeError\u001b[0m: say_hi_nice() takes 0 positional arguments but 1 was given"
          ]
        }
      ]
    },
    {
      "cell_type": "code",
      "source": [
        "def say_hi_default(name = 'somebody'):\n",
        "    print('안녕, ' + name + '!')"
      ],
      "metadata": {
        "id": "ekRWW2473WVe"
      },
      "execution_count": 53,
      "outputs": []
    },
    {
      "cell_type": "code",
      "source": [
        "say_hi_default('준이')"
      ],
      "metadata": {
        "colab": {
          "base_uri": "https://localhost:8080/"
        },
        "id": "-fvgBcZx4IZy",
        "outputId": "05fb0b41-41d9-4445-aecb-e8d8ba0664aa"
      },
      "execution_count": 54,
      "outputs": [
        {
          "output_type": "stream",
          "name": "stdout",
          "text": [
            "안녕, 준이!\n"
          ]
        }
      ]
    },
    {
      "cell_type": "code",
      "source": [
        "def say_hi_couple(name1, name2):\n",
        "    print(name1 + ', ' + name2 + ' 안녕!')"
      ],
      "metadata": {
        "id": "wVQHPI7Z4fQp"
      },
      "execution_count": 55,
      "outputs": []
    },
    {
      "cell_type": "code",
      "source": [
        "say_hi_couple('그리', '단테')"
      ],
      "metadata": {
        "colab": {
          "base_uri": "https://localhost:8080/"
        },
        "id": "XT9w96fY4pBU",
        "outputId": "7e01cf16-a1b2-46a5-aabc-8de83818d922"
      },
      "execution_count": 56,
      "outputs": [
        {
          "output_type": "stream",
          "name": "stdout",
          "text": [
            "그리, 단테 안녕!\n"
          ]
        }
      ]
    },
    {
      "cell_type": "code",
      "source": [
        "say_hi_couple('그리')"
      ],
      "metadata": {
        "colab": {
          "base_uri": "https://localhost:8080/",
          "height": 180
        },
        "id": "4QAA4_RI4rP5",
        "outputId": "8ff5b791-77fe-4a6a-f90e-020b474af7a1"
      },
      "execution_count": 57,
      "outputs": [
        {
          "output_type": "error",
          "ename": "TypeError",
          "evalue": "ignored",
          "traceback": [
            "\u001b[0;31m---------------------------------------------------------------------------\u001b[0m",
            "\u001b[0;31mTypeError\u001b[0m                                 Traceback (most recent call last)",
            "\u001b[0;32m<ipython-input-57-5e4c4cf2f095>\u001b[0m in \u001b[0;36m<cell line: 1>\u001b[0;34m()\u001b[0m\n\u001b[0;32m----> 1\u001b[0;31m \u001b[0msay_hi_couple\u001b[0m\u001b[0;34m(\u001b[0m\u001b[0;34m'그리'\u001b[0m\u001b[0;34m)\u001b[0m\u001b[0;34m\u001b[0m\u001b[0;34m\u001b[0m\u001b[0m\n\u001b[0m",
            "\u001b[0;31mTypeError\u001b[0m: say_hi_couple() missing 1 required positional argument: 'name2'"
          ]
        }
      ]
    },
    {
      "cell_type": "code",
      "source": [
        "say_hi_couple(name1 = '그리', name2 = '단테')"
      ],
      "metadata": {
        "colab": {
          "base_uri": "https://localhost:8080/"
        },
        "id": "qkP3RYvV4tju",
        "outputId": "f25c6719-4eea-4f58-c9dd-6913257261b8"
      },
      "execution_count": 58,
      "outputs": [
        {
          "output_type": "stream",
          "name": "stdout",
          "text": [
            "그리, 단테 안녕!\n"
          ]
        }
      ]
    },
    {
      "cell_type": "code",
      "source": [
        "def say_hi_couple_default(name1, name2 = 'nobody'):\n",
        "    print(name1 + ', ', + name2 + ' 안녕!')"
      ],
      "metadata": {
        "id": "O7E46mFU41aq"
      },
      "execution_count": 59,
      "outputs": []
    },
    {
      "cell_type": "code",
      "source": [
        "say_hi_couple_default(name1 = '종우', )"
      ],
      "metadata": {
        "colab": {
          "base_uri": "https://localhost:8080/",
          "height": 251
        },
        "id": "Yrgl4g9S7Fav",
        "outputId": "ebe036fc-83cb-4682-b7d4-b9756d9ff532"
      },
      "execution_count": 63,
      "outputs": [
        {
          "output_type": "error",
          "ename": "TypeError",
          "evalue": "ignored",
          "traceback": [
            "\u001b[0;31m---------------------------------------------------------------------------\u001b[0m",
            "\u001b[0;31mTypeError\u001b[0m                                 Traceback (most recent call last)",
            "\u001b[0;32m<ipython-input-63-193c7d0c4750>\u001b[0m in \u001b[0;36m<cell line: 1>\u001b[0;34m()\u001b[0m\n\u001b[0;32m----> 1\u001b[0;31m \u001b[0msay_hi_couple_default\u001b[0m\u001b[0;34m(\u001b[0m\u001b[0mname1\u001b[0m \u001b[0;34m=\u001b[0m \u001b[0;34m'종우'\u001b[0m\u001b[0;34m,\u001b[0m \u001b[0;34m)\u001b[0m\u001b[0;34m\u001b[0m\u001b[0;34m\u001b[0m\u001b[0m\n\u001b[0m",
            "\u001b[0;32m<ipython-input-59-1b20157907c2>\u001b[0m in \u001b[0;36msay_hi_couple_default\u001b[0;34m(name1, name2)\u001b[0m\n\u001b[1;32m      1\u001b[0m \u001b[0;32mdef\u001b[0m \u001b[0msay_hi_couple_default\u001b[0m\u001b[0;34m(\u001b[0m\u001b[0mname1\u001b[0m\u001b[0;34m,\u001b[0m \u001b[0mname2\u001b[0m \u001b[0;34m=\u001b[0m \u001b[0;34m'nobody'\u001b[0m\u001b[0;34m)\u001b[0m\u001b[0;34m:\u001b[0m\u001b[0;34m\u001b[0m\u001b[0;34m\u001b[0m\u001b[0m\n\u001b[0;32m----> 2\u001b[0;31m     \u001b[0mprint\u001b[0m\u001b[0;34m(\u001b[0m\u001b[0mname1\u001b[0m \u001b[0;34m+\u001b[0m \u001b[0;34m', '\u001b[0m\u001b[0;34m,\u001b[0m \u001b[0;34m+\u001b[0m \u001b[0mname2\u001b[0m \u001b[0;34m+\u001b[0m \u001b[0;34m' 안녕!'\u001b[0m\u001b[0;34m)\u001b[0m\u001b[0;34m\u001b[0m\u001b[0;34m\u001b[0m\u001b[0m\n\u001b[0m",
            "\u001b[0;31mTypeError\u001b[0m: bad operand type for unary +: 'str'"
          ]
        }
      ]
    },
    {
      "cell_type": "code",
      "source": [
        "def add(number1, number2):\n",
        "    print(number1 + number2)"
      ],
      "metadata": {
        "id": "VoIvIFi97VZW"
      },
      "execution_count": 64,
      "outputs": []
    },
    {
      "cell_type": "code",
      "source": [
        "add(1, 2)"
      ],
      "metadata": {
        "colab": {
          "base_uri": "https://localhost:8080/"
        },
        "id": "cATQzZCw7nra",
        "outputId": "2e5b7565-ceca-4a7a-d2f5-37712bf0318a"
      },
      "execution_count": 65,
      "outputs": [
        {
          "output_type": "stream",
          "name": "stdout",
          "text": [
            "3\n"
          ]
        }
      ]
    },
    {
      "cell_type": "code",
      "source": [
        "print(add(1, 2) + 3)"
      ],
      "metadata": {
        "colab": {
          "base_uri": "https://localhost:8080/",
          "height": 198
        },
        "id": "2QuNpCr27pr4",
        "outputId": "a3261a43-7f2a-42d3-f626-2a4a8b152ce0"
      },
      "execution_count": 66,
      "outputs": [
        {
          "output_type": "stream",
          "name": "stdout",
          "text": [
            "3\n"
          ]
        },
        {
          "output_type": "error",
          "ename": "TypeError",
          "evalue": "ignored",
          "traceback": [
            "\u001b[0;31m---------------------------------------------------------------------------\u001b[0m",
            "\u001b[0;31mTypeError\u001b[0m                                 Traceback (most recent call last)",
            "\u001b[0;32m<ipython-input-66-0db165430b34>\u001b[0m in \u001b[0;36m<cell line: 1>\u001b[0;34m()\u001b[0m\n\u001b[0;32m----> 1\u001b[0;31m \u001b[0mprint\u001b[0m\u001b[0;34m(\u001b[0m\u001b[0madd\u001b[0m\u001b[0;34m(\u001b[0m\u001b[0;36m1\u001b[0m\u001b[0;34m,\u001b[0m \u001b[0;36m2\u001b[0m\u001b[0;34m)\u001b[0m \u001b[0;34m+\u001b[0m \u001b[0;36m3\u001b[0m\u001b[0;34m)\u001b[0m\u001b[0;34m\u001b[0m\u001b[0;34m\u001b[0m\u001b[0m\n\u001b[0m",
            "\u001b[0;31mTypeError\u001b[0m: unsupported operand type(s) for +: 'NoneType' and 'int'"
          ]
        }
      ]
    },
    {
      "cell_type": "code",
      "source": [
        "def add_and_return(number1, number2):\n",
        "    print(number1 + number2)\n",
        "    return number1 + number2"
      ],
      "metadata": {
        "id": "GbN7VaQz7sfG"
      },
      "execution_count": 70,
      "outputs": []
    },
    {
      "cell_type": "code",
      "source": [
        "print(add_and_return(1, 2) + 3)"
      ],
      "metadata": {
        "colab": {
          "base_uri": "https://localhost:8080/"
        },
        "id": "wQXzRmHC71BY",
        "outputId": "0263c235-2657-429b-e753-f9553d7320ef"
      },
      "execution_count": 71,
      "outputs": [
        {
          "output_type": "stream",
          "name": "stdout",
          "text": [
            "3\n",
            "6\n"
          ]
        }
      ]
    },
    {
      "cell_type": "code",
      "source": [
        "print(add_and_return(1, 2) + 3)"
      ],
      "metadata": {
        "colab": {
          "base_uri": "https://localhost:8080/"
        },
        "id": "2CrOt9Gd74vh",
        "outputId": "8bc32305-a748-441f-d71c-71cecfa7d9ac"
      },
      "execution_count": 72,
      "outputs": [
        {
          "output_type": "stream",
          "name": "stdout",
          "text": [
            "3\n",
            "6\n"
          ]
        }
      ]
    },
    {
      "cell_type": "code",
      "source": [
        "def add_and_return(number1, number2):\n",
        "    print(number1 + number2)\n",
        "    return number1 + number2"
      ],
      "metadata": {
        "id": "RU8CEOjV8G2r"
      },
      "execution_count": 73,
      "outputs": []
    },
    {
      "cell_type": "code",
      "source": [
        "print(add_and_return(1, 2) + 3)"
      ],
      "metadata": {
        "colab": {
          "base_uri": "https://localhost:8080/"
        },
        "id": "SMSMatL7CHOa",
        "outputId": "e53b5575-33eb-40de-f2c6-6719c78fe4f0"
      },
      "execution_count": 75,
      "outputs": [
        {
          "output_type": "stream",
          "name": "stdout",
          "text": [
            "3\n",
            "6\n"
          ]
        }
      ]
    },
    {
      "cell_type": "code",
      "source": [
        "print(3 + 3)"
      ],
      "metadata": {
        "colab": {
          "base_uri": "https://localhost:8080/"
        },
        "id": "DnIwVokpCXYS",
        "outputId": "b2a68cfe-b495-4835-f388-fefed86b3907"
      },
      "execution_count": 76,
      "outputs": [
        {
          "output_type": "stream",
          "name": "stdout",
          "text": [
            "6\n"
          ]
        }
      ]
    },
    {
      "cell_type": "code",
      "source": [
        "print(6)"
      ],
      "metadata": {
        "colab": {
          "base_uri": "https://localhost:8080/"
        },
        "id": "yAsCWhT_CaWb",
        "outputId": "1d0efd01-c70b-41a8-b049-796910337b4c"
      },
      "execution_count": 77,
      "outputs": [
        {
          "output_type": "stream",
          "name": "stdout",
          "text": [
            "6\n"
          ]
        }
      ]
    },
    {
      "cell_type": "code",
      "source": [
        "def print_two(word1, word2):\n",
        "    print(word1)\n",
        "    print(word2)\n",
        "\n",
        "def print_and_return(word1, word2, word3):\n",
        "    print_two(word3, word2)\n",
        "    return word1"
      ],
      "metadata": {
        "id": "YYZSGzYRCbB1"
      },
      "execution_count": 78,
      "outputs": []
    },
    {
      "cell_type": "code",
      "source": [
        "print_two('A', print_and_return('B', 'C', 'D'))"
      ],
      "metadata": {
        "colab": {
          "base_uri": "https://localhost:8080/"
        },
        "id": "pCxaJSgMClOA",
        "outputId": "79e2cb56-c328-4165-cb45-aea1fdb1558e"
      },
      "execution_count": 80,
      "outputs": [
        {
          "output_type": "stream",
          "name": "stdout",
          "text": [
            "D\n",
            "C\n",
            "A\n",
            "B\n"
          ]
        }
      ]
    },
    {
      "cell_type": "code",
      "source": [
        "def print_if_positive(number):\n",
        "    if number >= 0:\n",
        "        print(number)\n",
        "\n",
        "print_if_positive(1)\n",
        "print_if_positive(-1)"
      ],
      "metadata": {
        "colab": {
          "base_uri": "https://localhost:8080/"
        },
        "id": "cOJIu9jMCqoB",
        "outputId": "9934adee-5f65-4212-82f7-5f14c046a1ee"
      },
      "execution_count": 81,
      "outputs": [
        {
          "output_type": "stream",
          "name": "stdout",
          "text": [
            "1\n"
          ]
        }
      ]
    },
    {
      "cell_type": "code",
      "source": [
        "def print_whether_positive_or_negative(number):\n",
        "    if number >= 0:\n",
        "        print('+')\n",
        "    else:\n",
        "        print('-')\n",
        "\n",
        "print_whether_positive_or_negative(1)\n",
        "print_whether_positive_or_negative(-1)"
      ],
      "metadata": {
        "colab": {
          "base_uri": "https://localhost:8080/"
        },
        "id": "VelGpZsrC4EP",
        "outputId": "3dcdae41-ba79-48f4-8c94-49e8cc48f072"
      },
      "execution_count": 82,
      "outputs": [
        {
          "output_type": "stream",
          "name": "stdout",
          "text": [
            "+\n",
            "-\n"
          ]
        }
      ]
    },
    {
      "cell_type": "code",
      "source": [
        "def print_whether_positive_or_negative_or_zero(number):\n",
        "    if number > 0:\n",
        "        print('+')\n",
        "    elif number == 0:\n",
        "        print('0')\n",
        "    else:\n",
        "        print('-')\n",
        "\n",
        "print_whether_positive_or_negative_or_zero(1)\n",
        "print_whether_positive_or_negative_or_zero(0)\n",
        "print_whether_positive_or_negative_or_zero(-1)"
      ],
      "metadata": {
        "colab": {
          "base_uri": "https://localhost:8080/"
        },
        "id": "mfH4JjufDEix",
        "outputId": "6e9c8489-db60-4f09-96e0-7426fd41c468"
      },
      "execution_count": 83,
      "outputs": [
        {
          "output_type": "stream",
          "name": "stdout",
          "text": [
            "+\n",
            "0\n",
            "-\n"
          ]
        }
      ]
    },
    {
      "cell_type": "code",
      "source": [
        "def print_if_positive_and_even(number):\n",
        "    if (number > 0) and (number % 2 == 0):\n",
        "        print(number)"
      ],
      "metadata": {
        "id": "8HP0KanSD9ge"
      },
      "execution_count": 85,
      "outputs": []
    },
    {
      "cell_type": "code",
      "source": [
        "print_if_positive_and_even(1)\n",
        "print_if_positive_and_even(-1)\n",
        "print_if_positive_and_even(2)\n",
        "print_if_positive_and_even(-2)"
      ],
      "metadata": {
        "colab": {
          "base_uri": "https://localhost:8080/"
        },
        "id": "ho5un7bsEvRe",
        "outputId": "9ec9e21f-44af-4f08-d57d-4a0c83c35e9d"
      },
      "execution_count": 86,
      "outputs": [
        {
          "output_type": "stream",
          "name": "stdout",
          "text": [
            "2\n"
          ]
        }
      ]
    },
    {
      "cell_type": "code",
      "source": [
        "def print_if_negative_or_odd(number):\n",
        "    if (number < 0) or (number % 2 != 0):\n",
        "        print(number)\n",
        "\n",
        "print_if_negative_or_odd(1)\n",
        "print_if_negative_or_odd(-1)\n",
        "print_if_negative_or_odd(2)\n",
        "print_if_negative_or_odd(-2)"
      ],
      "metadata": {
        "colab": {
          "base_uri": "https://localhost:8080/"
        },
        "id": "WBW9EBeyE2JY",
        "outputId": "f5273e54-4c6e-4e86-e117-21700482080e"
      },
      "execution_count": 87,
      "outputs": [
        {
          "output_type": "stream",
          "name": "stdout",
          "text": [
            "1\n",
            "-1\n",
            "-2\n"
          ]
        }
      ]
    },
    {
      "cell_type": "code",
      "source": [
        "def fibonacci(n):\n",
        "    if n <= 2:\n",
        "        return 1\n",
        "    else:\n",
        "        return fibonacci(n-2) + fibonacci(n-1)\n",
        "\n",
        "n = 1\n",
        "while n <= 20:\n",
        "    print(fibonacci(n))\n",
        "    n = n + 1\n",
        "print('끝!')"
      ],
      "metadata": {
        "colab": {
          "base_uri": "https://localhost:8080/"
        },
        "id": "YQTBM7rAFE9E",
        "outputId": "07f61c07-317a-4446-d4d0-e91b7cdff14e"
      },
      "execution_count": 88,
      "outputs": [
        {
          "output_type": "stream",
          "name": "stdout",
          "text": [
            "1\n",
            "1\n",
            "2\n",
            "3\n",
            "5\n",
            "8\n",
            "13\n",
            "21\n",
            "34\n",
            "55\n",
            "89\n",
            "144\n",
            "233\n",
            "377\n",
            "610\n",
            "987\n",
            "1597\n",
            "2584\n",
            "4181\n",
            "6765\n",
            "끝!\n"
          ]
        }
      ]
    },
    {
      "cell_type": "code",
      "source": [
        "print('H' + 'i'== 'Hi')"
      ],
      "metadata": {
        "colab": {
          "base_uri": "https://localhost:8080/"
        },
        "id": "F74p7eSsFzx3",
        "outputId": "60755390-6e02-4a00-91fb-1148351e7d4f"
      },
      "execution_count": 89,
      "outputs": [
        {
          "output_type": "stream",
          "name": "stdout",
          "text": [
            "True\n"
          ]
        }
      ]
    },
    {
      "cell_type": "code",
      "source": [
        "for character in 'Hello':\n",
        "    print(character)"
      ],
      "metadata": {
        "colab": {
          "base_uri": "https://localhost:8080/"
        },
        "id": "ndFhwfg7F-vz",
        "outputId": "6779b107-e5b0-4509-c9c2-3a5335e08c79"
      },
      "execution_count": 90,
      "outputs": [
        {
          "output_type": "stream",
          "name": "stdout",
          "text": [
            "H\n",
            "e\n",
            "l\n",
            "l\n",
            "o\n"
          ]
        }
      ]
    },
    {
      "cell_type": "code",
      "source": [
        "print('H')"
      ],
      "metadata": {
        "colab": {
          "base_uri": "https://localhost:8080/"
        },
        "id": "KqDzvZGmI2ES",
        "outputId": "da6e5c03-c999-4649-9501-c87acb41ecbe"
      },
      "execution_count": 91,
      "outputs": [
        {
          "output_type": "stream",
          "name": "stdout",
          "text": [
            "H\n"
          ]
        }
      ]
    },
    {
      "cell_type": "code",
      "source": [
        "print(type(1))"
      ],
      "metadata": {
        "colab": {
          "base_uri": "https://localhost:8080/"
        },
        "id": "rEjY7t2ZI4ht",
        "outputId": "766a99ea-f663-47fa-ab59-23c8db69871f"
      },
      "execution_count": 92,
      "outputs": [
        {
          "output_type": "stream",
          "name": "stdout",
          "text": [
            "<class 'int'>\n"
          ]
        }
      ]
    },
    {
      "cell_type": "code",
      "source": [
        "number = 1000 ** 10\n",
        "print(number)"
      ],
      "metadata": {
        "colab": {
          "base_uri": "https://localhost:8080/"
        },
        "id": "96iAANv8I7Z6",
        "outputId": "aaf0c240-50bd-4f68-ef67-93fe7ac59498"
      },
      "execution_count": 93,
      "outputs": [
        {
          "output_type": "stream",
          "name": "stdout",
          "text": [
            "1000000000000000000000000000000\n"
          ]
        }
      ]
    },
    {
      "cell_type": "code",
      "source": [
        "print(type(1.1))"
      ],
      "metadata": {
        "colab": {
          "base_uri": "https://localhost:8080/"
        },
        "id": "GMa9-rDlJAIK",
        "outputId": "dae449f9-ebe1-478d-bdb8-c410a48fa530"
      },
      "execution_count": 94,
      "outputs": [
        {
          "output_type": "stream",
          "name": "stdout",
          "text": [
            "<class 'float'>\n"
          ]
        }
      ]
    },
    {
      "cell_type": "code",
      "source": [
        "print(type(1.0))"
      ],
      "metadata": {
        "colab": {
          "base_uri": "https://localhost:8080/"
        },
        "id": "bujxV6t5JEUb",
        "outputId": "6cb85b71-ed3c-45c4-ef20-1f27a7c05c21"
      },
      "execution_count": 95,
      "outputs": [
        {
          "output_type": "stream",
          "name": "stdout",
          "text": [
            "<class 'float'>\n"
          ]
        }
      ]
    },
    {
      "cell_type": "code",
      "source": [
        "print(1 == 1.0)\n",
        "print(1 + 1.0)"
      ],
      "metadata": {
        "colab": {
          "base_uri": "https://localhost:8080/"
        },
        "id": "zr_BTTHCJG2w",
        "outputId": "bb745269-0803-4001-a3b2-0b2d7c3ccec7"
      },
      "execution_count": 96,
      "outputs": [
        {
          "output_type": "stream",
          "name": "stdout",
          "text": [
            "True\n",
            "2.0\n"
          ]
        }
      ]
    },
    {
      "cell_type": "code",
      "source": [
        "print(float(1))\n",
        "print(type(float(1)))\n",
        "print(int(1.0))\n",
        "print(type(int(1.0)))"
      ],
      "metadata": {
        "colab": {
          "base_uri": "https://localhost:8080/"
        },
        "id": "jo7pIfRWNR_O",
        "outputId": "24738fba-4cfc-4005-f110-0b032f78bb09"
      },
      "execution_count": 97,
      "outputs": [
        {
          "output_type": "stream",
          "name": "stdout",
          "text": [
            "1.0\n",
            "<class 'float'>\n",
            "1\n",
            "<class 'int'>\n"
          ]
        }
      ]
    },
    {
      "cell_type": "code",
      "source": [
        "print(type(None))"
      ],
      "metadata": {
        "colab": {
          "base_uri": "https://localhost:8080/"
        },
        "id": "umv2vKU0NijI",
        "outputId": "f3fd1ce7-31d6-4a18-faa3-ca2b45bc6b49"
      },
      "execution_count": 98,
      "outputs": [
        {
          "output_type": "stream",
          "name": "stdout",
          "text": [
            "<class 'NoneType'>\n"
          ]
        }
      ]
    },
    {
      "cell_type": "code",
      "source": [
        "def get_mobile_phonenum(value):\n",
        "    if len(value) >= 11:\n",
        "        return NewPhoneNumber(value)"
      ],
      "metadata": {
        "id": "0cwRKir4NnlY"
      },
      "execution_count": 100,
      "outputs": []
    },
    {
      "cell_type": "code",
      "source": [
        "print(type(True))\n",
        "print(type(False))"
      ],
      "metadata": {
        "colab": {
          "base_uri": "https://localhost:8080/"
        },
        "id": "2YRAhO4RNvGc",
        "outputId": "f07cefac-795a-488a-bb2c-69319da96c1e"
      },
      "execution_count": 101,
      "outputs": [
        {
          "output_type": "stream",
          "name": "stdout",
          "text": [
            "<class 'bool'>\n",
            "<class 'bool'>\n"
          ]
        }
      ]
    },
    {
      "cell_type": "code",
      "source": [
        "print(not True)\n",
        "print(not not True)"
      ],
      "metadata": {
        "colab": {
          "base_uri": "https://localhost:8080/"
        },
        "id": "NXbb0E58N4U6",
        "outputId": "1e94477a-54a4-4a45-9226-e9bca213aa77"
      },
      "execution_count": 102,
      "outputs": [
        {
          "output_type": "stream",
          "name": "stdout",
          "text": [
            "False\n",
            "True\n"
          ]
        }
      ]
    },
    {
      "cell_type": "code",
      "source": [
        "print(bool(None))\n",
        "print(bool(0))\n",
        "print(bool(1.1))"
      ],
      "metadata": {
        "colab": {
          "base_uri": "https://localhost:8080/"
        },
        "id": "1eNhOAyoN7z5",
        "outputId": "cad55cc9-81f5-4f67-abf6-f61c3af597a0"
      },
      "execution_count": 103,
      "outputs": [
        {
          "output_type": "stream",
          "name": "stdout",
          "text": [
            "False\n",
            "False\n",
            "True\n"
          ]
        }
      ]
    },
    {
      "cell_type": "code",
      "source": [
        "print('He said, \"spam.\"')"
      ],
      "metadata": {
        "colab": {
          "base_uri": "https://localhost:8080/"
        },
        "id": "tT268p2pN_uz",
        "outputId": "b231479a-33f9-4f4c-f508-88f319829c29"
      },
      "execution_count": 104,
      "outputs": [
        {
          "output_type": "stream",
          "name": "stdout",
          "text": [
            "He said, \"spam.\"\n"
          ]
        }
      ]
    },
    {
      "cell_type": "code",
      "source": [
        "print('Quote(\\') and double quote(\\\")')"
      ],
      "metadata": {
        "colab": {
          "base_uri": "https://localhost:8080/"
        },
        "id": "k87sNTi8OD_Y",
        "outputId": "c1d703e9-628c-49a7-86f5-97b469321ec7"
      },
      "execution_count": 105,
      "outputs": [
        {
          "output_type": "stream",
          "name": "stdout",
          "text": [
            "Quote(') and double quote(\")\n"
          ]
        }
      ]
    },
    {
      "cell_type": "code",
      "source": [
        "print('Hello' 'June')"
      ],
      "metadata": {
        "colab": {
          "base_uri": "https://localhost:8080/"
        },
        "id": "9cVF-Ai3OUmn",
        "outputId": "49013efe-0766-41da-fdd3-8bc3c4d1f1fb"
      },
      "execution_count": 106,
      "outputs": [
        {
          "output_type": "stream",
          "name": "stdout",
          "text": [
            "HelloJune\n"
          ]
        }
      ]
    },
    {
      "cell_type": "code",
      "source": [
        "message = 'Hello'\n",
        "print(message[1])"
      ],
      "metadata": {
        "colab": {
          "base_uri": "https://localhost:8080/"
        },
        "id": "a0pe-PsuOYVQ",
        "outputId": "993d8737-58a4-4da9-b216-7b82b3ddf740"
      },
      "execution_count": 107,
      "outputs": [
        {
          "output_type": "stream",
          "name": "stdout",
          "text": [
            "e\n"
          ]
        }
      ]
    },
    {
      "cell_type": "code",
      "source": [
        "message = 'Hello'\n",
        "print(message[-1])"
      ],
      "metadata": {
        "colab": {
          "base_uri": "https://localhost:8080/"
        },
        "id": "yyvLxWBAOdW3",
        "outputId": "aef7efe7-2c76-450b-b3e3-f81be6d5392d"
      },
      "execution_count": 108,
      "outputs": [
        {
          "output_type": "stream",
          "name": "stdout",
          "text": [
            "o\n"
          ]
        }
      ]
    },
    {
      "cell_type": "code",
      "source": [
        "message = 'Hello'\n",
        "print(message[0:4])"
      ],
      "metadata": {
        "colab": {
          "base_uri": "https://localhost:8080/"
        },
        "id": "-Df0LBySOhDO",
        "outputId": "db8a9c16-523d-4100-a524-9847ec176b53"
      },
      "execution_count": 109,
      "outputs": [
        {
          "output_type": "stream",
          "name": "stdout",
          "text": [
            "Hell\n"
          ]
        }
      ]
    },
    {
      "cell_type": "code",
      "source": [
        "message = 'Hello'\n",
        "print(message[2:])"
      ],
      "metadata": {
        "colab": {
          "base_uri": "https://localhost:8080/"
        },
        "id": "u1r8wyeXOlY_",
        "outputId": "af3b1a13-94d6-475b-bc3e-91f00a5f0b3b"
      },
      "execution_count": 110,
      "outputs": [
        {
          "output_type": "stream",
          "name": "stdout",
          "text": [
            "llo\n"
          ]
        }
      ]
    },
    {
      "cell_type": "code",
      "source": [
        "message = 'Hello'\n",
        "print(message[::1])   # 기본 (한 칸 씩)\n",
        "print(message[:-1:1]) #기본 (한 칸 씩)\n",
        "print(message[::2])   #두 칸 씩"
      ],
      "metadata": {
        "colab": {
          "base_uri": "https://localhost:8080/"
        },
        "id": "9VHY1f9kOoiB",
        "outputId": "450ef4c1-c0f2-40b6-f198-85f7558be7c6"
      },
      "execution_count": 111,
      "outputs": [
        {
          "output_type": "stream",
          "name": "stdout",
          "text": [
            "Hello\n",
            "Hell\n",
            "Hlo\n"
          ]
        }
      ]
    },
    {
      "cell_type": "code",
      "source": [
        "message = 'Hello'\n",
        "print(message[::-1])  #거꾸로 출력"
      ],
      "metadata": {
        "colab": {
          "base_uri": "https://localhost:8080/"
        },
        "id": "pkoyXJqkO1fy",
        "outputId": "e049d362-2a7b-4840-b99f-754b39853bcb"
      },
      "execution_count": 112,
      "outputs": [
        {
          "output_type": "stream",
          "name": "stdout",
          "text": [
            "olleH\n"
          ]
        }
      ]
    },
    {
      "cell_type": "code",
      "source": [
        "numbers = (1, 2, 3)\n",
        "for number in numbers:\n",
        "    print(number)"
      ],
      "metadata": {
        "colab": {
          "base_uri": "https://localhost:8080/"
        },
        "id": "Ng77YJrWO-8M",
        "outputId": "e5ac7edb-7b6f-47e8-f88e-2cab1cc796f9"
      },
      "execution_count": 113,
      "outputs": [
        {
          "output_type": "stream",
          "name": "stdout",
          "text": [
            "1\n",
            "2\n",
            "3\n"
          ]
        }
      ]
    },
    {
      "cell_type": "code",
      "source": [
        "mixed_tuple = ('Hello', 0, True)"
      ],
      "metadata": {
        "id": "iUgvkqBlPDj4"
      },
      "execution_count": 114,
      "outputs": []
    },
    {
      "cell_type": "code",
      "source": [
        "tuple_123 = (1, 2, 3)\n",
        "print(tuple_123[0])"
      ],
      "metadata": {
        "colab": {
          "base_uri": "https://localhost:8080/"
        },
        "id": "5MG7jWw-PHYF",
        "outputId": "fb2d253d-ed08-4ef4-ab03-20b588f1f212"
      },
      "execution_count": 115,
      "outputs": [
        {
          "output_type": "stream",
          "name": "stdout",
          "text": [
            "1\n"
          ]
        }
      ]
    },
    {
      "cell_type": "code",
      "source": [
        "tuple_123 = (1, 2, 3)\n",
        "tuple_123[0] = 0"
      ],
      "metadata": {
        "colab": {
          "base_uri": "https://localhost:8080/",
          "height": 198
        },
        "id": "qVYQZwjHPLJS",
        "outputId": "b973fc83-de67-4c3b-dd89-53a5589d7941"
      },
      "execution_count": 116,
      "outputs": [
        {
          "output_type": "error",
          "ename": "TypeError",
          "evalue": "ignored",
          "traceback": [
            "\u001b[0;31m---------------------------------------------------------------------------\u001b[0m",
            "\u001b[0;31mTypeError\u001b[0m                                 Traceback (most recent call last)",
            "\u001b[0;32m<ipython-input-116-34292a951efb>\u001b[0m in \u001b[0;36m<cell line: 2>\u001b[0;34m()\u001b[0m\n\u001b[1;32m      1\u001b[0m \u001b[0mtuple_123\u001b[0m \u001b[0;34m=\u001b[0m \u001b[0;34m(\u001b[0m\u001b[0;36m1\u001b[0m\u001b[0;34m,\u001b[0m \u001b[0;36m2\u001b[0m\u001b[0;34m,\u001b[0m \u001b[0;36m3\u001b[0m\u001b[0;34m)\u001b[0m\u001b[0;34m\u001b[0m\u001b[0;34m\u001b[0m\u001b[0m\n\u001b[0;32m----> 2\u001b[0;31m \u001b[0mtuple_123\u001b[0m\u001b[0;34m[\u001b[0m\u001b[0;36m0\u001b[0m\u001b[0;34m]\u001b[0m \u001b[0;34m=\u001b[0m \u001b[0;36m0\u001b[0m\u001b[0;34m\u001b[0m\u001b[0;34m\u001b[0m\u001b[0m\n\u001b[0m",
            "\u001b[0;31mTypeError\u001b[0m: 'tuple' object does not support item assignment"
          ]
        }
      ]
    },
    {
      "cell_type": "code",
      "source": [
        "nested_tuple = ((1, 2), (3, 4))\n",
        "print(nested_tuple[1][0])"
      ],
      "metadata": {
        "colab": {
          "base_uri": "https://localhost:8080/"
        },
        "id": "LBZRPAwUPQ3c",
        "outputId": "abd056f3-eca7-4608-e32a-29d496bdcc38"
      },
      "execution_count": 117,
      "outputs": [
        {
          "output_type": "stream",
          "name": "stdout",
          "text": [
            "3\n"
          ]
        }
      ]
    },
    {
      "cell_type": "code",
      "source": [
        "tuple_a = (1, 2)\n",
        "tuple_b = (3, 4)\n",
        "print(tuple_a + tuple_b)"
      ],
      "metadata": {
        "colab": {
          "base_uri": "https://localhost:8080/"
        },
        "id": "lqRwC8SCPbeR",
        "outputId": "931e6430-b125-460e-a7c8-ec1a278e463e"
      },
      "execution_count": 118,
      "outputs": [
        {
          "output_type": "stream",
          "name": "stdout",
          "text": [
            "(1, 2, 3, 4)\n"
          ]
        }
      ]
    },
    {
      "cell_type": "code",
      "source": [
        "tuple_abc = ('a', 'b', 'c')\n",
        "print('a' in tuple_abc)\n",
        "print('d' in tuple_abc)"
      ],
      "metadata": {
        "colab": {
          "base_uri": "https://localhost:8080/"
        },
        "id": "yxMEQyHBPgwM",
        "outputId": "38c84e31-6fed-494d-aa04-98ab0dafd67d"
      },
      "execution_count": 119,
      "outputs": [
        {
          "output_type": "stream",
          "name": "stdout",
          "text": [
            "True\n",
            "False\n"
          ]
        }
      ]
    },
    {
      "cell_type": "code",
      "source": [
        "list_a = [1, 2]\n",
        "list_b = ['3', '4']\n",
        "print(list_a, list_b)"
      ],
      "metadata": {
        "colab": {
          "base_uri": "https://localhost:8080/"
        },
        "id": "SmQfH535PnYP",
        "outputId": "7fd91134-95f3-42c9-9f14-f895ffb28475"
      },
      "execution_count": 120,
      "outputs": [
        {
          "output_type": "stream",
          "name": "stdout",
          "text": [
            "[1, 2] ['3', '4']\n"
          ]
        }
      ]
    },
    {
      "cell_type": "code",
      "source": [
        "list_123 = [1, 2, 3]\n",
        "list_123[0] = 0\n",
        "print(list_123)"
      ],
      "metadata": {
        "colab": {
          "base_uri": "https://localhost:8080/"
        },
        "id": "a_HQqWmxP5Fj",
        "outputId": "42d28265-f04f-48ed-ac3b-13cb51e3fc16"
      },
      "execution_count": 121,
      "outputs": [
        {
          "output_type": "stream",
          "name": "stdout",
          "text": [
            "[0, 2, 3]\n"
          ]
        }
      ]
    },
    {
      "cell_type": "code",
      "source": [
        "list_123 = [1, 2, 3]\n",
        "list_123.append(4)\n",
        "print(list_123)"
      ],
      "metadata": {
        "colab": {
          "base_uri": "https://localhost:8080/"
        },
        "id": "oxk0gUo6P91r",
        "outputId": "49b27636-63e3-4e90-fb4d-52f524198ca1"
      },
      "execution_count": 122,
      "outputs": [
        {
          "output_type": "stream",
          "name": "stdout",
          "text": [
            "[1, 2, 3, 4]\n"
          ]
        }
      ]
    },
    {
      "cell_type": "code",
      "source": [
        "list_123.remove(4)\n",
        "print(list_123)"
      ],
      "metadata": {
        "colab": {
          "base_uri": "https://localhost:8080/"
        },
        "id": "Zzgy4gr7QCQX",
        "outputId": "352f46a1-8eed-4687-ab47-f84a529f851f"
      },
      "execution_count": 123,
      "outputs": [
        {
          "output_type": "stream",
          "name": "stdout",
          "text": [
            "[1, 2, 3]\n"
          ]
        }
      ]
    },
    {
      "cell_type": "code",
      "source": [
        "list_123.pop(0)\n",
        "print(list_123)"
      ],
      "metadata": {
        "colab": {
          "base_uri": "https://localhost:8080/"
        },
        "id": "dkKdhEgoQExz",
        "outputId": "63902a6d-a271-4cf7-a34c-12d0f3da1e4a"
      },
      "execution_count": 124,
      "outputs": [
        {
          "output_type": "stream",
          "name": "stdout",
          "text": [
            "[2, 3]\n"
          ]
        }
      ]
    },
    {
      "cell_type": "code",
      "source": [
        "conductor = {'first_name': '단테', 'last_name': '안'}\n",
        "print(conductor['first_name'])"
      ],
      "metadata": {
        "colab": {
          "base_uri": "https://localhost:8080/"
        },
        "id": "Oc9a4E44QGjm",
        "outputId": "b2b8a2c3-54a6-41ee-e142-13bdfc768c38"
      },
      "execution_count": 126,
      "outputs": [
        {
          "output_type": "stream",
          "name": "stdout",
          "text": [
            "단테\n"
          ]
        }
      ]
    },
    {
      "cell_type": "code",
      "source": [
        "conductor = {'first_name' : '단테', 'last_name' : '안'}\n",
        "conductor['gender'] = 'male'\n",
        "print(conductor)"
      ],
      "metadata": {
        "colab": {
          "base_uri": "https://localhost:8080/"
        },
        "id": "5MLrsMnbQPWh",
        "outputId": "9c9d14a0-31a0-4c5d-9be4-2c95fa6b4638"
      },
      "execution_count": 127,
      "outputs": [
        {
          "output_type": "stream",
          "name": "stdout",
          "text": [
            "{'first_name': '단테', 'last_name': '안', 'gender': 'male'}\n"
          ]
        }
      ]
    },
    {
      "cell_type": "code",
      "source": [
        "conductor = {'first_name': '단테', 'last_name': '안'}\n",
        "conductor.pop('last_name')\n",
        "print(conductor)"
      ],
      "metadata": {
        "colab": {
          "base_uri": "https://localhost:8080/"
        },
        "id": "FeR906NNQdAY",
        "outputId": "3c0657e0-ac8c-42f1-e1f3-8f501d0b67c8"
      },
      "execution_count": 128,
      "outputs": [
        {
          "output_type": "stream",
          "name": "stdout",
          "text": [
            "{'first_name': '단테'}\n"
          ]
        }
      ]
    },
    {
      "cell_type": "code",
      "source": [
        "conductor = {'first_name' : '단테', 'last_name' : '안'}\n",
        "for key in conductor:\n",
        "    print(key)"
      ],
      "metadata": {
        "colab": {
          "base_uri": "https://localhost:8080/"
        },
        "id": "5Xxfg6bZQkkt",
        "outputId": "c1a68a4b-3155-4f1e-d484-0b07cbdeb0f1"
      },
      "execution_count": 129,
      "outputs": [
        {
          "output_type": "stream",
          "name": "stdout",
          "text": [
            "first_name\n",
            "last_name\n"
          ]
        }
      ]
    },
    {
      "cell_type": "code",
      "source": [
        "conductor = {'first_name': '단테', 'last_name' : '안'}\n",
        "for key, value in conductor.items():\n",
        "    print(key + ' : ' + value)"
      ],
      "metadata": {
        "colab": {
          "base_uri": "https://localhost:8080/"
        },
        "id": "NqshhsEDQsSP",
        "outputId": "7060b719-1719-4813-bd94-5601f9808df4"
      },
      "execution_count": 130,
      "outputs": [
        {
          "output_type": "stream",
          "name": "stdout",
          "text": [
            "first_name : 단테\n",
            "last_name : 안\n"
          ]
        }
      ]
    },
    {
      "cell_type": "markdown",
      "source": [
        "함수(function) : 불려진 시점에 특정한 작업을 수행, 입력값 출력값(반환값)을 가질 수 있다.\n",
        "* 인자(argument): 함수를 호출할 때 전달하는 입력값\n",
        "* 매개변수(parameter): 함수가 실행될 때 입력값이 들어올 변수\n",
        "* 반환값(return value): 함수가 종료될 때 호출 지점으로 전달할 출력값."
      ],
      "metadata": {
        "id": "UzkbuOmPRBtZ"
      }
    },
    {
      "cell_type": "markdown",
      "source": [
        "변수(variable) : 값을 가리키는 이름\n",
        "* 스코프(scope): 변수가 유효한 범위"
      ],
      "metadata": {
        "id": "jTccJZ4_RnIa"
      }
    },
    {
      "cell_type": "markdown",
      "source": [
        "연산자(operator) : 주어진 값들에 대해 정해진 연산을 수행\n",
        "* 수리 연산자(mathematical operator): +, -, *, /, //, **\n",
        "* 비교 연산자(comparison operator): ==, !=, <, >, <=, >=, is\n",
        "* 논리 연산자(logical operator): and, or\n",
        "* 소속 연산자(membership operator):in"
      ],
      "metadata": {
        "id": "66bPXq1YRxvM"
      }
    },
    {
      "cell_type": "markdown",
      "source": [
        "제어문(control statements):코드 블록의 흐름(실행 여부, 반복)을 제어.\n",
        "* if: 명제가 참이면 실행\n",
        "* else : if 명제 이외의 경우에 실행\n",
        "* elif : if 명제 이외의 경우에 또 다른 명제가 참일 경우 실행\n",
        "* while : 명제가 참일 동안 반복\n",
        "* for : 주어진 값들 하나씩 반복"
      ],
      "metadata": {
        "id": "dFEWBfkISGbW"
      }
    },
    {
      "cell_type": "markdown",
      "source": [
        "자료형(data types): 값들의 종류를 나타냄.\n",
        "* 정수(int), 부동소수점 수(float), 불리언(bool), 문자열(str), 튜플(tuple), 리스트(list), 딕셔너리(dict)"
      ],
      "metadata": {
        "id": "dQYqx3teTU7l"
      }
    },
    {
      "cell_type": "code",
      "source": [
        "def FibonaChicken(n):\n",
        "    return number"
      ],
      "metadata": {
        "id": "GYGsftznTgJ-"
      },
      "execution_count": 131,
      "outputs": []
    },
    {
      "cell_type": "code",
      "source": [
        "def fibonacci(n):\n",
        "    return number"
      ],
      "metadata": {
        "id": "DnvdQT3pToK-"
      },
      "execution_count": 132,
      "outputs": []
    },
    {
      "cell_type": "code",
      "source": [
        "def fibonacci(n):\n",
        "    number = fibonacci(n-1) + fibonacci(n-2)\n",
        "    return number"
      ],
      "metadata": {
        "id": "mXCiSSHrTswN"
      },
      "execution_count": 133,
      "outputs": []
    },
    {
      "cell_type": "code",
      "source": [
        "def fibonacci(n):\n",
        "    if n <= 2:\n",
        "        number = 1\n",
        "    else:\n",
        "        number = fibonacci(n-1) + fibonacci(n-2)\n",
        "    return number"
      ],
      "metadata": {
        "id": "5_P8zSK_T1zu"
      },
      "execution_count": 134,
      "outputs": []
    },
    {
      "cell_type": "code",
      "source": [
        "memory = {1: 1, 2: 1}\n",
        "\n",
        "def fibonacci(n):\n",
        "    if n in memory:\n",
        "        number = memory[n]\n",
        "    else:\n",
        "        number = fibonacci(n-1) + fibonacci(n-2)\n",
        "    return number"
      ],
      "metadata": {
        "id": "2GgAbMonT_62"
      },
      "execution_count": 135,
      "outputs": []
    },
    {
      "cell_type": "code",
      "source": [
        "memory = {1: 1, 2: 1}\n",
        "\n",
        "def fibonacci(n):\n",
        "    if n in memory:\n",
        "        number = memory[n]\n",
        "    else:\n",
        "       number = fibonacci(n-1) + fibonacci(n-2)\n",
        "       memory[n] = number\n",
        "    return number"
      ],
      "metadata": {
        "id": "PceFUtTVUSAJ"
      },
      "execution_count": 136,
      "outputs": []
    },
    {
      "cell_type": "code",
      "source": [
        "memory = {1: 1, 2: 1}\n",
        "\n",
        "def fibonacci(n):\n",
        "    if n in memory:\n",
        "        number = memory[n]\n",
        "    else:\n",
        "        number = fibonacci(n-1) + fibonacci(n-2)\n",
        "        memory[n] = number\n",
        "    return number\n",
        "\n",
        "print(fibonacci(100))\n",
        "\n",
        "print(memory)"
      ],
      "metadata": {
        "colab": {
          "base_uri": "https://localhost:8080/"
        },
        "id": "k-AwacboUfPE",
        "outputId": "e591f31f-62c4-40c3-a054-c9bcbd3d5719"
      },
      "execution_count": 137,
      "outputs": [
        {
          "output_type": "stream",
          "name": "stdout",
          "text": [
            "354224848179261915075\n",
            "{1: 1, 2: 1, 3: 2, 4: 3, 5: 5, 6: 8, 7: 13, 8: 21, 9: 34, 10: 55, 11: 89, 12: 144, 13: 233, 14: 377, 15: 610, 16: 987, 17: 1597, 18: 2584, 19: 4181, 20: 6765, 21: 10946, 22: 17711, 23: 28657, 24: 46368, 25: 75025, 26: 121393, 27: 196418, 28: 317811, 29: 514229, 30: 832040, 31: 1346269, 32: 2178309, 33: 3524578, 34: 5702887, 35: 9227465, 36: 14930352, 37: 24157817, 38: 39088169, 39: 63245986, 40: 102334155, 41: 165580141, 42: 267914296, 43: 433494437, 44: 701408733, 45: 1134903170, 46: 1836311903, 47: 2971215073, 48: 4807526976, 49: 7778742049, 50: 12586269025, 51: 20365011074, 52: 32951280099, 53: 53316291173, 54: 86267571272, 55: 139583862445, 56: 225851433717, 57: 365435296162, 58: 591286729879, 59: 956722026041, 60: 1548008755920, 61: 2504730781961, 62: 4052739537881, 63: 6557470319842, 64: 10610209857723, 65: 17167680177565, 66: 27777890035288, 67: 44945570212853, 68: 72723460248141, 69: 117669030460994, 70: 190392490709135, 71: 308061521170129, 72: 498454011879264, 73: 806515533049393, 74: 1304969544928657, 75: 2111485077978050, 76: 3416454622906707, 77: 5527939700884757, 78: 8944394323791464, 79: 14472334024676221, 80: 23416728348467685, 81: 37889062373143906, 82: 61305790721611591, 83: 99194853094755497, 84: 160500643816367088, 85: 259695496911122585, 86: 420196140727489673, 87: 679891637638612258, 88: 1100087778366101931, 89: 1779979416004714189, 90: 2880067194370816120, 91: 4660046610375530309, 92: 7540113804746346429, 93: 12200160415121876738, 94: 19740274219868223167, 95: 31940434634990099905, 96: 51680708854858323072, 97: 83621143489848422977, 98: 135301852344706746049, 99: 218922995834555169026, 100: 354224848179261915075}\n"
          ]
        }
      ]
    },
    {
      "cell_type": "code",
      "source": [],
      "metadata": {
        "id": "sfNNLDBcUwRV"
      },
      "execution_count": null,
      "outputs": []
    }
  ]
}