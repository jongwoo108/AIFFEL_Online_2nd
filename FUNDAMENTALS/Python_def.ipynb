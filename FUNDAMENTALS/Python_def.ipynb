{
  "nbformat": 4,
  "nbformat_minor": 0,
  "metadata": {
    "colab": {
      "provenance": []
    },
    "kernelspec": {
      "name": "python3",
      "display_name": "Python 3"
    },
    "language_info": {
      "name": "python"
    }
  },
  "cells": [
    {
      "cell_type": "code",
      "execution_count": 1,
      "metadata": {
        "id": "1jBj_zP8Bov_"
      },
      "outputs": [],
      "source": [
        "def function_f(input_x):\n",
        "    output_x = input_x * input_x\n",
        "    return output_x"
      ]
    },
    {
      "cell_type": "code",
      "source": [
        "list_data = [10, 20, 30, 40]\n",
        "list_data2 = [20, 30, 40, 50]\n",
        "\n",
        "length = len(list_data)\n",
        "max_result = list_data[0]\n",
        "for i in range(length):\n",
        "    if max_result < list_data[i]:\n",
        "        max_result = list_data[i]\n",
        "\n",
        "print(\"최댓값은 \", max_result)\n",
        "\n",
        "length = len(list_data2)\n",
        "max_result = list_data2[0]\n",
        "for i in range(length):\n",
        "    if max_result < list_data2[i]:\n",
        "        max_result = list_data2[i]\n",
        "\n",
        "print(\"최댓값은 \", max_result)"
      ],
      "metadata": {
        "colab": {
          "base_uri": "https://localhost:8080/"
        },
        "id": "s0nVRtFHB5E_",
        "outputId": "53675e15-e185-48bb-a98a-032c8882c13e"
      },
      "execution_count": 3,
      "outputs": [
        {
          "output_type": "stream",
          "name": "stdout",
          "text": [
            "최댓값은  40\n",
            "최댓값은  50\n"
          ]
        }
      ]
    },
    {
      "cell_type": "code",
      "source": [
        "def max_function(x):\n",
        "    length = len(x)\n",
        "    max_result = x[0]\n",
        "    for i in range(length):\n",
        "        if max_result < x[i]:\n",
        "            max_result = x[i]\n",
        "    return max_result\n",
        "\n",
        "print(\"최댓값은 \", max_function(list_data))\n",
        "print(\"최댓값은 \", max_function(list_data2))"
      ],
      "metadata": {
        "colab": {
          "base_uri": "https://localhost:8080/"
        },
        "id": "8vYjSJ6uCYI0",
        "outputId": "aa3ea3f9-2316-43bf-86f0-00a9424bdcc1"
      },
      "execution_count": 4,
      "outputs": [
        {
          "output_type": "stream",
          "name": "stdout",
          "text": [
            "최댓값은  40\n",
            "최댓값은  50\n"
          ]
        }
      ]
    },
    {
      "cell_type": "code",
      "source": [
        "def empty_function():"
      ],
      "metadata": {
        "colab": {
          "base_uri": "https://localhost:8080/",
          "height": 144
        },
        "id": "NJ_5epjoC2WW",
        "outputId": "51e2ff78-5873-4555-e77b-585c0d0c88f4"
      },
      "execution_count": 5,
      "outputs": [
        {
          "output_type": "error",
          "ename": "SyntaxError",
          "evalue": "ignored",
          "traceback": [
            "\u001b[0;36m  File \u001b[0;32m\"<ipython-input-5-89446e6ffbda>\"\u001b[0;36m, line \u001b[0;32m1\u001b[0m\n\u001b[0;31m    def empty_function():\u001b[0m\n\u001b[0m                         ^\u001b[0m\n\u001b[0;31mSyntaxError\u001b[0m\u001b[0;31m:\u001b[0m incomplete input\n"
          ]
        }
      ]
    },
    {
      "cell_type": "code",
      "source": [
        "def empth_function():\n",
        "    pass"
      ],
      "metadata": {
        "id": "0MgA5LTMC-aj"
      },
      "execution_count": 6,
      "outputs": []
    },
    {
      "cell_type": "markdown",
      "source": [
        "pass문은 기타 제어 흐름도구이다. \\\n",
        "pass가 하는 일은 아무것도 하지 않는 일이다. \\\n",
        "즉 문법적으로 해당 문장이 필요하지만, 프로그램이 특별히 할 일이 없을 때 사용할 수 있다. \\\n",
        "사용 가능한 곳은 다양하며, 대표적으로 위에서 사용한 함수 내부, if 내부, while 내부 등 다양한 곳에서 쓸 수 있다."
      ],
      "metadata": {
        "id": "xdPvfaeJDAva"
      }
    },
    {
      "cell_type": "code",
      "source": [
        "def say_something(txt):\n",
        "    return txt\n",
        "\n",
        "def sent(function, count):\n",
        "    for i in range(count):\n",
        "        print(function)\n",
        "\n",
        "sent(say_something(\"안녕!\"), 2)"
      ],
      "metadata": {
        "colab": {
          "base_uri": "https://localhost:8080/"
        },
        "id": "yXP_8md-DOJr",
        "outputId": "ae76f8a8-03f2-4f2c-a10c-e0add1d5189b"
      },
      "execution_count": 7,
      "outputs": [
        {
          "output_type": "stream",
          "name": "stdout",
          "text": [
            "안녕!\n",
            "안녕!\n"
          ]
        }
      ]
    },
    {
      "cell_type": "code",
      "source": [
        "list_data = [30, 20, 20, 40]\n",
        "\n",
        "def minmax_function(x_list):\n",
        "\n",
        "    def inner_min_function(x):\n",
        "        length = len(x)\n",
        "        min_result = x[0]\n",
        "        for i in range(length):\n",
        "            if min_result > x[i]:\n",
        "                min_result = x[i]\n",
        "        return min_result\n",
        "\n",
        "    def inner_max_function(x):\n",
        "        length = len(x)\n",
        "        max_result = x[0]\n",
        "        for i in range(length):\n",
        "            if max_result < x[i]:\n",
        "                max_result = x[i]\n",
        "        return max_result\n",
        "\n",
        "    x_min = inner_min_function(x_list)\n",
        "    x_max = inner_max_function(x_list)\n",
        "\n",
        "    minmax_list = [x_min, x_max]\n",
        "\n",
        "    return minmax_list\n",
        "\n",
        "print(\"최솟값, 최댓값은 : \", minmax_function(list_data))\n",
        "print(\"최솟값은 :\", minmax_function(list_data)[0])\n",
        "print(\"최댓값은 :\", minmax_function(list_data)[1])"
      ],
      "metadata": {
        "colab": {
          "base_uri": "https://localhost:8080/"
        },
        "id": "41zG2s1mDet9",
        "outputId": "f56c0697-c78e-4adf-c1d6-500f7ef4198b"
      },
      "execution_count": 8,
      "outputs": [
        {
          "output_type": "stream",
          "name": "stdout",
          "text": [
            "최솟값, 최댓값은 :  [20, 40]\n",
            "최솟값은 : 20\n",
            "최댓값은 : 40\n"
          ]
        }
      ]
    },
    {
      "cell_type": "code",
      "source": [
        "print(\"최솟값, 최댓값은 : \", inner_min_function(list_data))\n",
        "print(\"최솟값은 : \", minmax_function(list_data)[0])\n",
        "print(\"최댓값은 : \", minmax_function(list_data)[1])"
      ],
      "metadata": {
        "colab": {
          "base_uri": "https://localhost:8080/",
          "height": 215
        },
        "id": "B8oikSHCEcl1",
        "outputId": "8833a4d4-8c7f-400f-93c8-38eec4e4a010"
      },
      "execution_count": 9,
      "outputs": [
        {
          "output_type": "error",
          "ename": "NameError",
          "evalue": "ignored",
          "traceback": [
            "\u001b[0;31m---------------------------------------------------------------------------\u001b[0m",
            "\u001b[0;31mNameError\u001b[0m                                 Traceback (most recent call last)",
            "\u001b[0;32m<ipython-input-9-2f82411a0b5a>\u001b[0m in \u001b[0;36m<cell line: 1>\u001b[0;34m()\u001b[0m\n\u001b[0;32m----> 1\u001b[0;31m \u001b[0mprint\u001b[0m\u001b[0;34m(\u001b[0m\u001b[0;34m\"최솟값, 최댓값은 : \"\u001b[0m\u001b[0;34m,\u001b[0m \u001b[0minner_min_function\u001b[0m\u001b[0;34m(\u001b[0m\u001b[0mlist_data\u001b[0m\u001b[0;34m)\u001b[0m\u001b[0;34m)\u001b[0m\u001b[0;34m\u001b[0m\u001b[0;34m\u001b[0m\u001b[0m\n\u001b[0m\u001b[1;32m      2\u001b[0m \u001b[0mprint\u001b[0m\u001b[0;34m(\u001b[0m\u001b[0;34m\"최솟값은 : \"\u001b[0m\u001b[0;34m,\u001b[0m \u001b[0mminmax_function\u001b[0m\u001b[0;34m(\u001b[0m\u001b[0mlist_data\u001b[0m\u001b[0;34m)\u001b[0m\u001b[0;34m[\u001b[0m\u001b[0;36m0\u001b[0m\u001b[0;34m]\u001b[0m\u001b[0;34m)\u001b[0m\u001b[0;34m\u001b[0m\u001b[0;34m\u001b[0m\u001b[0m\n\u001b[1;32m      3\u001b[0m \u001b[0mprint\u001b[0m\u001b[0;34m(\u001b[0m\u001b[0;34m\"최댓값은 : \"\u001b[0m\u001b[0;34m,\u001b[0m \u001b[0mminmax_function\u001b[0m\u001b[0;34m(\u001b[0m\u001b[0mlist_data\u001b[0m\u001b[0;34m)\u001b[0m\u001b[0;34m[\u001b[0m\u001b[0;36m1\u001b[0m\u001b[0;34m]\u001b[0m\u001b[0;34m)\u001b[0m\u001b[0;34m\u001b[0m\u001b[0;34m\u001b[0m\u001b[0m\n",
            "\u001b[0;31mNameError\u001b[0m: name 'inner_min_function' is not defined"
          ]
        }
      ]
    },
    {
      "cell_type": "code",
      "source": [],
      "metadata": {
        "id": "nt-BuNTQEpqK"
      },
      "execution_count": null,
      "outputs": []
    }
  ]
}