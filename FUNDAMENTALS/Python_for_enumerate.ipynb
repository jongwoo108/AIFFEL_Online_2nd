{
  "nbformat": 4,
  "nbformat_minor": 0,
  "metadata": {
    "colab": {
      "provenance": []
    },
    "kernelspec": {
      "name": "python3",
      "display_name": "Python 3"
    },
    "language_info": {
      "name": "python"
    }
  },
  "cells": [
    {
      "cell_type": "markdown",
      "source": [
        "for문 잘써보기 - enumerate()와 이중 for문"
      ],
      "metadata": {
        "id": "aHbz4Qz93Ylo"
      }
    },
    {
      "cell_type": "code",
      "source": [
        "my_list = ['a', 'b', 'c', 'd']\n",
        "\n",
        "for i in my_list:\n",
        "    print('값 : ', i)"
      ],
      "metadata": {
        "colab": {
          "base_uri": "https://localhost:8080/"
        },
        "id": "G_cLlKhQ3dTF",
        "outputId": "f12086af-6ebe-4770-c128-cfc515475950"
      },
      "execution_count": 1,
      "outputs": [
        {
          "output_type": "stream",
          "name": "stdout",
          "text": [
            "값 :  a\n",
            "값 :  b\n",
            "값 :  c\n",
            "값 :  d\n"
          ]
        }
      ]
    },
    {
      "cell_type": "code",
      "source": [
        "my_list = ['a', 'b', 'c', 'd']\n",
        "\n",
        "for i, value in enumerate(my_list):\n",
        "    print(\"순번 : \", i, '값 : ', value)"
      ],
      "metadata": {
        "colab": {
          "base_uri": "https://localhost:8080/"
        },
        "id": "ULAZnbl13lvP",
        "outputId": "662d1425-3eab-485f-f26e-6be3328006a4"
      },
      "execution_count": 2,
      "outputs": [
        {
          "output_type": "stream",
          "name": "stdout",
          "text": [
            "순번 :  0 값 :  a\n",
            "순번 :  1 값 :  b\n",
            "순번 :  2 값 :  c\n",
            "순번 :  3 값 :  d\n"
          ]
        }
      ]
    },
    {
      "cell_type": "code",
      "source": [
        "my_list = ['a', 'b', 'c', 'd']\n",
        "result_list = []\n",
        "\n",
        "for i in range(2):\n",
        "    for j in my_list:\n",
        "        result_list.append((i, j))\n",
        "\n",
        "print(result_list)"
      ],
      "metadata": {
        "colab": {
          "base_uri": "https://localhost:8080/"
        },
        "id": "35mtPFrw311q",
        "outputId": "af0762a3-5d0e-400a-9dd4-e5fd5d9805b2"
      },
      "execution_count": 3,
      "outputs": [
        {
          "output_type": "stream",
          "name": "stdout",
          "text": [
            "[(0, 'a'), (0, 'b'), (0, 'c'), (0, 'd'), (1, 'a'), (1, 'b'), (1, 'c'), (1, 'd')]\n"
          ]
        }
      ]
    },
    {
      "cell_type": "code",
      "source": [],
      "metadata": {
        "id": "Y5gB62tp4Jqt"
      },
      "execution_count": null,
      "outputs": []
    }
  ]
}