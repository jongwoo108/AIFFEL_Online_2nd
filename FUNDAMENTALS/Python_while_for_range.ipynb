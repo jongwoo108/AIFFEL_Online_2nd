{
  "nbformat": 4,
  "nbformat_minor": 0,
  "metadata": {
    "colab": {
      "provenance": []
    },
    "kernelspec": {
      "name": "python3",
      "display_name": "Python 3"
    },
    "language_info": {
      "name": "python"
    }
  },
  "cells": [
    {
      "cell_type": "code",
      "execution_count": null,
      "metadata": {
        "colab": {
          "base_uri": "https://localhost:8080/"
        },
        "id": "pWGPG__2e2pj",
        "outputId": "32a895d3-0d10-4d5f-dddc-4de97c174d68"
      },
      "outputs": [
        {
          "output_type": "stream",
          "name": "stdout",
          "text": [
            "1\n",
            "2\n",
            "3\n",
            "4\n",
            "5\n",
            "6\n",
            "7\n",
            "8\n",
            "9\n",
            "10\n"
          ]
        }
      ],
      "source": [
        "num = 1\n",
        "while num <= 10:\n",
        "    print(num)\n",
        "    num += 1"
      ]
    },
    {
      "cell_type": "code",
      "source": [
        "# 등차수열의 합\n",
        "num = 1\n",
        "sum = 0\n",
        "while sum <= 1:\n",
        "    sum += num\n",
        "    num += 1\n",
        "print(sum)"
      ],
      "metadata": {
        "colab": {
          "base_uri": "https://localhost:8080/"
        },
        "id": "PblraqXzf4vm",
        "outputId": "54e7cfb2-18d6-4b7a-d1a3-483ce4220614"
      },
      "execution_count": null,
      "outputs": [
        {
          "output_type": "stream",
          "name": "stdout",
          "text": [
            "3\n"
          ]
        }
      ]
    },
    {
      "cell_type": "code",
      "source": [
        "num = 1             #num에 1을 할당\n",
        "sum = 0             #sum에 0을 할당\n",
        "while num <= 10:    #num이 10보다 작을 동안\n",
        "    sum += num      #sum은 기존 sum과 num을 더한 것이 되고,\n",
        "    num += 1        #num은 기존 num에 1을 더한 것이 된다.\n",
        "print(sum)          #while문 끝나면 sum 값을 출력"
      ],
      "metadata": {
        "colab": {
          "base_uri": "https://localhost:8080/"
        },
        "id": "xWk6uRiDgQTl",
        "outputId": "b10f3bc8-4c44-4bc9-d48b-e57ae5f47130"
      },
      "execution_count": null,
      "outputs": [
        {
          "output_type": "stream",
          "name": "stdout",
          "text": [
            "55\n"
          ]
        }
      ]
    },
    {
      "cell_type": "code",
      "source": [
        "# 꽈배기 품절일 때\n",
        "korean_pretzel = 10\n",
        "while korean_pretzel:\n",
        "    print('꽈배기', korean_pretzel, '개 있습니다.')\n",
        "    order = int(input('주문 개수 : '))\n",
        "    korean_pretzel -= order\n",
        "    print('남은 꽈배기는 ', korean_pretzel, '개 입니다.')\n",
        "    print('*'*25)\n",
        "    if korean_pretzel <= 0:\n",
        "        print('꽈배기 품절입니다.')\n",
        "        break"
      ],
      "metadata": {
        "colab": {
          "base_uri": "https://localhost:8080/"
        },
        "id": "7XRVviVVgnFd",
        "outputId": "60e7c602-4edb-4e74-af92-8e28527de21e"
      },
      "execution_count": null,
      "outputs": [
        {
          "output_type": "stream",
          "name": "stdout",
          "text": [
            "꽈배기 10 개 있습니다.\n",
            "주문 개수 : 50\n",
            "남은 꽈배기는  -40 개 입니다.\n",
            "*************************\n",
            "꽈배기 품절입니다.\n"
          ]
        }
      ]
    },
    {
      "cell_type": "code",
      "source": [
        "# break\n",
        "a = 0\n",
        "while a < 10:\n",
        "    a += 1\n",
        "    if a % 2 == 0:\n",
        "        break\n",
        "    print(a)"
      ],
      "metadata": {
        "colab": {
          "base_uri": "https://localhost:8080/"
        },
        "id": "lLoxObV6hGtq",
        "outputId": "966db979-b76d-40ac-b758-ea0d2479ccd4"
      },
      "execution_count": null,
      "outputs": [
        {
          "output_type": "stream",
          "name": "stdout",
          "text": [
            "1\n"
          ]
        }
      ]
    },
    {
      "cell_type": "code",
      "source": [
        "# continue\n",
        "a = 0\n",
        "while a < 10:\n",
        "    a += 1\n",
        "    if a % 2 == 0:\n",
        "        continue\n",
        "    print(a)"
      ],
      "metadata": {
        "colab": {
          "base_uri": "https://localhost:8080/"
        },
        "id": "EZDTyMONhT-5",
        "outputId": "b11a477e-c198-4d4a-c258-9e58bac94fb7"
      },
      "execution_count": null,
      "outputs": [
        {
          "output_type": "stream",
          "name": "stdout",
          "text": [
            "1\n",
            "3\n",
            "5\n",
            "7\n",
            "9\n"
          ]
        }
      ]
    },
    {
      "cell_type": "code",
      "source": [
        "# break\n",
        "a = 0                  # a는 0\n",
        "while a < 10:          # a가 10보다 작을 동안\n",
        "    a += 1             # a에 a+1의 값을 할당하고\n",
        "    if a % 2 == 0:     # 만약 a를 2로 나눈 나머지가 0과 동일하면\n",
        "        break          # 루프를 깨버리고 나온다.\n",
        "    print(a)           # (if문 블럭 밖이므로) a를 출력한다."
      ],
      "metadata": {
        "colab": {
          "base_uri": "https://localhost:8080/"
        },
        "id": "Zyg813AfikqF",
        "outputId": "e1851c52-2592-41b7-f63f-0b6924c7871c"
      },
      "execution_count": null,
      "outputs": [
        {
          "output_type": "stream",
          "name": "stdout",
          "text": [
            "1\n"
          ]
        }
      ]
    },
    {
      "cell_type": "code",
      "source": [
        "# continue\n",
        "a = 0                  # a는 0\n",
        "while a < 10:          # a가 10보다 작을 동안\n",
        "    a += 1             # a에 a+1의 값을 할당하고\n",
        "    if a % 2 == 0:     # 만약 a를 2로 나눈 나머지가 0과 동일하면\n",
        "        continue       # 넘어가고 루프 선두로 돌아가서 계속 루프를 탄다.\n",
        "    print(a)           # (if문 블럭 밖이므로) a를 출력한다."
      ],
      "metadata": {
        "colab": {
          "base_uri": "https://localhost:8080/"
        },
        "id": "NldWNCDjjAer",
        "outputId": "0ebf1aee-f5ba-4275-f54c-89fcf887388c"
      },
      "execution_count": null,
      "outputs": [
        {
          "output_type": "stream",
          "name": "stdout",
          "text": [
            "1\n",
            "3\n",
            "5\n",
            "7\n",
            "9\n"
          ]
        }
      ]
    },
    {
      "cell_type": "code",
      "source": [
        "# 리스트로 반복문 만들기\n",
        "a = [1, 2, 3]\n",
        "for i in a:\n",
        "    print(i, '번 출력')"
      ],
      "metadata": {
        "colab": {
          "base_uri": "https://localhost:8080/"
        },
        "id": "l7H6tsR9jI9-",
        "outputId": "31f2ddd3-e817-4d56-b373-91388e3c8f22"
      },
      "execution_count": null,
      "outputs": [
        {
          "output_type": "stream",
          "name": "stdout",
          "text": [
            "1 번 출력\n",
            "2 번 출력\n",
            "3 번 출력\n"
          ]
        }
      ]
    },
    {
      "cell_type": "code",
      "source": [
        "# 문자열로 반복문 만들기\n",
        "a = 'aiffel'\n",
        "for i in a:\n",
        "    print(i)"
      ],
      "metadata": {
        "colab": {
          "base_uri": "https://localhost:8080/"
        },
        "id": "UGLFY_McjfBq",
        "outputId": "6dbfca41-9ff1-4e76-97b5-2d60f4736a5f"
      },
      "execution_count": null,
      "outputs": [
        {
          "output_type": "stream",
          "name": "stdout",
          "text": [
            "a\n",
            "i\n",
            "f\n",
            "f\n",
            "e\n",
            "l\n"
          ]
        }
      ]
    },
    {
      "cell_type": "code",
      "source": [
        "# 다양한 for문 활용\n",
        "a = [('apple', '사과'), ('banana', '바나나'), ('melon', '멜론')]\n",
        "for (en, ko) in a:\n",
        "    print(en, '는(은) 한국어로', ko, '입니다.')"
      ],
      "metadata": {
        "colab": {
          "base_uri": "https://localhost:8080/"
        },
        "id": "Acc2kFOZjjpa",
        "outputId": "7963753b-0075-406b-dcad-fb57f5b36ffe"
      },
      "execution_count": null,
      "outputs": [
        {
          "output_type": "stream",
          "name": "stdout",
          "text": [
            "apple 는(은) 한국어로 사과 입니다.\n",
            "banana 는(은) 한국어로 바나나 입니다.\n",
            "melon 는(은) 한국어로 멜론 입니다.\n"
          ]
        }
      ]
    },
    {
      "cell_type": "code",
      "source": [
        "# for 문과 continue\n",
        "a = [('은정', 98), ('경애', 59), ('초희', 72), ('선영', 80), ('영미', 50)]\n",
        "for (name, score) in a:\n",
        "    if score < 60:                          #score가 60미만이면\n",
        "        continue                            #이번 루프는 넘기고 처음으로 돌아간다.\n",
        "    print(name, '님 합격을 축하합니다.')    #아니면 해당 내용을 출력."
      ],
      "metadata": {
        "id": "fOUe-H4Zjy-i",
        "colab": {
          "base_uri": "https://localhost:8080/"
        },
        "outputId": "224c3ca0-8ba7-47cf-f42f-693e95f6590b"
      },
      "execution_count": 1,
      "outputs": [
        {
          "output_type": "stream",
          "name": "stdout",
          "text": [
            "은정 님 합격을 축하합니다.\n",
            "초희 님 합격을 축하합니다.\n",
            "선영 님 합격을 축하합니다.\n"
          ]
        }
      ]
    },
    {
      "cell_type": "markdown",
      "source": [
        "for문 + range 함수\\\n",
        "for문은 range함수와 자주 쓰인다.\\\n",
        "range(시작 값, 끝 값+1, 증가 값)의 형태로 사용\\\n",
        "시작 값, 증가값은 생략 가능, 그 값은 자동으로 0, 1"
      ],
      "metadata": {
        "id": "Br5f0wgLDumP"
      }
    },
    {
      "cell_type": "code",
      "source": [
        "for i in range(0, 6, 2):\n",
        "    print(i)"
      ],
      "metadata": {
        "colab": {
          "base_uri": "https://localhost:8080/"
        },
        "id": "dF746Jm0FMLo",
        "outputId": "8cf72650-c976-4223-f66f-feb6a439439b"
      },
      "execution_count": 2,
      "outputs": [
        {
          "output_type": "stream",
          "name": "stdout",
          "text": [
            "0\n",
            "2\n",
            "4\n"
          ]
        }
      ]
    },
    {
      "cell_type": "code",
      "source": [
        "for i in range(0, 6, 1):\n",
        "    print(i)"
      ],
      "metadata": {
        "colab": {
          "base_uri": "https://localhost:8080/"
        },
        "id": "05fSjroMFRyk",
        "outputId": "e3f30b13-50e7-4870-f6ec-840e63721a31"
      },
      "execution_count": 3,
      "outputs": [
        {
          "output_type": "stream",
          "name": "stdout",
          "text": [
            "0\n",
            "1\n",
            "2\n",
            "3\n",
            "4\n",
            "5\n"
          ]
        }
      ]
    },
    {
      "cell_type": "code",
      "source": [
        "# 증가 값 생략\n",
        "for i in range(6):\n",
        "    print(i)"
      ],
      "metadata": {
        "colab": {
          "base_uri": "https://localhost:8080/"
        },
        "id": "ce3ak2zrFWYo",
        "outputId": "a18d03fe-3bdd-4bfe-8890-82d8b6bb536f"
      },
      "execution_count": 4,
      "outputs": [
        {
          "output_type": "stream",
          "name": "stdout",
          "text": [
            "0\n",
            "1\n",
            "2\n",
            "3\n",
            "4\n",
            "5\n"
          ]
        }
      ]
    },
    {
      "cell_type": "code",
      "source": [
        "# 음수인 증가값과 함께 쓰면 역순으로도 가능\n",
        "for i in range(6, 0, -1):\n",
        "    print(i)"
      ],
      "metadata": {
        "colab": {
          "base_uri": "https://localhost:8080/"
        },
        "id": "pFw2F2N7FbaQ",
        "outputId": "d5704f4b-35b2-4e25-d275-09b564039a23"
      },
      "execution_count": 6,
      "outputs": [
        {
          "output_type": "stream",
          "name": "stdout",
          "text": [
            "6\n",
            "5\n",
            "4\n",
            "3\n",
            "2\n",
            "1\n"
          ]
        }
      ]
    },
    {
      "cell_type": "code",
      "source": [
        "# 0까지 출력하고 싶다면 '0-1'값을 넣어주면 된다.\n",
        "for i in range(6, -1, -2):\n",
        "    print(i)"
      ],
      "metadata": {
        "colab": {
          "base_uri": "https://localhost:8080/"
        },
        "id": "ru9Yvf3RFiZa",
        "outputId": "b7bb218f-b073-49ca-e2b0-28a61b868502"
      },
      "execution_count": 7,
      "outputs": [
        {
          "output_type": "stream",
          "name": "stdout",
          "text": [
            "6\n",
            "4\n",
            "2\n",
            "0\n"
          ]
        }
      ]
    },
    {
      "cell_type": "code",
      "source": [
        "for i in range(6, -1, -1):\n",
        "    print(i)"
      ],
      "metadata": {
        "colab": {
          "base_uri": "https://localhost:8080/"
        },
        "id": "yQ0FnNpzFuqN",
        "outputId": "bc65835e-bccc-4877-883a-15913f818ae0"
      },
      "execution_count": 8,
      "outputs": [
        {
          "output_type": "stream",
          "name": "stdout",
          "text": [
            "6\n",
            "5\n",
            "4\n",
            "3\n",
            "2\n",
            "1\n",
            "0\n"
          ]
        }
      ]
    },
    {
      "cell_type": "code",
      "source": [],
      "metadata": {
        "id": "S_nAD_vCFyH_"
      },
      "execution_count": null,
      "outputs": []
    }
  ]
}