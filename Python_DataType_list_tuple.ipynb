{
  "nbformat": 4,
  "nbformat_minor": 0,
  "metadata": {
    "colab": {
      "provenance": [],
      "authorship_tag": "ABX9TyM41EvJMAwZISOhOD4hMsda",
      "include_colab_link": true
    },
    "kernelspec": {
      "name": "python3",
      "display_name": "Python 3"
    },
    "language_info": {
      "name": "python"
    }
  },
  "cells": [
    {
      "cell_type": "markdown",
      "metadata": {
        "id": "view-in-github",
        "colab_type": "text"
      },
      "source": [
        "<a href=\"https://colab.research.google.com/github/jongwoo108/AIFFEL_Online_2nd/blob/main/Python_DataType_list_tuple.ipynb\" target=\"_parent\"><img src=\"https://colab.research.google.com/assets/colab-badge.svg\" alt=\"Open In Colab\"/></a>"
      ]
    },
    {
      "cell_type": "markdown",
      "source": [
        "# 파이썬 기초"
      ],
      "metadata": {
        "id": "2U6SfZzsYdmR"
      }
    },
    {
      "cell_type": "markdown",
      "source": [
        "파이썬 이스터에그"
      ],
      "metadata": {
        "id": "lPLN-_ADYgf9"
      }
    },
    {
      "cell_type": "code",
      "source": [
        "import this"
      ],
      "metadata": {
        "id": "xIf4dhTiYGCW"
      },
      "execution_count": 14,
      "outputs": []
    },
    {
      "cell_type": "markdown",
      "source": [
        "---"
      ],
      "metadata": {
        "id": "PpCfkxagcPzc"
      }
    },
    {
      "cell_type": "markdown",
      "source": [
        "파이썬 자료형"
      ],
      "metadata": {
        "id": "cmG40gyvZOHp"
      }
    },
    {
      "cell_type": "code",
      "source": [
        "123  #숫자"
      ],
      "metadata": {
        "colab": {
          "base_uri": "https://localhost:8080/"
        },
        "id": "mx6TcMejYGFw",
        "outputId": "455f08f2-99b0-4361-db64-6f4a51c2ee85"
      },
      "execution_count": 6,
      "outputs": [
        {
          "output_type": "execute_result",
          "data": {
            "text/plain": [
              "123"
            ]
          },
          "metadata": {},
          "execution_count": 6
        }
      ]
    },
    {
      "cell_type": "code",
      "source": [
        "1+2+3+4+5  #수식"
      ],
      "metadata": {
        "colab": {
          "base_uri": "https://localhost:8080/"
        },
        "id": "40WljlgHYpQ_",
        "outputId": "392ac4f8-5595-4352-9263-ab1d1eb65903"
      },
      "execution_count": 7,
      "outputs": [
        {
          "output_type": "execute_result",
          "data": {
            "text/plain": [
              "15"
            ]
          },
          "metadata": {},
          "execution_count": 7
        }
      ]
    },
    {
      "cell_type": "code",
      "source": [
        "'Hello World'  #문자열"
      ],
      "metadata": {
        "colab": {
          "base_uri": "https://localhost:8080/",
          "height": 35
        },
        "id": "XhsK-GHEYrA4",
        "outputId": "cda1717b-fa2f-4481-c8af-4a4d18617abb"
      },
      "execution_count": 8,
      "outputs": [
        {
          "output_type": "execute_result",
          "data": {
            "text/plain": [
              "'Hello World'"
            ],
            "application/vnd.google.colaboratory.intrinsic+json": {
              "type": "string"
            }
          },
          "metadata": {},
          "execution_count": 8
        }
      ]
    },
    {
      "cell_type": "code",
      "source": [
        "print('Hello, World!')   #문장"
      ],
      "metadata": {
        "colab": {
          "base_uri": "https://localhost:8080/"
        },
        "id": "IlrHwV3BY0BB",
        "outputId": "b6a36ba3-0a0d-461c-bc97-b545a5f30618"
      },
      "execution_count": 9,
      "outputs": [
        {
          "output_type": "stream",
          "name": "stdout",
          "text": [
            "Hello, World!\n"
          ]
        }
      ]
    },
    {
      "cell_type": "markdown",
      "source": [
        "---"
      ],
      "metadata": {
        "id": "r6FSbI2VcTQi"
      }
    },
    {
      "cell_type": "markdown",
      "source": [
        "프로그램"
      ],
      "metadata": {
        "id": "T-OKusuqZKMg"
      }
    },
    {
      "cell_type": "code",
      "source": [
        "overlap = [[1, 2], 3, [[4, 5, 6], 7], 8, 9]"
      ],
      "metadata": {
        "id": "BD3Ll7qqY7X-"
      },
      "execution_count": 12,
      "outputs": []
    },
    {
      "cell_type": "code",
      "source": [
        "for element in overlap:\n",
        "    print(element)"
      ],
      "metadata": {
        "colab": {
          "base_uri": "https://localhost:8080/"
        },
        "id": "QTJW_NJfZCEc",
        "outputId": "1d64e0b2-319c-4279-c565-ce8ece49f6ef"
      },
      "execution_count": 13,
      "outputs": [
        {
          "output_type": "stream",
          "name": "stdout",
          "text": [
            "[1, 2]\n",
            "3\n",
            "[[4, 5, 6], 7]\n",
            "8\n",
            "9\n"
          ]
        }
      ]
    },
    {
      "cell_type": "markdown",
      "source": [
        "식별자"
      ],
      "metadata": {
        "id": "uqMiGd5mZETx"
      }
    },
    {
      "cell_type": "markdown",
      "source": [
        "1. 예약어(키워드)는 사용하면안된다.\n",
        "2. 특수문자는 언더바(_)만 허용\n",
        "3. 숫자로 시작하면 안된다.\n",
        "4. 공백을 포함할 수 없다. \\\n",
        "위 규칙에 맞는 단어는 식별자로 사용할 수 있다.\\\n",
        "예약어(키워드)는 말 그대로 파이썬에서 이미 예약된 내용이 있는 키워드이다.\n"
      ],
      "metadata": {
        "id": "IwE3xDrWZWBd"
      }
    },
    {
      "cell_type": "markdown",
      "source": [
        "스네이크와 캐멀"
      ],
      "metadata": {
        "id": "AmUyYZe1Z4sQ"
      }
    },
    {
      "cell_type": "code",
      "source": [
        "# 스네이크 케이스\n",
        "# 단어 사이에 언더 바(_) 기호를 쓰는 방법입니다.\n",
        "# time_list, login_status, rotate_table"
      ],
      "metadata": {
        "id": "lPjnftAFZ8bB"
      },
      "execution_count": 29,
      "outputs": []
    },
    {
      "cell_type": "code",
      "source": [
        "# 캐멀 케이스\n",
        "# 단어들의 첫 글자를 대문자로 쓰는 방법입니다.\n",
        "# TimeList, LoginStatus, RotateTable"
      ],
      "metadata": {
        "id": "WWL3L_TPaJsM"
      },
      "execution_count": 17,
      "outputs": []
    },
    {
      "cell_type": "code",
      "source": [
        "#여러개 출력하기\n",
        "print('출력1, 출력2, ...')"
      ],
      "metadata": {
        "colab": {
          "base_uri": "https://localhost:8080/"
        },
        "id": "akujWFHfaTBk",
        "outputId": "be28cd8b-9b61-45c4-f315-3d77ec6e233b"
      },
      "execution_count": 22,
      "outputs": [
        {
          "output_type": "stream",
          "name": "stdout",
          "text": [
            "출력1, 출력2, ...\n"
          ]
        }
      ]
    },
    {
      "cell_type": "code",
      "source": [
        "#여러개 출력하기\n",
        "print('안녕', 111 ,'123')"
      ],
      "metadata": {
        "colab": {
          "base_uri": "https://localhost:8080/"
        },
        "id": "lfqmIa7pagCN",
        "outputId": "dd661dc8-be8e-4dbf-ab9e-2603bd4149bf"
      },
      "execution_count": 23,
      "outputs": [
        {
          "output_type": "stream",
          "name": "stdout",
          "text": [
            "안녕 111 123\n"
          ]
        }
      ]
    },
    {
      "cell_type": "code",
      "source": [
        "#비어있는 print()\n",
        "print()"
      ],
      "metadata": {
        "colab": {
          "base_uri": "https://localhost:8080/"
        },
        "id": "xd-2Bq4manbg",
        "outputId": "d98e1d3e-777a-4d74-e3c2-b1670771cbc0"
      },
      "execution_count": 24,
      "outputs": [
        {
          "output_type": "stream",
          "name": "stdout",
          "text": [
            "\n"
          ]
        }
      ]
    },
    {
      "cell_type": "code",
      "source": [
        "print('-'*25)\n",
        "print()\n",
        "print()\n",
        "print('-'*25)"
      ],
      "metadata": {
        "colab": {
          "base_uri": "https://localhost:8080/"
        },
        "id": "u_HNkwP4apO5",
        "outputId": "249a8f44-e13d-40ec-cb93-28100738a697"
      },
      "execution_count": 25,
      "outputs": [
        {
          "output_type": "stream",
          "name": "stdout",
          "text": [
            "-------------------------\n",
            "\n",
            "\n",
            "-------------------------\n"
          ]
        }
      ]
    },
    {
      "cell_type": "markdown",
      "source": [
        "---"
      ],
      "metadata": {
        "id": "u6KAQoT_cart"
      }
    },
    {
      "cell_type": "markdown",
      "source": [
        "리스트 자료형"
      ],
      "metadata": {
        "id": "Jk6KFizha6-Q"
      }
    },
    {
      "cell_type": "markdown",
      "source": [
        "리스트(list)\n",
        "* 개별 변수는 정수면 정수, 실수면 실수 식으로 하나의 값만 저장하는 데 비해 리스트는 여러 개의 값을 순서가 있는 모음으로 저장.\n",
        "* 대괄호[] 안에 요소를 콤마,로 구분해준다.\n",
        "* 리스트에 소속되는 각각의 값을 요소(element)라고한다.\n",
        "* 리스트 안에는 어떠한 자료형도 포함시킬 수 있다.\n",
        "* 비어있는 리스트도 생성할 수 있다."
      ],
      "metadata": {
        "id": "D4OWQU3CbEg6"
      }
    },
    {
      "cell_type": "code",
      "source": [
        "# 리스트 안에는 어떠한 자료형도 포함시킬 수 있다.\n",
        "a = [1, 2, 3]\n",
        "b = ['AIFFEL', '화이팅']\n",
        "c = [1, 2, 'AIFFEL', '화이팅']\n",
        "d = [1, 2, ['AIFFEL', '화이팅']]"
      ],
      "metadata": {
        "id": "CAJiF33XbK-h"
      },
      "execution_count": 26,
      "outputs": []
    },
    {
      "cell_type": "code",
      "source": [
        "# 비어 있는 리스트로 생성할 수 있다.\n",
        "e = []"
      ],
      "metadata": {
        "id": "zLoYRWAbbtqb"
      },
      "execution_count": 27,
      "outputs": []
    },
    {
      "cell_type": "code",
      "source": [
        "# list() 함수를 사용해서 빈 리스트를 만들 수 있다.\n",
        "f = list()\n",
        "f"
      ],
      "metadata": {
        "colab": {
          "base_uri": "https://localhost:8080/"
        },
        "id": "2DaMRcuhbyPi",
        "outputId": "e958d4a7-734c-4152-8172-a179f208ec61"
      },
      "execution_count": 28,
      "outputs": [
        {
          "output_type": "execute_result",
          "data": {
            "text/plain": [
              "[]"
            ]
          },
          "metadata": {},
          "execution_count": 28
        }
      ]
    },
    {
      "cell_type": "markdown",
      "source": [
        "---"
      ],
      "metadata": {
        "id": "JY7o6yWpcgpd"
      }
    },
    {
      "cell_type": "markdown",
      "source": [
        "리스트의 인덱싱 & 슬라이싱"
      ],
      "metadata": {
        "id": "REQ7M9YRb1wW"
      }
    },
    {
      "cell_type": "markdown",
      "source": [
        "* 문자열 때 배웠떤 인덱싱 & 슬라이싱이 리스트에서도 가능\n",
        "* 문자열 인덱싱 & 슬라이싱과 동일한 방버으로 다룰 수 있다.\n",
        "* 리스트 안에 element인 리스트도 인덱싱할 수 있다."
      ],
      "metadata": {
        "id": "WJ1SRbPNcCv_"
      }
    },
    {
      "cell_type": "code",
      "source": [
        "# 문자열과 동일하게 인덱싱\n",
        "a = [1, 2, 3, 4, 5]\n",
        "a[4]"
      ],
      "metadata": {
        "colab": {
          "base_uri": "https://localhost:8080/"
        },
        "id": "PUfMCSt9cNJE",
        "outputId": "636e45b3-dae5-40b4-c3bb-5e159b895e93"
      },
      "execution_count": 30,
      "outputs": [
        {
          "output_type": "execute_result",
          "data": {
            "text/plain": [
              "5"
            ]
          },
          "metadata": {},
          "execution_count": 30
        }
      ]
    },
    {
      "cell_type": "code",
      "source": [
        "a[-1]"
      ],
      "metadata": {
        "colab": {
          "base_uri": "https://localhost:8080/"
        },
        "id": "jopMjYERcmt3",
        "outputId": "65d13d1d-c19c-4b2c-c2e8-f12b7eba3136"
      },
      "execution_count": 31,
      "outputs": [
        {
          "output_type": "execute_result",
          "data": {
            "text/plain": [
              "5"
            ]
          },
          "metadata": {},
          "execution_count": 31
        }
      ]
    },
    {
      "cell_type": "code",
      "source": [
        "#리스트 안에 element인 리스트도 인덱싱 할 수 있다.\n",
        "a = [1, 2, ['AIFFEL', '화이팅'], 3, 4]\n",
        "a[2]"
      ],
      "metadata": {
        "colab": {
          "base_uri": "https://localhost:8080/"
        },
        "id": "--bhE1LicpAt",
        "outputId": "27ce11cb-f695-4750-bf04-8ce7a0c65817"
      },
      "execution_count": 32,
      "outputs": [
        {
          "output_type": "execute_result",
          "data": {
            "text/plain": [
              "['AIFFEL', '화이팅']"
            ]
          },
          "metadata": {},
          "execution_count": 32
        }
      ]
    },
    {
      "cell_type": "code",
      "source": [
        "#'AIFFEL'만 인덱싱 할 수 있다.\n",
        "a[2][0]"
      ],
      "metadata": {
        "colab": {
          "base_uri": "https://localhost:8080/",
          "height": 35
        },
        "id": "njsgHSCrcyq2",
        "outputId": "6338689d-2aaa-49f1-b8b6-5d28f94ace84"
      },
      "execution_count": 33,
      "outputs": [
        {
          "output_type": "execute_result",
          "data": {
            "text/plain": [
              "'AIFFEL'"
            ],
            "application/vnd.google.colaboratory.intrinsic+json": {
              "type": "string"
            }
          },
          "metadata": {},
          "execution_count": 33
        }
      ]
    },
    {
      "cell_type": "code",
      "source": [
        "list1 = [1, 2, 3]\n",
        "list2 = ['a', 'b', 'c']\n",
        "list1 + list2"
      ],
      "metadata": {
        "colab": {
          "base_uri": "https://localhost:8080/"
        },
        "id": "zcKOjF5Zc43C",
        "outputId": "05cdab69-dd55-4a9e-bdd3-4e67f73639be"
      },
      "execution_count": 34,
      "outputs": [
        {
          "output_type": "execute_result",
          "data": {
            "text/plain": [
              "[1, 2, 3, 'a', 'b', 'c']"
            ]
          },
          "metadata": {},
          "execution_count": 34
        }
      ]
    },
    {
      "cell_type": "code",
      "source": [
        "list2 * 2"
      ],
      "metadata": {
        "colab": {
          "base_uri": "https://localhost:8080/"
        },
        "id": "LCLGWjApgZ68",
        "outputId": "611d1bf6-59f2-4c77-e992-ea36f464992e"
      },
      "execution_count": 35,
      "outputs": [
        {
          "output_type": "execute_result",
          "data": {
            "text/plain": [
              "['a', 'b', 'c', 'a', 'b', 'c']"
            ]
          },
          "metadata": {},
          "execution_count": 35
        }
      ]
    },
    {
      "cell_type": "code",
      "source": [
        "list1 * 3"
      ],
      "metadata": {
        "colab": {
          "base_uri": "https://localhost:8080/"
        },
        "id": "Ic5lk4ypgdPd",
        "outputId": "f0d38490-28cd-4fc3-f914-99614b8163b2"
      },
      "execution_count": 36,
      "outputs": [
        {
          "output_type": "execute_result",
          "data": {
            "text/plain": [
              "[1, 2, 3, 1, 2, 3, 1, 2, 3]"
            ]
          },
          "metadata": {},
          "execution_count": 36
        }
      ]
    },
    {
      "cell_type": "code",
      "source": [
        "len(list2 * 2)"
      ],
      "metadata": {
        "colab": {
          "base_uri": "https://localhost:8080/"
        },
        "id": "rE9NKltQgfAn",
        "outputId": "95493b64-5846-4b66-e951-d741b2418c28"
      },
      "execution_count": 37,
      "outputs": [
        {
          "output_type": "execute_result",
          "data": {
            "text/plain": [
              "6"
            ]
          },
          "metadata": {},
          "execution_count": 37
        }
      ]
    },
    {
      "cell_type": "markdown",
      "source": [
        "리스트의 수정 & 삭제(del)"
      ],
      "metadata": {
        "id": "dCVN6w5UghQx"
      }
    },
    {
      "cell_type": "markdown",
      "source": [
        "리스트의 요소는 수정(교체)할 수 있다."
      ],
      "metadata": {
        "id": "X64_SfTvgktZ"
      }
    },
    {
      "cell_type": "markdown",
      "source": [
        "* 리스트[인덱스] = 새 요소\\\n",
        "예약어 del을 이용해서 리스트 요소를 삭제할 수 있다."
      ],
      "metadata": {
        "id": "X8G3HiMPgp9s"
      }
    },
    {
      "cell_type": "markdown",
      "source": [
        "* del 객체\\\n",
        "예약어란?"
      ],
      "metadata": {
        "id": "x89oEO6Xgxbf"
      }
    },
    {
      "cell_type": "markdown",
      "source": [
        "* 특정 기능을 수행하도록 미리 예약되어 있는 단어\n",
        "* 함수와 다르다"
      ],
      "metadata": {
        "id": "uEmAcW6Lg2lT"
      }
    },
    {
      "cell_type": "code",
      "source": [
        "# 리스트의 요소는 수정(교체)할 수 있다.\n",
        "a = ['a', 'b', 7, 'd']\n",
        "a[2] = 'c'\n",
        "a"
      ],
      "metadata": {
        "colab": {
          "base_uri": "https://localhost:8080/"
        },
        "id": "6kE7VX8og7qN",
        "outputId": "231163a1-2d84-4f04-b8d0-06db7962c0c9"
      },
      "execution_count": 38,
      "outputs": [
        {
          "output_type": "execute_result",
          "data": {
            "text/plain": [
              "['a', 'b', 'c', 'd']"
            ]
          },
          "metadata": {},
          "execution_count": 38
        }
      ]
    },
    {
      "cell_type": "code",
      "source": [
        "# 예약어 del을 이용해서 리스트 요소를 삭제할 수 있다.\n",
        "a = ['a', 'b', 7, 'd']\n",
        "del a[2]\n",
        "a"
      ],
      "metadata": {
        "colab": {
          "base_uri": "https://localhost:8080/"
        },
        "id": "ry0pStXfhCOn",
        "outputId": "d6ef9e82-5213-4129-b1c9-69825e739d42"
      },
      "execution_count": 39,
      "outputs": [
        {
          "output_type": "execute_result",
          "data": {
            "text/plain": [
              "['a', 'b', 'd']"
            ]
          },
          "metadata": {},
          "execution_count": 39
        }
      ]
    },
    {
      "cell_type": "code",
      "source": [
        "# 아래 변수 a와 슬라이싱을 활용하여 b, c, d를 만들기\n",
        "a = [1, 2, 3, 4, 5]\n"
      ],
      "metadata": {
        "id": "fXf05eV1iAaS"
      },
      "execution_count": 43,
      "outputs": []
    },
    {
      "cell_type": "code",
      "source": [
        "# 변수 b에 리스트 [1, 2, 3]를 담는다.\n",
        "b = a[:3]\n",
        "b"
      ],
      "metadata": {
        "colab": {
          "base_uri": "https://localhost:8080/"
        },
        "id": "M3KJFMlsiPq2",
        "outputId": "81869fdf-b2b8-426f-d254-3bc41184d570"
      },
      "execution_count": 44,
      "outputs": [
        {
          "output_type": "execute_result",
          "data": {
            "text/plain": [
              "[1, 2, 3]"
            ]
          },
          "metadata": {},
          "execution_count": 44
        }
      ]
    },
    {
      "cell_type": "code",
      "source": [
        "# 변수 c에 리스트 [3, 4]를 담는다.\n",
        "c = a[2:4]\n",
        "c"
      ],
      "metadata": {
        "colab": {
          "base_uri": "https://localhost:8080/"
        },
        "id": "9ZTO_Qb9iQdD",
        "outputId": "6fe938a4-b59f-4e7b-900c-0f940f35886c"
      },
      "execution_count": 46,
      "outputs": [
        {
          "output_type": "execute_result",
          "data": {
            "text/plain": [
              "[3, 4]"
            ]
          },
          "metadata": {},
          "execution_count": 46
        }
      ]
    },
    {
      "cell_type": "code",
      "source": [
        "# 변수 d에 리스트 [3, 4, 5]를 담는다.\n",
        "d = a[-3:]\n",
        "d"
      ],
      "metadata": {
        "colab": {
          "base_uri": "https://localhost:8080/"
        },
        "id": "T6oOPq2PidK-",
        "outputId": "a0502a7e-67f0-45fb-dcab-11930f37d0c2"
      },
      "execution_count": 48,
      "outputs": [
        {
          "output_type": "execute_result",
          "data": {
            "text/plain": [
              "[3, 4, 5]"
            ]
          },
          "metadata": {},
          "execution_count": 48
        }
      ]
    },
    {
      "cell_type": "code",
      "source": [
        "print(b)\n",
        "print(c)\n",
        "print(d)"
      ],
      "metadata": {
        "colab": {
          "base_uri": "https://localhost:8080/"
        },
        "id": "8nkphv7cioSn",
        "outputId": "8f8ab9cd-eeb0-4b1e-aadd-01fb053b35ff"
      },
      "execution_count": 49,
      "outputs": [
        {
          "output_type": "stream",
          "name": "stdout",
          "text": [
            "[1, 2, 3]\n",
            "[3, 4]\n",
            "[3, 4, 5]\n"
          ]
        }
      ]
    },
    {
      "cell_type": "markdown",
      "source": [
        "리스트 관련 함수들"
      ],
      "metadata": {
        "id": "OhLeh1dwitpR"
      }
    },
    {
      "cell_type": "markdown",
      "source": [
        "추가(append(x))\\\n",
        "정렬(sort())\\\n",
        "뒤집기(reverse())\\\n",
        "위치 반환(index(x))\\\n",
        "요소 삽입(insert(a, b))\\\n",
        "요소 제거(remove(x))\\\n",
        "요소 끄집어내기(pop())\\\n",
        "특정 개수 세기(count(x))\\\n",
        "리스트 확장(extent(x))"
      ],
      "metadata": {
        "id": "hQiCSk5jiyhN"
      }
    },
    {
      "cell_type": "code",
      "source": [
        "# 추가(append(x))\n",
        "# 리스트 맨 마지막에 x를 추가하는 함수\n",
        "a = [1, 3, 5]\n",
        "a.append(7)\n",
        "a"
      ],
      "metadata": {
        "colab": {
          "base_uri": "https://localhost:8080/"
        },
        "id": "PWNqeBvtjFi0",
        "outputId": "d976a9dc-ec8a-4a74-9c19-9592ad9cb452"
      },
      "execution_count": 53,
      "outputs": [
        {
          "output_type": "execute_result",
          "data": {
            "text/plain": [
              "[1, 3, 5, 7]"
            ]
          },
          "metadata": {},
          "execution_count": 53
        }
      ]
    },
    {
      "cell_type": "code",
      "source": [
        "# 요소는 모든 자료형이 가능\n",
        "a.append([2, 4, 6, 8, 10])\n",
        "a"
      ],
      "metadata": {
        "colab": {
          "base_uri": "https://localhost:8080/"
        },
        "id": "10JJEM7ijQC7",
        "outputId": "62dece5a-5d07-4485-a8db-40a67a25da91"
      },
      "execution_count": 54,
      "outputs": [
        {
          "output_type": "execute_result",
          "data": {
            "text/plain": [
              "[1, 3, 5, 7, [2, 4, 6, 8, 10]]"
            ]
          },
          "metadata": {},
          "execution_count": 54
        }
      ]
    },
    {
      "cell_type": "code",
      "source": [
        "# 여러 요소를 넣으면 에러가뜬다.\n",
        "a.append(9, 11)"
      ],
      "metadata": {
        "colab": {
          "base_uri": "https://localhost:8080/",
          "height": 198
        },
        "id": "O_vZU9dajeLJ",
        "outputId": "8c8b1daf-c0f9-4281-afb2-c8e6bfcdc074"
      },
      "execution_count": 55,
      "outputs": [
        {
          "output_type": "error",
          "ename": "TypeError",
          "evalue": "ignored",
          "traceback": [
            "\u001b[0;31m---------------------------------------------------------------------------\u001b[0m",
            "\u001b[0;31mTypeError\u001b[0m                                 Traceback (most recent call last)",
            "\u001b[0;32m<ipython-input-55-cc689b1a7b5f>\u001b[0m in \u001b[0;36m<cell line: 2>\u001b[0;34m()\u001b[0m\n\u001b[1;32m      1\u001b[0m \u001b[0;31m# 여러 요소를 넣으면 에러가뜬다.\u001b[0m\u001b[0;34m\u001b[0m\u001b[0;34m\u001b[0m\u001b[0m\n\u001b[0;32m----> 2\u001b[0;31m \u001b[0ma\u001b[0m\u001b[0;34m.\u001b[0m\u001b[0mappend\u001b[0m\u001b[0;34m(\u001b[0m\u001b[0;36m9\u001b[0m\u001b[0;34m,\u001b[0m \u001b[0;36m11\u001b[0m\u001b[0;34m)\u001b[0m\u001b[0;34m\u001b[0m\u001b[0;34m\u001b[0m\u001b[0m\n\u001b[0m",
            "\u001b[0;31mTypeError\u001b[0m: list.append() takes exactly one argument (2 given)"
          ]
        }
      ]
    },
    {
      "cell_type": "code",
      "source": [
        "a"
      ],
      "metadata": {
        "colab": {
          "base_uri": "https://localhost:8080/"
        },
        "id": "1ByerzDHjkfy",
        "outputId": "65faa735-a3c4-458e-f6df-651ec8f2717c"
      },
      "execution_count": 56,
      "outputs": [
        {
          "output_type": "execute_result",
          "data": {
            "text/plain": [
              "[1, 3, 5, 7, [2, 4, 6, 8, 10]]"
            ]
          },
          "metadata": {},
          "execution_count": 56
        }
      ]
    },
    {
      "cell_type": "markdown",
      "source": [
        "정렬(sort())"
      ],
      "metadata": {
        "id": "jVl-Azzvjlpl"
      }
    },
    {
      "cell_type": "code",
      "source": [
        "# sort 함수는 괄호 안에 아무것도 넣지 않는다.\n",
        "a = [5, 2, 3, 4, 1]\n",
        "a.sort()\n",
        "a"
      ],
      "metadata": {
        "colab": {
          "base_uri": "https://localhost:8080/"
        },
        "id": "O_qz5-9NjnA2",
        "outputId": "fb679b9c-4fe7-463c-dfa9-a8852391fa84"
      },
      "execution_count": 59,
      "outputs": [
        {
          "output_type": "execute_result",
          "data": {
            "text/plain": [
              "[1, 2, 3, 4, 5]"
            ]
          },
          "metadata": {},
          "execution_count": 59
        }
      ]
    },
    {
      "cell_type": "markdown",
      "source": [
        "뒤집기(reverse())"
      ],
      "metadata": {
        "id": "kKMxWe4hkEtr"
      }
    },
    {
      "cell_type": "code",
      "source": [
        "# reverse 함수는 괄호 안에 아무것도 넣지 않는다.\n",
        "a = ['h', 'e', 'l', 'l', 'o']\n",
        "a.reverse()\n",
        "a"
      ],
      "metadata": {
        "colab": {
          "base_uri": "https://localhost:8080/"
        },
        "id": "rfjv60frjyn9",
        "outputId": "3365effb-afaf-4f2d-a223-c6817c0d9175"
      },
      "execution_count": 63,
      "outputs": [
        {
          "output_type": "execute_result",
          "data": {
            "text/plain": [
              "['o', 'l', 'l', 'e', 'h']"
            ]
          },
          "metadata": {},
          "execution_count": 63
        }
      ]
    },
    {
      "cell_type": "markdown",
      "source": [
        "위치 반환(index(x))"
      ],
      "metadata": {
        "id": "kDMaMRDBkBH5"
      }
    },
    {
      "cell_type": "code",
      "source": [
        "# index(x) 함수는 리스트에 x가 있으면 x의 위치 값을 돌려준다.\n",
        "a = ['h', 'e', 'l', 'l', 'o']\n",
        "a.index('e')"
      ],
      "metadata": {
        "colab": {
          "base_uri": "https://localhost:8080/"
        },
        "id": "l91bfhPykBcU",
        "outputId": "2a511a18-3247-4a13-aa82-ba44376df049"
      },
      "execution_count": 64,
      "outputs": [
        {
          "output_type": "execute_result",
          "data": {
            "text/plain": [
              "1"
            ]
          },
          "metadata": {},
          "execution_count": 64
        }
      ]
    },
    {
      "cell_type": "code",
      "source": [
        "# 중복인 요소가 있을 때 확인해보기\n",
        "a = ['h', 'e', 'l', 'l', 'o']\n",
        "a.index('l')"
      ],
      "metadata": {
        "colab": {
          "base_uri": "https://localhost:8080/"
        },
        "id": "k1xvvp3XkTL3",
        "outputId": "44337bab-a5ff-4517-d479-00d3749cd16b"
      },
      "execution_count": 65,
      "outputs": [
        {
          "output_type": "execute_result",
          "data": {
            "text/plain": [
              "2"
            ]
          },
          "metadata": {},
          "execution_count": 65
        }
      ]
    },
    {
      "cell_type": "code",
      "source": [
        "# 없는 요소를 x에 있을 때 확인해보기\n",
        "\n",
        "a = ['h', 'e', 'l', 'l', 'o']\n",
        "a.index('b')"
      ],
      "metadata": {
        "colab": {
          "base_uri": "https://localhost:8080/",
          "height": 216
        },
        "id": "wXsJfruNkcUd",
        "outputId": "cc6052ad-f1c5-4a4b-f282-5bbbd7c287e2"
      },
      "execution_count": 66,
      "outputs": [
        {
          "output_type": "error",
          "ename": "ValueError",
          "evalue": "ignored",
          "traceback": [
            "\u001b[0;31m---------------------------------------------------------------------------\u001b[0m",
            "\u001b[0;31mValueError\u001b[0m                                Traceback (most recent call last)",
            "\u001b[0;32m<ipython-input-66-60ddbc69fa9a>\u001b[0m in \u001b[0;36m<cell line: 4>\u001b[0;34m()\u001b[0m\n\u001b[1;32m      2\u001b[0m \u001b[0;34m\u001b[0m\u001b[0m\n\u001b[1;32m      3\u001b[0m \u001b[0ma\u001b[0m \u001b[0;34m=\u001b[0m \u001b[0;34m[\u001b[0m\u001b[0;34m'h'\u001b[0m\u001b[0;34m,\u001b[0m \u001b[0;34m'e'\u001b[0m\u001b[0;34m,\u001b[0m \u001b[0;34m'l'\u001b[0m\u001b[0;34m,\u001b[0m \u001b[0;34m'l'\u001b[0m\u001b[0;34m,\u001b[0m \u001b[0;34m'o'\u001b[0m\u001b[0;34m]\u001b[0m\u001b[0;34m\u001b[0m\u001b[0;34m\u001b[0m\u001b[0m\n\u001b[0;32m----> 4\u001b[0;31m \u001b[0ma\u001b[0m\u001b[0;34m.\u001b[0m\u001b[0mindex\u001b[0m\u001b[0;34m(\u001b[0m\u001b[0;34m'b'\u001b[0m\u001b[0;34m)\u001b[0m\u001b[0;34m\u001b[0m\u001b[0;34m\u001b[0m\u001b[0m\n\u001b[0m",
            "\u001b[0;31mValueError\u001b[0m: 'b' is not in list"
          ]
        }
      ]
    },
    {
      "cell_type": "markdown",
      "source": [
        "요소 삽입(insert(a, b))"
      ],
      "metadata": {
        "id": "fXv9k7Eak3_z"
      }
    },
    {
      "cell_type": "code",
      "source": [
        "#insert(a, b)는 a번째 위치에 b요소를 삽입한다.\n",
        "#위치 인덱스는 0부터 센다는 것을 잊지 말자.\n",
        "a = [1, 3, 5, 7, 9]\n",
        "a.insert(5, 11)\n",
        "a"
      ],
      "metadata": {
        "colab": {
          "base_uri": "https://localhost:8080/"
        },
        "id": "AHUv_YvFk9v-",
        "outputId": "4de1e87a-49a5-4eeb-f4c2-ece954b49dea"
      },
      "execution_count": 67,
      "outputs": [
        {
          "output_type": "execute_result",
          "data": {
            "text/plain": [
              "[1, 3, 5, 7, 9, 11]"
            ]
          },
          "metadata": {},
          "execution_count": 67
        }
      ]
    },
    {
      "cell_type": "markdown",
      "source": [
        "요소 제거(remove(x))"
      ],
      "metadata": {
        "id": "TeO-nRK6lJWH"
      }
    },
    {
      "cell_type": "code",
      "source": [
        "# remove(x)는 요소 x를 삭제한다.\n",
        "a = ['e', 'x', 't', 'e', 'n', 'd']\n",
        "a.remove('x')\n",
        "a"
      ],
      "metadata": {
        "colab": {
          "base_uri": "https://localhost:8080/"
        },
        "id": "-01SmVOFly1t",
        "outputId": "d9cf0c38-eccd-4b97-b427-15b67799feb7"
      },
      "execution_count": 68,
      "outputs": [
        {
          "output_type": "execute_result",
          "data": {
            "text/plain": [
              "['e', 't', 'e', 'n', 'd']"
            ]
          },
          "metadata": {},
          "execution_count": 68
        }
      ]
    },
    {
      "cell_type": "code",
      "source": [
        "# 중복인 요소가 있을 때 확인하기\n",
        "a = ['e', 'x', 't', 'e', 'n', 'd']\n",
        "a.remove('e')\n",
        "a"
      ],
      "metadata": {
        "colab": {
          "base_uri": "https://localhost:8080/"
        },
        "id": "diNmfddHmBjd",
        "outputId": "171e06a7-6d5c-40a3-a78a-12a593caec12"
      },
      "execution_count": 69,
      "outputs": [
        {
          "output_type": "execute_result",
          "data": {
            "text/plain": [
              "['x', 't', 'e', 'n', 'd']"
            ]
          },
          "metadata": {},
          "execution_count": 69
        }
      ]
    },
    {
      "cell_type": "markdown",
      "source": [
        "요소 끄집어내기(pop())"
      ],
      "metadata": {
        "id": "iASZaF33mSSG"
      }
    },
    {
      "cell_type": "code",
      "source": [
        "#pop()은 리스트 맨 마지막 요소를 반환하고 그 요소는 삭제한다.\n",
        "a = [1, 2, 3]\n",
        "a.pop()"
      ],
      "metadata": {
        "colab": {
          "base_uri": "https://localhost:8080/"
        },
        "id": "74yqduYImWP7",
        "outputId": "33f0a509-7134-4651-8660-ff94fb5888bb"
      },
      "execution_count": 70,
      "outputs": [
        {
          "output_type": "execute_result",
          "data": {
            "text/plain": [
              "3"
            ]
          },
          "metadata": {},
          "execution_count": 70
        }
      ]
    },
    {
      "cell_type": "code",
      "source": [
        "#pop() 함수 이후에 제거 되었는지 확인\n",
        "a"
      ],
      "metadata": {
        "colab": {
          "base_uri": "https://localhost:8080/"
        },
        "id": "dC_Voen0mcUw",
        "outputId": "10773402-5538-4686-c9f5-5dc9468ef79d"
      },
      "execution_count": 71,
      "outputs": [
        {
          "output_type": "execute_result",
          "data": {
            "text/plain": [
              "[1, 2]"
            ]
          },
          "metadata": {},
          "execution_count": 71
        }
      ]
    },
    {
      "cell_type": "code",
      "source": [
        "a.pop()"
      ],
      "metadata": {
        "colab": {
          "base_uri": "https://localhost:8080/"
        },
        "id": "pE0Rjp2pmgIl",
        "outputId": "3c275e7c-f5cc-4eda-fb6a-c16bcfd62e8e"
      },
      "execution_count": 72,
      "outputs": [
        {
          "output_type": "execute_result",
          "data": {
            "text/plain": [
              "2"
            ]
          },
          "metadata": {},
          "execution_count": 72
        }
      ]
    },
    {
      "cell_type": "code",
      "source": [
        "a"
      ],
      "metadata": {
        "colab": {
          "base_uri": "https://localhost:8080/"
        },
        "id": "awsMsxkEmixD",
        "outputId": "d078e8ea-d6ba-4451-e07a-3e40c4d0672f"
      },
      "execution_count": 73,
      "outputs": [
        {
          "output_type": "execute_result",
          "data": {
            "text/plain": [
              "[1]"
            ]
          },
          "metadata": {},
          "execution_count": 73
        }
      ]
    },
    {
      "cell_type": "code",
      "source": [
        "a = ['h', 'e', 'l', 'l', 'o']\n",
        "a.count('l')"
      ],
      "metadata": {
        "colab": {
          "base_uri": "https://localhost:8080/"
        },
        "id": "-tOIYbebmjHo",
        "outputId": "cc1f4e14-f2e7-4a61-f852-0c4461c00e89"
      },
      "execution_count": 74,
      "outputs": [
        {
          "output_type": "execute_result",
          "data": {
            "text/plain": [
              "2"
            ]
          },
          "metadata": {},
          "execution_count": 74
        }
      ]
    },
    {
      "cell_type": "code",
      "source": [
        "# extent(x)에서 리스트 x를 기존 리스트에 연결한다.\n",
        "# x는 리스트만 올 수 있다.\n",
        "\n",
        "a = [1, 2, 3]\n",
        "a.extend([4, 5, 6])\n",
        "a"
      ],
      "metadata": {
        "colab": {
          "base_uri": "https://localhost:8080/"
        },
        "id": "KGNdBICZmmTD",
        "outputId": "04f358f8-376b-4c3c-9fc0-8eebca23df75"
      },
      "execution_count": 75,
      "outputs": [
        {
          "output_type": "execute_result",
          "data": {
            "text/plain": [
              "[1, 2, 3, 4, 5, 6]"
            ]
          },
          "metadata": {},
          "execution_count": 75
        }
      ]
    },
    {
      "cell_type": "code",
      "source": [
        "#a.extend(b) 는 a += b와 동일하다."
      ],
      "metadata": {
        "id": "GtleT-YimyB0"
      },
      "execution_count": 77,
      "outputs": []
    },
    {
      "cell_type": "code",
      "source": [
        "a = [1, 2, 3]\n",
        "b = [4, 5, 6]\n",
        "a += b\n",
        "a"
      ],
      "metadata": {
        "colab": {
          "base_uri": "https://localhost:8080/"
        },
        "id": "1ZTaJC8Zm22x",
        "outputId": "f5f57795-6ba6-40ce-b890-a0f5781c55f8"
      },
      "execution_count": 78,
      "outputs": [
        {
          "output_type": "execute_result",
          "data": {
            "text/plain": [
              "[1, 2, 3, 4, 5, 6]"
            ]
          },
          "metadata": {},
          "execution_count": 78
        }
      ]
    },
    {
      "cell_type": "markdown",
      "source": [
        "#튜플 자료형"
      ],
      "metadata": {
        "id": "Za5cQTmlm8ao"
      }
    },
    {
      "cell_type": "markdown",
      "source": [
        "튜플이란?\n",
        "* 여러 개의 값이 모음이라는 점에서 리스트와 비슷하지만 수정할 수 없다는 점에서 다르다.\n",
        "* 소괄호()안에 요소를 콤마,로 구분.\\\n",
        "튜플명 = (요소1, 요소2, 요소3,...)\n",
        "* 소괄호()를 생략해도 무방하다.\n",
        "튜플명 = 요소1, 요소2, 요소3, ...\n",
        "* 튜플에 소속되는 각각의 값 또한 요소(element)라고 한다.\n",
        "* 튜플 안에는 어떠한 자료형도 포함시킬 수 있다.\n",
        "* 비어 있는 튜퓰도 생성할 수 있다.\n"
      ],
      "metadata": {
        "id": "rYQ4t7Qym-yN"
      }
    },
    {
      "cell_type": "markdown",
      "source": [
        "튜플에서 가능한 것과 불가능한 것"
      ],
      "metadata": {
        "id": "dtP6ATB1nc4H"
      }
    },
    {
      "cell_type": "markdown",
      "source": [
        "가능한 것\n",
        "* 튜플 요소를 인덱싱 & 슬라이싱 할 수 있다.\n",
        "* +연산자로 튜플을 연결할 수 있다.\n",
        "* (*) 연산자로 튜플을 반복할 수 있다."
      ],
      "metadata": {
        "id": "513mY_eFnlpg"
      }
    },
    {
      "cell_type": "code",
      "source": [
        "# 튜플 요소를 인덱싱 & 슬라이싱 할 수 있다.\n",
        "tu1 = 1, 2, 3, 4, 5\n",
        "tu1[0]"
      ],
      "metadata": {
        "colab": {
          "base_uri": "https://localhost:8080/"
        },
        "id": "UcyRKy0NnspW",
        "outputId": "be9cb329-5699-420c-ea72-4f3e7a841c07"
      },
      "execution_count": 82,
      "outputs": [
        {
          "output_type": "execute_result",
          "data": {
            "text/plain": [
              "1"
            ]
          },
          "metadata": {},
          "execution_count": 82
        }
      ]
    },
    {
      "cell_type": "code",
      "source": [
        "tu1[:3]"
      ],
      "metadata": {
        "colab": {
          "base_uri": "https://localhost:8080/"
        },
        "id": "KJ26LPMFn2m_",
        "outputId": "a4971d2b-3cdf-416e-a066-67bb8b5ddf67"
      },
      "execution_count": 85,
      "outputs": [
        {
          "output_type": "execute_result",
          "data": {
            "text/plain": [
              "(1, 2, 3)"
            ]
          },
          "metadata": {},
          "execution_count": 85
        }
      ]
    },
    {
      "cell_type": "code",
      "source": [
        "tu2 = 6, 7, 8, 9"
      ],
      "metadata": {
        "id": "HHhXvCJ-n4B7"
      },
      "execution_count": 86,
      "outputs": []
    },
    {
      "cell_type": "code",
      "source": [
        "tu1+tu2"
      ],
      "metadata": {
        "colab": {
          "base_uri": "https://localhost:8080/"
        },
        "id": "6ZI5dRUBn56Y",
        "outputId": "de9a1b71-56f1-416f-adae-feb0a31ac33b"
      },
      "execution_count": 87,
      "outputs": [
        {
          "output_type": "execute_result",
          "data": {
            "text/plain": [
              "(1, 2, 3, 4, 5, 6, 7, 8, 9)"
            ]
          },
          "metadata": {},
          "execution_count": 87
        }
      ]
    },
    {
      "cell_type": "code",
      "source": [
        "# * 연산자로 튜플 반복 가능\n",
        "tu1 = 1, 2, 3, 4, 5\n",
        "tu1 * 2"
      ],
      "metadata": {
        "colab": {
          "base_uri": "https://localhost:8080/"
        },
        "id": "Dgj-kIdHqYoG",
        "outputId": "dff63996-d54d-453f-afd8-64f1b302f6ed"
      },
      "execution_count": 88,
      "outputs": [
        {
          "output_type": "execute_result",
          "data": {
            "text/plain": [
              "(1, 2, 3, 4, 5, 1, 2, 3, 4, 5)"
            ]
          },
          "metadata": {},
          "execution_count": 88
        }
      ]
    },
    {
      "cell_type": "markdown",
      "source": [
        "불가능한 것\n",
        "* 튜플 요소를 변경하거나 삭제하는 것은 불가능하다"
      ],
      "metadata": {
        "id": "jrXOT05hqfdp"
      }
    },
    {
      "cell_type": "code",
      "source": [
        "# 튜플 요소는 변경이 불가능하다.\n",
        "\n",
        "tu1 = (2, 4, 6)\n",
        "tu1[0] = 1"
      ],
      "metadata": {
        "colab": {
          "base_uri": "https://localhost:8080/",
          "height": 216
        },
        "id": "bKfOU9Wlqj53",
        "outputId": "936ab6a6-fb99-4685-e763-08bc710ca2fc"
      },
      "execution_count": 89,
      "outputs": [
        {
          "output_type": "error",
          "ename": "TypeError",
          "evalue": "ignored",
          "traceback": [
            "\u001b[0;31m---------------------------------------------------------------------------\u001b[0m",
            "\u001b[0;31mTypeError\u001b[0m                                 Traceback (most recent call last)",
            "\u001b[0;32m<ipython-input-89-bab7b2a3bdfa>\u001b[0m in \u001b[0;36m<cell line: 4>\u001b[0;34m()\u001b[0m\n\u001b[1;32m      2\u001b[0m \u001b[0;34m\u001b[0m\u001b[0m\n\u001b[1;32m      3\u001b[0m \u001b[0mtu1\u001b[0m \u001b[0;34m=\u001b[0m \u001b[0;34m(\u001b[0m\u001b[0;36m2\u001b[0m\u001b[0;34m,\u001b[0m \u001b[0;36m4\u001b[0m\u001b[0;34m,\u001b[0m \u001b[0;36m6\u001b[0m\u001b[0;34m)\u001b[0m\u001b[0;34m\u001b[0m\u001b[0;34m\u001b[0m\u001b[0m\n\u001b[0;32m----> 4\u001b[0;31m \u001b[0mtu1\u001b[0m\u001b[0;34m[\u001b[0m\u001b[0;36m0\u001b[0m\u001b[0;34m]\u001b[0m \u001b[0;34m=\u001b[0m \u001b[0;36m1\u001b[0m\u001b[0;34m\u001b[0m\u001b[0;34m\u001b[0m\u001b[0m\n\u001b[0m",
            "\u001b[0;31mTypeError\u001b[0m: 'tuple' object does not support item assignment"
          ]
        }
      ]
    },
    {
      "cell_type": "code",
      "source": [
        "# 튜플 요소는 삭제가 불가능하다.\n",
        "\n",
        "tu1 = [2, 4, 6]\n",
        "del du1[0]"
      ],
      "metadata": {
        "colab": {
          "base_uri": "https://localhost:8080/",
          "height": 216
        },
        "id": "q_oVvzYYqo85",
        "outputId": "69efb891-10f4-4f25-b6da-ae438549fa78"
      },
      "execution_count": 90,
      "outputs": [
        {
          "output_type": "error",
          "ename": "NameError",
          "evalue": "ignored",
          "traceback": [
            "\u001b[0;31m---------------------------------------------------------------------------\u001b[0m",
            "\u001b[0;31mNameError\u001b[0m                                 Traceback (most recent call last)",
            "\u001b[0;32m<ipython-input-90-3f8695172746>\u001b[0m in \u001b[0;36m<cell line: 4>\u001b[0;34m()\u001b[0m\n\u001b[1;32m      2\u001b[0m \u001b[0;34m\u001b[0m\u001b[0m\n\u001b[1;32m      3\u001b[0m \u001b[0mtu1\u001b[0m \u001b[0;34m=\u001b[0m \u001b[0;34m[\u001b[0m\u001b[0;36m2\u001b[0m\u001b[0;34m,\u001b[0m \u001b[0;36m4\u001b[0m\u001b[0;34m,\u001b[0m \u001b[0;36m6\u001b[0m\u001b[0;34m]\u001b[0m\u001b[0;34m\u001b[0m\u001b[0;34m\u001b[0m\u001b[0m\n\u001b[0;32m----> 4\u001b[0;31m \u001b[0;32mdel\u001b[0m \u001b[0mdu1\u001b[0m\u001b[0;34m[\u001b[0m\u001b[0;36m0\u001b[0m\u001b[0;34m]\u001b[0m\u001b[0;34m\u001b[0m\u001b[0;34m\u001b[0m\u001b[0m\n\u001b[0m",
            "\u001b[0;31mNameError\u001b[0m: name 'du1' is not defined"
          ]
        }
      ]
    },
    {
      "cell_type": "markdown",
      "source": [
        "튜플을 사용하는 이유"
      ],
      "metadata": {
        "id": "El5LKllzq9fM"
      }
    },
    {
      "cell_type": "markdown",
      "source": [
        "* 튜플의 내부 구조가 단순한 만큼 더 적은 메모리를 사용, 읽는 속도가 빠르다.\n",
        "* 편집할 수 없기 때문에 안정적이다."
      ],
      "metadata": {
        "id": "sETMzwrRrAPr"
      }
    },
    {
      "cell_type": "code",
      "source": [],
      "metadata": {
        "id": "HT44Vs36rGgS"
      },
      "execution_count": null,
      "outputs": []
    }
  ]
}